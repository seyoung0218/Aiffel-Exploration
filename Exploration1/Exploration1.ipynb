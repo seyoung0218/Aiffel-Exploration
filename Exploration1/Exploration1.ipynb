{
  "nbformat": 4,
  "nbformat_minor": 0,
  "metadata": {
    "colab": {
      "name": "Exploration1.ipynb",
      "provenance": [],
      "collapsed_sections": []
    },
    "kernelspec": {
      "name": "python3",
      "display_name": "Python 3"
    },
    "language_info": {
      "name": "python"
    },
    "gpuClass": "standard"
  },
  "cells": [
    {
      "cell_type": "markdown",
      "source": [
        "# **손글씨를 분류해 봅시다 - 프로젝트1**\n",
        "손글씨 이미지를 제대로 0~9까지 열가지 카테고리로 분류해보는 실습을 해보겠습니다.\n",
        "\n",
        "## Step1. 필요한 모듈 import하기"
      ],
      "metadata": {
        "id": "NffIjTZ94Fnw"
      }
    },
    {
      "cell_type": "code",
      "source": [
        "# 필요한 모듈들을 먼저 불러옵니다.\n",
        "from sklearn.datasets import load_digits\n",
        "from sklearn.model_selection import train_test_split\n",
        "from sklearn.metrics import classification_report"
      ],
      "metadata": {
        "id": "1zCBte006B8M"
      },
      "execution_count": null,
      "outputs": []
    },
    {
      "cell_type": "markdown",
      "source": [
        "## Step2. 데이터 준비 및 이해"
      ],
      "metadata": {
        "id": "JJJwart1Tg90"
      }
    },
    {
      "cell_type": "code",
      "source": [
        "#손글씨 데이터 불러오기\n",
        "digit = load_digits()\n",
        "print(digit.keys())"
      ],
      "metadata": {
        "colab": {
          "base_uri": "https://localhost:8080/"
        },
        "id": "HhKKH9sP7O-S",
        "outputId": "f97e12af-42a4-44e9-fbcb-2328514ed28a"
      },
      "execution_count": null,
      "outputs": [
        {
          "output_type": "stream",
          "name": "stdout",
          "text": [
            "dict_keys(['data', 'target', 'frame', 'feature_names', 'target_names', 'images', 'DESCR'])\n"
          ]
        }
      ]
    },
    {
      "cell_type": "markdown",
      "source": [
        "데이터의 형태를 확인해보겠습니다."
      ],
      "metadata": {
        "id": "foHjGimOBZSM"
      }
    },
    {
      "cell_type": "code",
      "source": [
        "digit.data.shape"
      ],
      "metadata": {
        "colab": {
          "base_uri": "https://localhost:8080/"
        },
        "id": "qINNIPs9-Jj9",
        "outputId": "9ba313cb-5af6-4bc7-f198-f37e5f03ba24"
      },
      "execution_count": null,
      "outputs": [
        {
          "output_type": "execute_result",
          "data": {
            "text/plain": [
              "(1797, 64)"
            ]
          },
          "metadata": {},
          "execution_count": 4
        }
      ]
    },
    {
      "cell_type": "markdown",
      "source": [
        "총 1797개의 데이터가있고 특성은 64개가 있습니다. 이는 8X8크기의 이미지를 의미합니다. 어떻게 생겼는지 맷플롯립으로 그려보겠습니다."
      ],
      "metadata": {
        "id": "36_XSwd8-Vh0"
      }
    },
    {
      "cell_type": "code",
      "source": [
        "import matplotlib.pyplot as plt\n",
        "\n",
        "plt.imshow(digit.data[0].reshape(8, 8), cmap='gray') #데이터의 첫번째행을 그려봅니다.\n",
        "plt.axis('off') #축 제거\n",
        "plt.show()"
      ],
      "metadata": {
        "colab": {
          "base_uri": "https://localhost:8080/",
          "height": 248
        },
        "id": "TeMQfUO5A1GL",
        "outputId": "453af7c2-0906-4a69-c9df-3d5fc8b6ef24"
      },
      "execution_count": null,
      "outputs": [
        {
          "output_type": "display_data",
          "data": {
            "text/plain": [
              "<Figure size 432x288 with 1 Axes>"
            ],
            "image/png": "[encoded data removed]"
          },
          "metadata": {
            "needs_background": "light"
          }
        }
      ]
    },
    {
      "cell_type": "markdown",
      "source": [
        "손글씨로 0이 그려진 이미지인거 같습니다. 이어서 타겟데이터를 확인해 보겠습니다."
      ],
      "metadata": {
        "id": "sruca1fYBx-g"
      }
    },
    {
      "cell_type": "code",
      "source": [
        "print(digit.target.shape)\n",
        "print(digit.target)"
      ],
      "metadata": {
        "colab": {
          "base_uri": "https://localhost:8080/"
        },
        "id": "I--MgpKv-pru",
        "outputId": "29b2c12b-0b82-410f-d458-672770664c33"
      },
      "execution_count": null,
      "outputs": [
        {
          "output_type": "stream",
          "name": "stdout",
          "text": [
            "(1797,)\n",
            "[0 1 2 ... 8 9 8]\n"
          ]
        }
      ]
    },
    {
      "cell_type": "markdown",
      "source": [
        "데이터와 같은 개수의 타겟데이터가 존재하는걸 확인할 수 있습니다.\n",
        "그리고 타겟에 여러개의 숫자가 적혀있는것을 확인할 수 있습니다. 타겟레이블의 이 숫자들은 무엇을 의미하는걸까요? target_names로 확인해보겠습니다."
      ],
      "metadata": {
        "id": "9HsFkjuD-vm3"
      }
    },
    {
      "cell_type": "code",
      "source": [
        "digit.target_names"
      ],
      "metadata": {
        "colab": {
          "base_uri": "https://localhost:8080/"
        },
        "id": "rnjavYmp_UxY",
        "outputId": "4a0e6204-6dac-4c28-ca41-2e51c34091da"
      },
      "execution_count": null,
      "outputs": [
        {
          "output_type": "execute_result",
          "data": {
            "text/plain": [
              "array([0, 1, 2, 3, 4, 5, 6, 7, 8, 9])"
            ]
          },
          "metadata": {},
          "execution_count": 7
        }
      ]
    },
    {
      "cell_type": "markdown",
      "source": [
        "타겟레이블에는 0부터 9까지의 숫자들이 모여있습니다. 이것은 데이터에들어있는 각 이미지에 해당하는 숫자입니다. 그러면 풀어야할 문제는 각 이미지데이터와 타깃으로 모델을 훈련시키고 특정이미지가 주어졌을때 그 이미지가 뜻하는 숫자가 어떤 숫자인지 맞추는것입니다. \n",
        "\n",
        "## Step3. train,test 데이터분리\n",
        "\n",
        "훈련데이터와 테스트데이터를 생성해보겠습니다."
      ],
      "metadata": {
        "id": "9xobLyYw_noL"
      }
    },
    {
      "cell_type": "code",
      "source": [
        "X_train, X_test, y_train, y_test = train_test_split(digit.data, digit.target, test_size = 0.2, random_state = 15)\n",
        "print('X_train 개수 :', X_train.shape[0])\n",
        "print('X_test 개수 :', X_test.shape[0])\n",
        "print('y_train 개수 :', y_train.shape[0])\n",
        "print('y_test 개수:', y_test.shape[0])\n",
        "print('')\n",
        "print(y_train[:20])"
      ],
      "metadata": {
        "colab": {
          "base_uri": "https://localhost:8080/"
        },
        "id": "1hBlDBYmENP_",
        "outputId": "e158e883-b260-410d-c663-72adc58ed78a"
      },
      "execution_count": null,
      "outputs": [
        {
          "output_type": "stream",
          "name": "stdout",
          "text": [
            "X_train 개수 : 1437\n",
            "X_test 개수 : 360\n",
            "y_train 개수 : 1437\n",
            "y_test 개수: 360\n",
            "\n",
            "[6 4 3 3 2 1 7 6 8 9 7 4 0 1 3 4 4 1 2 0]\n"
          ]
        }
      ]
    },
    {
      "cell_type": "markdown",
      "source": [
        "훈련데이터와 테스트데이터가 4:1비율로 잘 섞였고, 타깃데이터를 확인해보니 랜덤으로 잘 섞여진것같아 훈련하는데 문제는 없을 것 같습니다.\n",
        "\n",
        "## Step4. 다양한 모델로 학습시키기\n",
        "\n",
        "# Decision Tree\n",
        "Decision Tree모델을 세워보고 성능을 확인해봅시다."
      ],
      "metadata": {
        "id": "Lwo_DTMLFbu_"
      }
    },
    {
      "cell_type": "code",
      "source": [
        "from sklearn.tree import DecisionTreeClassifier\n",
        "decision_tree = DecisionTreeClassifier(random_state=15) # 모델 세우기\n",
        "decision_tree.fit(X_train, y_train) # 모델 훈련시키기\n",
        "y_pred = decision_tree.predict(X_test) # 해당 모델을 이용해 테스트데이터를 예측해 y_pred에 집어넣습니다\n"
      ],
      "metadata": {
        "id": "wRp10p58GYOw"
      },
      "execution_count": null,
      "outputs": []
    },
    {
      "cell_type": "markdown",
      "source": [
        "해당 모델의 최종 평가를 확인해봅시다."
      ],
      "metadata": {
        "id": "BoOBSH-OHocC"
      }
    },
    {
      "cell_type": "code",
      "source": [
        "print(classification_report(y_test, y_pred)) # 모델 성능을 평가해봅니다"
      ],
      "metadata": {
        "colab": {
          "base_uri": "https://localhost:8080/"
        },
        "id": "tSoNuQlEHrbt",
        "outputId": "83680400-01c2-4586-931a-1b4433b741d3"
      },
      "execution_count": null,
      "outputs": [
        {
          "output_type": "stream",
          "name": "stdout",
          "text": [
            "              precision    recall  f1-score   support\n",
            "\n",
            "           0       1.00      0.90      0.95        31\n",
            "           1       0.84      0.82      0.83        38\n",
            "           2       0.73      0.87      0.80        38\n",
            "           3       0.71      0.74      0.73        27\n",
            "           4       0.94      0.80      0.87        41\n",
            "           5       0.87      0.94      0.90        35\n",
            "           6       0.87      0.89      0.88        38\n",
            "           7       0.91      0.94      0.93        34\n",
            "           8       0.79      0.77      0.78        35\n",
            "           9       0.80      0.77      0.79        43\n",
            "\n",
            "    accuracy                           0.84       360\n",
            "   macro avg       0.85      0.85      0.84       360\n",
            "weighted avg       0.85      0.84      0.85       360\n",
            "\n"
          ]
        }
      ]
    },
    {
      "cell_type": "markdown",
      "source": [
        "해당 모델의 정확도는 84%가 나왔습니다.\n",
        "다음으로 Random Forest모델을 사용해 보겠습니다.\n",
        "\n",
        "# Random Forest"
      ],
      "metadata": {
        "id": "Dowq8b1UII7O"
      }
    },
    {
      "cell_type": "code",
      "source": [
        "from sklearn.ensemble import RandomForestClassifier\n",
        "RFC = RandomForestClassifier(random_state=15) # 모델 세우기\n",
        "RFC.fit(X_train,y_train) # 모델 훈련\n",
        "y_pred2 = RFC.predict(X_test) # 테스트데이터 예측\n",
        "print(classification_report(y_test, y_pred2)) # 모델 성능 평가"
      ],
      "metadata": {
        "colab": {
          "base_uri": "https://localhost:8080/"
        },
        "id": "-mI6p20jIUeB",
        "outputId": "718cab31-6454-4805-f9b3-f4cfd2484a36"
      },
      "execution_count": null,
      "outputs": [
        {
          "output_type": "stream",
          "name": "stdout",
          "text": [
            "              precision    recall  f1-score   support\n",
            "\n",
            "           0       0.97      0.94      0.95        31\n",
            "           1       0.97      0.97      0.97        38\n",
            "           2       1.00      1.00      1.00        38\n",
            "           3       0.96      0.96      0.96        27\n",
            "           4       0.95      0.98      0.96        41\n",
            "           5       0.97      1.00      0.99        35\n",
            "           6       1.00      0.97      0.99        38\n",
            "           7       0.97      1.00      0.99        34\n",
            "           8       0.97      0.94      0.96        35\n",
            "           9       0.98      0.98      0.98        43\n",
            "\n",
            "    accuracy                           0.97       360\n",
            "   macro avg       0.97      0.97      0.97       360\n",
            "weighted avg       0.98      0.97      0.97       360\n",
            "\n"
          ]
        }
      ]
    },
    {
      "cell_type": "markdown",
      "source": [
        "모델의 정확도가 97%가 나왔습니다!! DecisionTree에 비교해서 크게 향상된것을 확인할 수 있습니다.\n",
        "\n",
        "이어서 SVM모델을 사용하겠습니다.\n",
        "# SVM"
      ],
      "metadata": {
        "id": "q_UrPeClKA8n"
      }
    },
    {
      "cell_type": "code",
      "source": [
        "from sklearn import svm\n",
        "svm_model = svm.SVC() # 모델세우기\n",
        "svm_model.fit(X_train, y_train) # 모델훈련\n",
        "y_pred3 = svm_model.predict(X_test) # 테스트데이터 레이블 예측\n",
        "print(classification_report(y_test, y_pred3)) # 모델 성능 평가"
      ],
      "metadata": {
        "colab": {
          "base_uri": "https://localhost:8080/"
        },
        "id": "2QtJ3b50KRaT",
        "outputId": "b68df7e2-551c-443b-b539-d428ee896ddc"
      },
      "execution_count": null,
      "outputs": [
        {
          "output_type": "stream",
          "name": "stdout",
          "text": [
            "              precision    recall  f1-score   support\n",
            "\n",
            "           0       1.00      0.97      0.98        31\n",
            "           1       0.95      1.00      0.97        38\n",
            "           2       1.00      1.00      1.00        38\n",
            "           3       0.96      0.96      0.96        27\n",
            "           4       0.98      0.98      0.98        41\n",
            "           5       1.00      1.00      1.00        35\n",
            "           6       1.00      1.00      1.00        38\n",
            "           7       1.00      1.00      1.00        34\n",
            "           8       0.97      0.94      0.96        35\n",
            "           9       0.98      0.98      0.98        43\n",
            "\n",
            "    accuracy                           0.98       360\n",
            "   macro avg       0.98      0.98      0.98       360\n",
            "weighted avg       0.98      0.98      0.98       360\n",
            "\n"
          ]
        }
      ]
    },
    {
      "cell_type": "markdown",
      "source": [
        "SVM모델의 정확도는 98%입니다.\n",
        "\n",
        "이어서 SGD Classifier을 사용하겠습니다.\n",
        "# SGD Classifier"
      ],
      "metadata": {
        "id": "_OWxudwrKrW2"
      }
    },
    {
      "cell_type": "code",
      "source": [
        "from sklearn.linear_model import SGDClassifier\n",
        "sgd = SGDClassifier() # 모델세우기\n",
        "sgd.fit(X_train, y_train) # 모델 훈련\n",
        "y_pred4 = sgd.predict(X_test) # 타겟레이블 예측\n",
        "print(classification_report(y_test, y_pred4)) # 모델 성능 평가"
      ],
      "metadata": {
        "colab": {
          "base_uri": "https://localhost:8080/"
        },
        "id": "12rEn79wK2-r",
        "outputId": "a99d64a7-f1ea-4b3d-dde1-7e01498794ee"
      },
      "execution_count": null,
      "outputs": [
        {
          "output_type": "stream",
          "name": "stdout",
          "text": [
            "              precision    recall  f1-score   support\n",
            "\n",
            "           0       1.00      0.94      0.97        31\n",
            "           1       0.86      0.97      0.91        38\n",
            "           2       1.00      0.97      0.99        38\n",
            "           3       0.93      0.93      0.93        27\n",
            "           4       0.95      0.98      0.96        41\n",
            "           5       0.95      1.00      0.97        35\n",
            "           6       1.00      0.89      0.94        38\n",
            "           7       0.97      1.00      0.99        34\n",
            "           8       0.86      0.89      0.87        35\n",
            "           9       1.00      0.93      0.96        43\n",
            "\n",
            "    accuracy                           0.95       360\n",
            "   macro avg       0.95      0.95      0.95       360\n",
            "weighted avg       0.95      0.95      0.95       360\n",
            "\n"
          ]
        }
      ]
    },
    {
      "cell_type": "markdown",
      "source": [
        "SGD모델의 정확도는 92%입니다.\n",
        "\n",
        "마지막으로 Logistic Regression모델을 써서 평가해보겠습니다.\n",
        "# LogisticRegression"
      ],
      "metadata": {
        "id": "bJc39KjELURJ"
      }
    },
    {
      "cell_type": "code",
      "source": [
        "from sklearn.linear_model import LogisticRegression\n",
        "LR = LogisticRegression(random_state=15) # 모델세우기\n",
        "LR.fit(X_train,y_train) # 모델 훈련\n",
        "y_pred5 = LR.predict(X_test) # 타겟레이블 예측\n",
        "print(classification_report(y_test, y_pred5)) # 모델성능평가"
      ],
      "metadata": {
        "colab": {
          "base_uri": "https://localhost:8080/"
        },
        "id": "d4eLv5EdLgJF",
        "outputId": "798392bf-e16e-4df9-e27b-492fb0f6af0a"
      },
      "execution_count": null,
      "outputs": [
        {
          "output_type": "stream",
          "name": "stdout",
          "text": [
            "              precision    recall  f1-score   support\n",
            "\n",
            "           0       1.00      1.00      1.00        31\n",
            "           1       0.95      0.97      0.96        38\n",
            "           2       1.00      0.97      0.99        38\n",
            "           3       0.96      0.93      0.94        27\n",
            "           4       0.98      1.00      0.99        41\n",
            "           5       0.97      0.97      0.97        35\n",
            "           6       1.00      0.97      0.99        38\n",
            "           7       1.00      1.00      1.00        34\n",
            "           8       0.92      0.97      0.94        35\n",
            "           9       0.98      0.95      0.96        43\n",
            "\n",
            "    accuracy                           0.97       360\n",
            "   macro avg       0.98      0.97      0.97       360\n",
            "weighted avg       0.98      0.97      0.98       360\n",
            "\n"
          ]
        },
        {
          "output_type": "stream",
          "name": "stderr",
          "text": [
            "/usr/local/lib/python3.7/dist-packages/sklearn/linear_model/_logistic.py:818: ConvergenceWarning: lbfgs failed to converge (status=1):\n",
            "STOP: TOTAL NO. of ITERATIONS REACHED LIMIT.\n",
            "\n",
            "Increase the number of iterations (max_iter) or scale the data as shown in:\n",
            "    https://scikit-learn.org/stable/modules/preprocessing.html\n",
            "Please also refer to the documentation for alternative solver options:\n",
            "    https://scikit-learn.org/stable/modules/linear_model.html#logistic-regression\n",
            "  extra_warning_msg=_LOGISTIC_SOLVER_CONVERGENCE_MSG,\n"
          ]
        }
      ]
    },
    {
      "cell_type": "markdown",
      "source": [
        "LogisticRegression모델의 정확도는 97%입니다. \n",
        "\n",
        "## Step5. 모델을 평가해 보기\n",
        "최종적으로 정리를 해보면\n",
        "\n",
        "Decision Tree - 84%\n",
        "\n",
        "Random Forest - 97%\n",
        "\n",
        "SVM - 98%\n",
        "\n",
        "SGD Classifier - 92%\n",
        "\n",
        "LogisticRegression - 97%\n",
        "\n",
        "정확도면에서만 보면 SVM이 가장 높습니다. \n",
        "정확도 이외에 precision이나 recall값도 비교해보면 맨 처음에 썻던 Decision Tree만 전체적으로 다소 낮게 나오고, 나머지 모델들 전반적으로 다 높게 나왔으므로, 데이터분포에 불균형은 없어보입니다.\n",
        "그리고 이 문제는 양성,음성으로 분류하는 이진분류가 아니기 때문에 precision이나 recall보다는 정확도로 성능을 평가하는게 옳은 것 같습니다. \n",
        "\n",
        "\n"
      ],
      "metadata": {
        "id": "wSU-pp2hL0wo"
      }
    },
    {
      "cell_type": "markdown",
      "source": [
        "\n",
        "\n",
        "\n",
        "# **와인을 분류해 봅시다 - 프로젝트2**\n",
        "이번에는 와인데이터를가지고, 와인의 종류를 분류해보겠습니다.\n",
        "\n",
        "## Step1. 필요한 모듈import하기"
      ],
      "metadata": {
        "id": "gqtdsH3BUYaz"
      }
    },
    {
      "cell_type": "code",
      "source": [
        "from sklearn.datasets import load_wine\n",
        "from sklearn.model_selection import train_test_split\n",
        "from sklearn.metrics import classification_report"
      ],
      "metadata": {
        "id": "Gou2EQsfUzyQ"
      },
      "execution_count": null,
      "outputs": []
    },
    {
      "cell_type": "markdown",
      "source": [
        "## Stpe2. 데이터 준비 및 이해"
      ],
      "metadata": {
        "id": "S7JPmG_vVTMG"
      }
    },
    {
      "cell_type": "code",
      "source": [
        "wine = load_wine() # 와인데이터를 wine에 할당합니다 \n",
        "wine.keys() # 와인데이터에 들어있는 키를 모두 불러옵니다"
      ],
      "metadata": {
        "colab": {
          "base_uri": "https://localhost:8080/"
        },
        "id": "3OusQnSLVYO8",
        "outputId": "d81c7372-6ded-48ca-fd19-b1e88672c196"
      },
      "execution_count": null,
      "outputs": [
        {
          "output_type": "execute_result",
          "data": {
            "text/plain": [
              "dict_keys(['data', 'target', 'frame', 'target_names', 'DESCR', 'feature_names'])"
            ]
          },
          "metadata": {},
          "execution_count": 16
        }
      ]
    },
    {
      "cell_type": "code",
      "source": [
        "print(wine.data.shape)\n",
        "print(wine.target)"
      ],
      "metadata": {
        "colab": {
          "base_uri": "https://localhost:8080/"
        },
        "id": "rooIVQmKWGK2",
        "outputId": "ee29eca0-489c-487b-ac0e-49374210cdc7"
      },
      "execution_count": null,
      "outputs": [
        {
          "output_type": "stream",
          "name": "stdout",
          "text": [
            "(178, 13)\n",
            "[0 0 0 0 0 0 0 0 0 0 0 0 0 0 0 0 0 0 0 0 0 0 0 0 0 0 0 0 0 0 0 0 0 0 0 0 0\n",
            " 0 0 0 0 0 0 0 0 0 0 0 0 0 0 0 0 0 0 0 0 0 0 1 1 1 1 1 1 1 1 1 1 1 1 1 1 1\n",
            " 1 1 1 1 1 1 1 1 1 1 1 1 1 1 1 1 1 1 1 1 1 1 1 1 1 1 1 1 1 1 1 1 1 1 1 1 1\n",
            " 1 1 1 1 1 1 1 1 1 1 1 1 1 1 1 1 1 1 1 2 2 2 2 2 2 2 2 2 2 2 2 2 2 2 2 2 2\n",
            " 2 2 2 2 2 2 2 2 2 2 2 2 2 2 2 2 2 2 2 2 2 2 2 2 2 2 2 2 2 2]\n"
          ]
        }
      ]
    },
    {
      "cell_type": "markdown",
      "source": [
        "총 178개의 데이터가 있고, feature는 13개가 있습니다. \n",
        "\n",
        "데이터의첫행과 타겟데이터를 출력해봄으로써 어떤 데이터가 들어있는지 보겠습니다.\n"
      ],
      "metadata": {
        "id": "oaEgbqiuWNTF"
      }
    },
    {
      "cell_type": "code",
      "source": [
        "print('data[0] :',wine.data[0])\n",
        "print('target :',wine.target)"
      ],
      "metadata": {
        "colab": {
          "base_uri": "https://localhost:8080/"
        },
        "id": "GnjehpEVX0zr",
        "outputId": "943ed793-f79f-44da-a03e-19b0f6c214a6"
      },
      "execution_count": null,
      "outputs": [
        {
          "output_type": "stream",
          "name": "stdout",
          "text": [
            "data[0] : [1.423e+01 1.710e+00 2.430e+00 1.560e+01 1.270e+02 2.800e+00 3.060e+00\n",
            " 2.800e-01 2.290e+00 5.640e+00 1.040e+00 3.920e+00 1.065e+03]\n",
            "target : [0 0 0 0 0 0 0 0 0 0 0 0 0 0 0 0 0 0 0 0 0 0 0 0 0 0 0 0 0 0 0 0 0 0 0 0 0\n",
            " 0 0 0 0 0 0 0 0 0 0 0 0 0 0 0 0 0 0 0 0 0 0 1 1 1 1 1 1 1 1 1 1 1 1 1 1 1\n",
            " 1 1 1 1 1 1 1 1 1 1 1 1 1 1 1 1 1 1 1 1 1 1 1 1 1 1 1 1 1 1 1 1 1 1 1 1 1\n",
            " 1 1 1 1 1 1 1 1 1 1 1 1 1 1 1 1 1 1 1 2 2 2 2 2 2 2 2 2 2 2 2 2 2 2 2 2 2\n",
            " 2 2 2 2 2 2 2 2 2 2 2 2 2 2 2 2 2 2 2 2 2 2 2 2 2 2 2 2 2 2]\n"
          ]
        }
      ]
    },
    {
      "cell_type": "markdown",
      "source": [
        "그냥 숫자만 봐서는 무엇을 의미하는지 알 수 없습니다.\n",
        "데이터의feature와 target레이블이 무엇인지 알아보겠습니다."
      ],
      "metadata": {
        "id": "-wnswHwTXric"
      }
    },
    {
      "cell_type": "code",
      "source": [
        "print('feature_names :',wine.feature_names)\n",
        "print('target_names :',wine.target_names)"
      ],
      "metadata": {
        "colab": {
          "base_uri": "https://localhost:8080/"
        },
        "id": "BQiIN6_JWfXq",
        "outputId": "15b8f3bd-8747-46fd-9c60-87293de6cf32"
      },
      "execution_count": null,
      "outputs": [
        {
          "output_type": "stream",
          "name": "stdout",
          "text": [
            "feature_names : ['alcohol', 'malic_acid', 'ash', 'alcalinity_of_ash', 'magnesium', 'total_phenols', 'flavanoids', 'nonflavanoid_phenols', 'proanthocyanins', 'color_intensity', 'hue', 'od280/od315_of_diluted_wines', 'proline']\n",
            "target_names : ['class_0' 'class_1' 'class_2']\n"
          ]
        }
      ]
    },
    {
      "cell_type": "markdown",
      "source": [
        "feature에는 알코올함량,말산,마그네슘등 와인에 들어있는성분들이 적혀있고\n",
        "target은 총 3개의 클래스로 나뉘어있습니다.\n",
        "\n",
        "따라서 여기서 풀어야할 문제는 와인의 성분함량이 주어지면 어느 클래스인지 분류하는것입니다. \n",
        "\n",
        "## Step3. train,test데이터 분리"
      ],
      "metadata": {
        "id": "0BvyQvYuW_7g"
      }
    },
    {
      "cell_type": "markdown",
      "source": [
        "주어진 데이터를 훈련셋과 테스트셋으로 나눠보겠습니다."
      ],
      "metadata": {
        "id": "YSOanSsrZN0W"
      }
    },
    {
      "cell_type": "code",
      "source": [
        "X_train2, X_test2, y_train2, y_test2 = train_test_split(wine.data, wine.target, test_size=0.2, random_state=15)\n",
        "print('X_train 개수:',X_train2.shape[0])\n",
        "print('X_test 개수:',X_test2.shape[0])\n",
        "print('')\n",
        "print(y_train)"
      ],
      "metadata": {
        "colab": {
          "base_uri": "https://localhost:8080/"
        },
        "id": "709hZN-4Zocg",
        "outputId": "96b232f8-409f-4383-b709-cca570cd793a"
      },
      "execution_count": null,
      "outputs": [
        {
          "output_type": "stream",
          "name": "stdout",
          "text": [
            "X_train 개수: 142\n",
            "X_test 개수: 36\n",
            "\n",
            "[6 4 3 ... 8 8 6]\n"
          ]
        }
      ]
    },
    {
      "cell_type": "markdown",
      "source": [
        "훈련셋과 테스트셋이 4:1비율로 잘섞여있고, 타깃레이블도 랜덤하게 잘 섞여있습니다.\n",
        "\n",
        "이제 훈련셋과 타깃레이블을가지고 다양한 모델을 훈련시켜보도록하겠습니다.\n",
        "\n",
        "## Step4. 다양한 모델로 학습시켜보기"
      ],
      "metadata": {
        "id": "TXWCCrtpaqro"
      }
    },
    {
      "cell_type": "markdown",
      "source": [
        "## Decision Tree\n",
        "첫번째로 Decision Tree 모델을 사용해보겠습니다."
      ],
      "metadata": {
        "id": "PN1Y_qjwbAPF"
      }
    },
    {
      "cell_type": "code",
      "source": [
        "from sklearn.tree import DecisionTreeClassifier\n",
        "decision_tree2 = DecisionTreeClassifier(random_state=15) # 모델 세우기\n",
        "decision_tree2.fit(X_train2, y_train2) # 모델 훈련시키기\n",
        "y_pred = decision_tree2.predict(X_test2) # 타깃레이블 예측\n",
        "print(classification_report(y_test2,y_pred)) # 모델 성능평가"
      ],
      "metadata": {
        "colab": {
          "base_uri": "https://localhost:8080/"
        },
        "id": "5T4eB4_IbIVT",
        "outputId": "4782e8a9-c54e-4236-984a-834a92f83de2"
      },
      "execution_count": null,
      "outputs": [
        {
          "output_type": "stream",
          "name": "stdout",
          "text": [
            "              precision    recall  f1-score   support\n",
            "\n",
            "           0       0.92      1.00      0.96        12\n",
            "           1       0.91      0.83      0.87        12\n",
            "           2       0.92      0.92      0.92        12\n",
            "\n",
            "    accuracy                           0.92        36\n",
            "   macro avg       0.92      0.92      0.92        36\n",
            "weighted avg       0.92      0.92      0.92        36\n",
            "\n"
          ]
        }
      ]
    },
    {
      "cell_type": "markdown",
      "source": [
        "클래스1 의 recall 값이 다소 낮게 나왔고, 정확도는 92%입니다.\n",
        "\n",
        "이어서 Random Forest를 사용해서 평가해보겠습니다.\n",
        "\n",
        "## Random Forest"
      ],
      "metadata": {
        "id": "KqeKuo88d69Q"
      }
    },
    {
      "cell_type": "code",
      "source": [
        "from sklearn.ensemble import RandomForestClassifier\n",
        "RFC2 = RandomForestClassifier(random_state=15) # 모델 세우기\n",
        "RFC2.fit(X_train2,y_train2) # 모델 훈련\n",
        "y_pred2 = RFC2.predict(X_test2) # 테스트데이터 예측\n",
        "print(classification_report(y_test2, y_pred2)) # 모델 성능 평가"
      ],
      "metadata": {
        "colab": {
          "base_uri": "https://localhost:8080/"
        },
        "id": "O50eTkibeL_l",
        "outputId": "07de3240-0a47-4ca3-9f6e-fe8512341375"
      },
      "execution_count": null,
      "outputs": [
        {
          "output_type": "stream",
          "name": "stdout",
          "text": [
            "              precision    recall  f1-score   support\n",
            "\n",
            "           0       1.00      1.00      1.00        12\n",
            "           1       1.00      1.00      1.00        12\n",
            "           2       1.00      1.00      1.00        12\n",
            "\n",
            "    accuracy                           1.00        36\n",
            "   macro avg       1.00      1.00      1.00        36\n",
            "weighted avg       1.00      1.00      1.00        36\n",
            "\n"
          ]
        }
      ]
    },
    {
      "cell_type": "markdown",
      "source": [
        "완벽합니다. 모든 성능지표가 100%가 나왔으므로, 모든 테스트 데이터를 완벽하게 예측했습니다.\n",
        "\n",
        "이어서 SVM을 사용해보겠습니다.\n",
        "\n",
        "## SVM"
      ],
      "metadata": {
        "id": "Tf2G5WJ9ef3K"
      }
    },
    {
      "cell_type": "code",
      "source": [
        "from sklearn import svm\n",
        "svm_model2 = svm.SVC() # 모델세우기\n",
        "svm_model2.fit(X_train2, y_train2) # 모델훈련\n",
        "y_pred3 = svm_model2.predict(X_test2) # 테스트데이터 레이블 예측\n",
        "print(classification_report(y_test2, y_pred3)) # 모델 성능 평가"
      ],
      "metadata": {
        "colab": {
          "base_uri": "https://localhost:8080/"
        },
        "id": "U0kQTs0OesVk",
        "outputId": "7a69cc27-0bed-4bdc-93ac-ded878ee4cb1"
      },
      "execution_count": null,
      "outputs": [
        {
          "output_type": "stream",
          "name": "stdout",
          "text": [
            "              precision    recall  f1-score   support\n",
            "\n",
            "           0       0.79      0.92      0.85        12\n",
            "           1       0.50      0.92      0.65        12\n",
            "           2       0.00      0.00      0.00        12\n",
            "\n",
            "    accuracy                           0.61        36\n",
            "   macro avg       0.43      0.61      0.50        36\n",
            "weighted avg       0.43      0.61      0.50        36\n",
            "\n"
          ]
        },
        {
          "output_type": "stream",
          "name": "stderr",
          "text": [
            "/usr/local/lib/python3.7/dist-packages/sklearn/metrics/_classification.py:1318: UndefinedMetricWarning: Precision and F-score are ill-defined and being set to 0.0 in labels with no predicted samples. Use `zero_division` parameter to control this behavior.\n",
            "  _warn_prf(average, modifier, msg_start, len(result))\n",
            "/usr/local/lib/python3.7/dist-packages/sklearn/metrics/_classification.py:1318: UndefinedMetricWarning: Precision and F-score are ill-defined and being set to 0.0 in labels with no predicted samples. Use `zero_division` parameter to control this behavior.\n",
            "  _warn_prf(average, modifier, msg_start, len(result))\n",
            "/usr/local/lib/python3.7/dist-packages/sklearn/metrics/_classification.py:1318: UndefinedMetricWarning: Precision and F-score are ill-defined and being set to 0.0 in labels with no predicted samples. Use `zero_division` parameter to control this behavior.\n",
            "  _warn_prf(average, modifier, msg_start, len(result))\n"
          ]
        }
      ]
    },
    {
      "cell_type": "markdown",
      "source": [
        "전에 모델과비교해서 성능이 형편없습니다. precision 값이 많이낮고 심지어 클래스2는 0%로 하나도 예측하지 못했습니다. 정확도 또한 61%입니다.\n",
        "\n",
        "다음은 SGD Classifier을 평가해보겠습니다.\n",
        "## SGD Classifier"
      ],
      "metadata": {
        "id": "GUkrgpIAe9iV"
      }
    },
    {
      "cell_type": "code",
      "source": [
        "from sklearn.linear_model import SGDClassifier\n",
        "sgd2 = SGDClassifier() # 모델세우기\n",
        "sgd2.fit(X_train2, y_train2) # 모델 훈련\n",
        "y_pred4 = sgd2.predict(X_test2) # 타겟레이블 예측\n",
        "print(classification_report(y_test2, y_pred4)) # 모델 성능 평가"
      ],
      "metadata": {
        "colab": {
          "base_uri": "https://localhost:8080/"
        },
        "id": "bsaQWLk9f2Xe",
        "outputId": "5a55bf8a-2567-4316-d319-709f29171e7a"
      },
      "execution_count": null,
      "outputs": [
        {
          "output_type": "stream",
          "name": "stdout",
          "text": [
            "              precision    recall  f1-score   support\n",
            "\n",
            "           0       1.00      0.75      0.86        12\n",
            "           1       0.89      0.67      0.76        12\n",
            "           2       0.61      0.92      0.73        12\n",
            "\n",
            "    accuracy                           0.78        36\n",
            "   macro avg       0.83      0.78      0.78        36\n",
            "weighted avg       0.83      0.78      0.78        36\n",
            "\n"
          ]
        }
      ]
    },
    {
      "cell_type": "markdown",
      "source": [
        "0클래스의 recall과 1클래스의precision빼고는 나머지 값이 많이 낮습니다. 정확도 또한 53%입니다.\n",
        "\n",
        "마지막으로 Logistic Regression을 써보겠습니다.\n",
        "\n",
        "## Logistic Regression"
      ],
      "metadata": {
        "id": "VEpMwAEvhAN6"
      }
    },
    {
      "cell_type": "code",
      "source": [
        "from sklearn.linear_model import LogisticRegression\n",
        "LR2 = LogisticRegression() # 모델세우기\n",
        "LR2.fit(X_train2,y_train2) # 모델 훈련\n",
        "y_pred5 = LR2.predict(X_test2) # 타겟레이블 예측\n",
        "print(classification_report(y_test2, y_pred5)) # 모델성능평가"
      ],
      "metadata": {
        "colab": {
          "base_uri": "https://localhost:8080/"
        },
        "id": "Tlue150GhRz9",
        "outputId": "204266b4-6a2e-42cf-a430-7def209ce922"
      },
      "execution_count": null,
      "outputs": [
        {
          "output_type": "stream",
          "name": "stdout",
          "text": [
            "              precision    recall  f1-score   support\n",
            "\n",
            "           0       1.00      0.92      0.96        12\n",
            "           1       0.86      1.00      0.92        12\n",
            "           2       1.00      0.92      0.96        12\n",
            "\n",
            "    accuracy                           0.94        36\n",
            "   macro avg       0.95      0.94      0.95        36\n",
            "weighted avg       0.95      0.94      0.95        36\n",
            "\n"
          ]
        },
        {
          "output_type": "stream",
          "name": "stderr",
          "text": [
            "/usr/local/lib/python3.7/dist-packages/sklearn/linear_model/_logistic.py:818: ConvergenceWarning: lbfgs failed to converge (status=1):\n",
            "STOP: TOTAL NO. of ITERATIONS REACHED LIMIT.\n",
            "\n",
            "Increase the number of iterations (max_iter) or scale the data as shown in:\n",
            "    https://scikit-learn.org/stable/modules/preprocessing.html\n",
            "Please also refer to the documentation for alternative solver options:\n",
            "    https://scikit-learn.org/stable/modules/linear_model.html#logistic-regression\n",
            "  extra_warning_msg=_LOGISTIC_SOLVER_CONVERGENCE_MSG,\n"
          ]
        }
      ]
    },
    {
      "cell_type": "markdown",
      "source": [
        "이전 모델들과는 달리 대체적으로 성능이 좋게나왔고 정확도도 94%입니다.\n",
        "\n",
        "## Step5. 모델을 평가해 보기\n",
        "총 5개의 모델들을 사용해봤는데, Decision Tree,Random Forest,Logistic Regression은 대체적으로 값이 잘 나왔지만, SVM과 SGD Classifier은 사용할 수 없을정도의 성능이 나왔습니다. SVM은 precision과 accuracy가 매우 낮게나왔고 심지어 클래스2는 하나도 예측하지못했습니다. 그리고 SGD는 0클래스의 recall과 1클래스의 precision이 전부 100%가 나왔지만 그외의 값들은 전부 낮게 나왔습니다. 따라서 와인을분류하는데 있어서 SVM과 SGD모델은 적절하지않은것 같습니다. "
      ],
      "metadata": {
        "id": "wmCEEQobheUM"
      }
    },
    {
      "cell_type": "markdown",
      "source": [
        "# **유방암 여부를 진단해 봅시다 - 프로젝트3**\n",
        "마지막으로 유방암 여부를 진단해 보겠습니다 \n",
        "\n",
        "## Step1. 필요한 모듈 import하기"
      ],
      "metadata": {
        "id": "j6eF8H7EisVj"
      }
    },
    {
      "cell_type": "code",
      "source": [
        "from sklearn.datasets import load_breast_cancer\n",
        "from sklearn.model_selection import train_test_split\n",
        "from sklearn.metrics import classification_report"
      ],
      "metadata": {
        "id": "bzwMgsFRjIrD"
      },
      "execution_count": null,
      "outputs": []
    },
    {
      "cell_type": "markdown",
      "source": [
        "## Step2. 데이터준비 및 이해"
      ],
      "metadata": {
        "id": "PfStZYS0jPD5"
      }
    },
    {
      "cell_type": "code",
      "source": [
        "B_C = load_breast_cancer()\n",
        "B_C.keys()"
      ],
      "metadata": {
        "colab": {
          "base_uri": "https://localhost:8080/"
        },
        "id": "l067-QrcjVcx",
        "outputId": "6b550c55-2e8b-4649-e647-5244348f178f"
      },
      "execution_count": null,
      "outputs": [
        {
          "output_type": "execute_result",
          "data": {
            "text/plain": [
              "dict_keys(['data', 'target', 'frame', 'target_names', 'DESCR', 'feature_names', 'filename', 'data_module'])"
            ]
          },
          "metadata": {},
          "execution_count": 27
        }
      ]
    },
    {
      "cell_type": "markdown",
      "source": [
        "데이터와 타깃의 데이터 형태를 살펴봅시다"
      ],
      "metadata": {
        "id": "vYpLMfqsjkfP"
      }
    },
    {
      "cell_type": "code",
      "source": [
        "print(B_C.data.shape)\n",
        "print(B_C.target.shape)"
      ],
      "metadata": {
        "colab": {
          "base_uri": "https://localhost:8080/"
        },
        "id": "V5mzUmF6jo7F",
        "outputId": "73252b66-304f-428f-d06e-7219c72714dd"
      },
      "execution_count": null,
      "outputs": [
        {
          "output_type": "stream",
          "name": "stdout",
          "text": [
            "(569, 30)\n",
            "(569,)\n"
          ]
        }
      ]
    },
    {
      "cell_type": "markdown",
      "source": [
        "데이터의 총 개수는 569개이고, feature의 개수는 30개입니다. "
      ],
      "metadata": {
        "id": "KErInTeVjxPW"
      }
    },
    {
      "cell_type": "markdown",
      "source": [
        "어떤 데이터가 들어있는지 확인해보기 위해 데이터의 첫행과 타깃데이터 40개를 출력해 봅시다."
      ],
      "metadata": {
        "id": "Xw0kLpgpkHmV"
      }
    },
    {
      "cell_type": "code",
      "source": [
        "print(B_C.data[0])\n",
        "print(B_C.target[:40])"
      ],
      "metadata": {
        "colab": {
          "base_uri": "https://localhost:8080/"
        },
        "id": "1cTGRDQGkX39",
        "outputId": "363fe8e2-e2d6-4307-d02e-771ea5eb7a42"
      },
      "execution_count": null,
      "outputs": [
        {
          "output_type": "stream",
          "name": "stdout",
          "text": [
            "[1.799e+01 1.038e+01 1.228e+02 1.001e+03 1.184e-01 2.776e-01 3.001e-01\n",
            " 1.471e-01 2.419e-01 7.871e-02 1.095e+00 9.053e-01 8.589e+00 1.534e+02\n",
            " 6.399e-03 4.904e-02 5.373e-02 1.587e-02 3.003e-02 6.193e-03 2.538e+01\n",
            " 1.733e+01 1.846e+02 2.019e+03 1.622e-01 6.656e-01 7.119e-01 2.654e-01\n",
            " 4.601e-01 1.189e-01]\n",
            "[0 0 0 0 0 0 0 0 0 0 0 0 0 0 0 0 0 0 0 1 1 1 0 0 0 0 0 0 0 0 0 0 0 0 0 0 0\n",
            " 1 0 0]\n"
          ]
        }
      ]
    },
    {
      "cell_type": "markdown",
      "source": [
        "숫자만 봐서는 어떤데이터인지 알기 어렵습니다. feature_names와 target_names도 출력해 봅시다."
      ],
      "metadata": {
        "id": "wOSQxRsZkfgO"
      }
    },
    {
      "cell_type": "code",
      "source": [
        "print('feature_names :',B_C.feature_names)\n",
        "print('')\n",
        "print('target_names :',B_C.target_names)"
      ],
      "metadata": {
        "colab": {
          "base_uri": "https://localhost:8080/"
        },
        "id": "s5dvGmxzkpIV",
        "outputId": "836be0b2-17ed-42dd-91fb-7a78efa93cc7"
      },
      "execution_count": null,
      "outputs": [
        {
          "output_type": "stream",
          "name": "stdout",
          "text": [
            "feature_names : ['mean radius' 'mean texture' 'mean perimeter' 'mean area'\n",
            " 'mean smoothness' 'mean compactness' 'mean concavity'\n",
            " 'mean concave points' 'mean symmetry' 'mean fractal dimension'\n",
            " 'radius error' 'texture error' 'perimeter error' 'area error'\n",
            " 'smoothness error' 'compactness error' 'concavity error'\n",
            " 'concave points error' 'symmetry error' 'fractal dimension error'\n",
            " 'worst radius' 'worst texture' 'worst perimeter' 'worst area'\n",
            " 'worst smoothness' 'worst compactness' 'worst concavity'\n",
            " 'worst concave points' 'worst symmetry' 'worst fractal dimension']\n",
            "\n",
            "target_names : ['malignant' 'benign']\n"
          ]
        }
      ]
    },
    {
      "cell_type": "markdown",
      "source": [
        "feature는 한사람의 건강지표를 뜻하고 target은 양성,음성 데이터가 들어있습니다."
      ],
      "metadata": {
        "id": "B3LGPpaalWXL"
      }
    },
    {
      "cell_type": "markdown",
      "source": [
        "즉, 여기서 풀어야할 문제는 건강지표를 확인하고 이사람의 유방암 여부를 확인하는 이진분류문제입니다.\n",
        "\n",
        "이제 훈련셋과 테스트셋을 준비해봅시다.\n",
        "\n",
        "## Step3. train,test데이터 분리"
      ],
      "metadata": {
        "id": "QcidVQc6l4Et"
      }
    },
    {
      "cell_type": "code",
      "source": [
        "X_train3, X_test3, y_train3, y_test3 = train_test_split(B_C.data, B_C.target, test_size=0.2, random_state=15)\n",
        "print('X_train3 개수 :',X_train3.shape[0])\n",
        "print('X_test3 개수 :',X_test3.shape[0])\n",
        "print('')\n",
        "print(y_train3)"
      ],
      "metadata": {
        "colab": {
          "base_uri": "https://localhost:8080/"
        },
        "id": "3vW50dF-mMUR",
        "outputId": "a2df5569-e39f-466d-90b8-06377a4a8e8a"
      },
      "execution_count": null,
      "outputs": [
        {
          "output_type": "stream",
          "name": "stdout",
          "text": [
            "X_train3 개수 : 455\n",
            "X_test3 개수 : 114\n",
            "\n",
            "[0 1 0 1 1 0 0 0 1 1 1 0 1 1 1 1 1 1 0 1 0 0 0 0 1 1 0 0 0 1 1 1 0 0 1 1 0\n",
            " 0 1 0 1 1 1 1 1 1 0 0 1 0 0 1 1 1 1 1 0 1 1 0 0 1 1 0 0 1 0 0 0 0 0 1 1 0\n",
            " 0 1 1 0 1 0 1 0 1 0 1 1 1 0 0 0 1 0 1 0 1 0 1 1 1 1 0 1 1 1 1 0 1 0 1 0 0\n",
            " 1 0 1 1 0 1 1 1 1 0 1 1 1 0 1 1 1 1 0 0 0 1 0 1 1 1 0 0 1 0 1 1 0 0 0 1 0\n",
            " 1 1 1 0 1 0 1 1 1 0 1 1 0 0 0 1 1 1 1 0 1 1 1 0 0 1 0 1 0 1 0 1 1 0 0 1 0\n",
            " 1 0 0 1 1 1 1 0 1 1 1 1 1 1 1 1 1 1 1 1 0 1 0 0 1 1 1 1 0 1 0 0 1 1 0 1 1\n",
            " 1 1 1 1 1 1 1 1 1 1 1 1 1 1 0 1 0 0 1 0 0 1 0 0 1 1 1 0 0 0 1 1 1 1 1 1 1\n",
            " 1 1 0 0 1 1 1 0 1 1 1 0 0 0 0 0 1 1 1 1 1 1 1 0 1 0 0 1 1 1 1 1 1 1 1 1 1\n",
            " 1 0 1 0 0 0 0 1 0 0 1 1 0 1 0 1 1 1 1 0 1 1 0 1 0 1 1 0 1 1 0 1 0 0 0 0 0\n",
            " 1 1 1 0 1 1 1 1 1 0 0 1 0 1 0 0 1 1 1 1 1 0 1 0 1 1 0 0 1 1 1 1 1 1 0 0 0\n",
            " 1 1 1 0 1 0 1 1 1 0 0 1 1 1 1 1 1 0 1 1 1 0 1 1 1 1 1 1 0 0 1 0 0 1 1 1 1\n",
            " 0 1 1 1 1 1 0 1 1 1 0 1 0 1 0 1 0 0 1 1 1 0 1 1 0 1 1 1 0 0 0 1 0 1 1 0 0\n",
            " 1 1 1 0 0 1 0 0 0 1 1]\n"
          ]
        }
      ]
    },
    {
      "cell_type": "markdown",
      "source": [
        "훈련셋과 테스트셋의 개수가 4:1비율로 잘 섞여있고, 훈련타깃데이터도 랜덤하게 잘 섞여있는걸 확인할 수 있습니다.\n",
        "\n",
        "이제 해당 훈련셋을가지고 다양모델에 학습시켜보겠습니다.\n",
        "\n",
        "## Step4. 다양한 모델로 학습시켜보기\n",
        "제일 먼저 Decision Tree모델을 사용해 보겠습니다.\n",
        "## Decision Tree"
      ],
      "metadata": {
        "id": "C4ZbYSJamu29"
      }
    },
    {
      "cell_type": "code",
      "source": [
        "from sklearn.tree import DecisionTreeClassifier\n",
        "decision_tree3 = DecisionTreeClassifier(random_state=15) # 모델 세우기\n",
        "decision_tree3.fit(X_train3, y_train3) # 모델 훈련시키기\n",
        "y_pred = decision_tree3.predict(X_test3) # 타깃레이블 예측\n",
        "print(classification_report(y_test3,y_pred)) # 모델 성능평가"
      ],
      "metadata": {
        "colab": {
          "base_uri": "https://localhost:8080/"
        },
        "id": "hYV-bxkDnUU6",
        "outputId": "33216d70-1230-4d58-ca26-fc10c25c5fb5"
      },
      "execution_count": null,
      "outputs": [
        {
          "output_type": "stream",
          "name": "stdout",
          "text": [
            "              precision    recall  f1-score   support\n",
            "\n",
            "           0       0.97      0.87      0.92        39\n",
            "           1       0.94      0.99      0.96        75\n",
            "\n",
            "    accuracy                           0.95       114\n",
            "   macro avg       0.95      0.93      0.94       114\n",
            "weighted avg       0.95      0.95      0.95       114\n",
            "\n"
          ]
        }
      ]
    },
    {
      "cell_type": "markdown",
      "source": [
        "정확도는 95%이고 음성클래스의 recall값이 다소 낮게나왔습니다.\n",
        "\n",
        "이어서 Random Forest를 사용하겠습니다.\n",
        "## Random Forest"
      ],
      "metadata": {
        "id": "UOfWA9EHnfe-"
      }
    },
    {
      "cell_type": "code",
      "source": [
        "from sklearn.ensemble import RandomForestClassifier\n",
        "RFC3 = RandomForestClassifier(random_state=15) # 모델 세우기\n",
        "RFC3.fit(X_train3,y_train3) # 모델 훈련\n",
        "y_pred2 = RFC3.predict(X_test3) # 테스트데이터 예측\n",
        "print(classification_report(y_test3, y_pred2)) # 모델 성능 평가"
      ],
      "metadata": {
        "colab": {
          "base_uri": "https://localhost:8080/"
        },
        "id": "fIFFTjQSooOB",
        "outputId": "71505098-bfcf-413e-9108-9ed0d61755f0"
      },
      "execution_count": null,
      "outputs": [
        {
          "output_type": "stream",
          "name": "stdout",
          "text": [
            "              precision    recall  f1-score   support\n",
            "\n",
            "           0       0.94      0.85      0.89        39\n",
            "           1       0.92      0.97      0.95        75\n",
            "\n",
            "    accuracy                           0.93       114\n",
            "   macro avg       0.93      0.91      0.92       114\n",
            "weighted avg       0.93      0.93      0.93       114\n",
            "\n"
          ]
        }
      ]
    },
    {
      "cell_type": "markdown",
      "source": [
        "정확도는 93%이고 전 모델과 비슷하게 음성클래스의 recall값이 다소 낮게나왔습니다.\n",
        "\n",
        "다음으로 SVM모델을 사용하겠습니다.\n",
        "## SVM"
      ],
      "metadata": {
        "id": "QUdsikpWozpk"
      }
    },
    {
      "cell_type": "code",
      "source": [
        "from sklearn import svm\n",
        "svm_model3 = svm.SVC() # 모델세우기\n",
        "svm_model3.fit(X_train3, y_train3) # 모델훈련\n",
        "y_pred3 = svm_model3.predict(X_test3) # 테스트데이터 레이블 예측\n",
        "print(classification_report(y_test3, y_pred3)) # 모델 성능 평가"
      ],
      "metadata": {
        "colab": {
          "base_uri": "https://localhost:8080/"
        },
        "id": "vNzABJe9o9Eq",
        "outputId": "929ec60b-a01f-43f2-8c1d-bc687ff74bbe"
      },
      "execution_count": null,
      "outputs": [
        {
          "output_type": "stream",
          "name": "stdout",
          "text": [
            "              precision    recall  f1-score   support\n",
            "\n",
            "           0       0.93      0.67      0.78        39\n",
            "           1       0.85      0.97      0.91        75\n",
            "\n",
            "    accuracy                           0.87       114\n",
            "   macro avg       0.89      0.82      0.84       114\n",
            "weighted avg       0.88      0.87      0.86       114\n",
            "\n"
          ]
        }
      ]
    },
    {
      "cell_type": "markdown",
      "source": [
        "정확도는 87%, 음성클래스의 recall 67%로, 이전모델들에 비해 두값모두 낮게나왔습니다.\n",
        "\n",
        "다음으로 SGD Classifier모델을 사용하겠습니다.\n",
        "## SGD Classifier"
      ],
      "metadata": {
        "id": "C0ltVEh-pGKe"
      }
    },
    {
      "cell_type": "code",
      "source": [
        "from sklearn.linear_model import SGDClassifier\n",
        "sgd3 = SGDClassifier() # 모델세우기\n",
        "sgd3.fit(X_train3, y_train3) # 모델 훈련\n",
        "y_pred4 = sgd3.predict(X_test3) # 타겟레이블 예측\n",
        "print(classification_report(y_test3, y_pred4)) # 모델 성능 평가"
      ],
      "metadata": {
        "colab": {
          "base_uri": "https://localhost:8080/"
        },
        "id": "XMur8tpUpXeS",
        "outputId": "0c8e78e8-c922-425b-ec33-f53516db6517"
      },
      "execution_count": null,
      "outputs": [
        {
          "output_type": "stream",
          "name": "stdout",
          "text": [
            "              precision    recall  f1-score   support\n",
            "\n",
            "           0       0.73      0.85      0.79        39\n",
            "           1       0.91      0.84      0.87        75\n",
            "\n",
            "    accuracy                           0.84       114\n",
            "   macro avg       0.82      0.84      0.83       114\n",
            "weighted avg       0.85      0.84      0.84       114\n",
            "\n"
          ]
        }
      ]
    },
    {
      "cell_type": "markdown",
      "source": [
        "정확도는 78%, 음성클래스의 recall은 0.36, 양성클래스의 precision은 0.75로 전반적으로 성능이 낮게나왔습니다.\n",
        "\n",
        "마지막으로 Logistic Regression모델을 평가해보겠습니다.\n",
        "## Logistic Regression"
      ],
      "metadata": {
        "id": "Z8pbNvefpgcP"
      }
    },
    {
      "cell_type": "code",
      "source": [
        "from sklearn.linear_model import LogisticRegression\n",
        "LR3 = LogisticRegression() # 모델세우기\n",
        "LR3.fit(X_train3,y_train3) # 모델 훈련\n",
        "y_pred5 = LR3.predict(X_test3) # 타겟레이블 예측\n",
        "print(classification_report(y_test3, y_pred5)) # 모델성능평가"
      ],
      "metadata": {
        "colab": {
          "base_uri": "https://localhost:8080/"
        },
        "id": "20iWHCTApxdj",
        "outputId": "1cb23ccc-5207-4cc6-f9a9-3c564dd18e7e"
      },
      "execution_count": null,
      "outputs": [
        {
          "output_type": "stream",
          "name": "stdout",
          "text": [
            "              precision    recall  f1-score   support\n",
            "\n",
            "           0       0.84      0.82      0.83        39\n",
            "           1       0.91      0.92      0.91        75\n",
            "\n",
            "    accuracy                           0.89       114\n",
            "   macro avg       0.88      0.87      0.87       114\n",
            "weighted avg       0.89      0.89      0.89       114\n",
            "\n"
          ]
        },
        {
          "output_type": "stream",
          "name": "stderr",
          "text": [
            "/usr/local/lib/python3.7/dist-packages/sklearn/linear_model/_logistic.py:818: ConvergenceWarning: lbfgs failed to converge (status=1):\n",
            "STOP: TOTAL NO. of ITERATIONS REACHED LIMIT.\n",
            "\n",
            "Increase the number of iterations (max_iter) or scale the data as shown in:\n",
            "    https://scikit-learn.org/stable/modules/preprocessing.html\n",
            "Please also refer to the documentation for alternative solver options:\n",
            "    https://scikit-learn.org/stable/modules/linear_model.html#logistic-regression\n",
            "  extra_warning_msg=_LOGISTIC_SOLVER_CONVERGENCE_MSG,\n"
          ]
        }
      ]
    },
    {
      "cell_type": "markdown",
      "source": [
        "정확도는 89%이고 나머지 성능지표들도 나쁘지않게 나왔습니다.\n",
        "\n",
        "## Step5. 모델을 평가해 보기"
      ],
      "metadata": {
        "id": "q3OuJM5Cp7iI"
      }
    },
    {
      "cell_type": "markdown",
      "source": [
        "이번 문제는 유방암 여부를 조사하는 문제로써 성능지표중에 recall값이 가장중요합니다. 왜냐하면 음성을 양성으로 판단하는 경우는 큰 문제가 없지만, 양성을 음성으로 판단하면 큰 문제가 발생하기때문입니다. 따라서 FN값이 낮아야합니다. 양성클래스의 recall 값들을 차례로 나열해보면,\n",
        "\n",
        "Decision Tree - 99%\n",
        "\n",
        "Random Forest - 97%\n",
        "\n",
        "SVM - 97%\n",
        "\n",
        "SGD Classifier - 100%\n",
        "\n",
        "Logistic Regression - 92%\n",
        "\n",
        "전반적으로 높은값이 나왔습니다."
      ],
      "metadata": {
        "id": "P9LolRvBqHV1"
      }
    },
    {
      "cell_type": "markdown",
      "source": [
        "# **회고**\n",
        "이번 exploration에서 파이썬에 내장된 데이터 셋을 불러와 각 feature들과 target들을 확인하고 이해함으로써 어떤 문제를 풀어야할지 스스로 파악한후 해당 모델을 만드는작업을 하였다. 모델을 세우기전에 데이터를 이해하는 과정이 많이 낯설었고, 스스로 코드를 써내려가는데 상당히 많은 시간이걸렸다. 프로젝트를하기전 노드를 읽을때는 다 이해하면서 읽어내려갔지만, 막상 스스로 데이터를 이해해보려하니까 뭐 부터해야할지 상당히 막막했다...그래서 최대한 노드에서 했던 과정들을 흉내내보면서 이것저것 데이터의 형태도 확인해보고 직접 출력해보면서 해당 데이터가 무슨의미인지 이해해보려 노력하였다. 이 과정을 세개의 프로젝트에서 계속 진행하다보니까 어느정도 스스로 패턴화되는 느낌을 받았고 해당 코드들을 사용하는데 어색함이 많이사라져있었다. \n",
        "\n",
        "그다음 훈련셋과 테스트셋으로 데이터를 나누는 작업을 하였고 해당 코드는 딱히 이해하는데 어렵지는 않았다.\n",
        "\n",
        "이렇게 준비된 훈련셋과 테스트셋으로 다양한 모델을 훈련 및 성능평가를 진행하였다...개인적으로 이 단계에서 가장 고민이 많았었다. 사실 모델을 훈련시키거나 성능평가지표를 출력하거나하는거 자체는 코드몇줄만 쓰면 됬었기에 쉬웠다. 하지만 문제는 해석자체에있었다. classification_report함수를 통해서 종합성능지표를 뽑고 recall,precision,accuracy 값을 확인하고 해석하는데,사실 recall과 precision을 보고 어떻게 해석해야할지 도무지 감이 잡히질않았다. 노드에서 recall과 precision의 개념을 코로나로 예를들어 오차행렬을이용해 잘 설명해 주었다. 하지만 노드에서 쓰인개념은 클래스가 오직2개로 양성,음성,즉 이진분류로 해당 개념을 설명을 해주었었다. 이 자체는 이해를 했지만,해당 프로젝트에서는 마지막 유방암여부진단을 제외하고는 전부 클래스가 여러개여서 recall과 precision을 해석하는데, 이진분류에서 이해했던 recall과 precision개념을 그대로 적용을 해도될지를 확신하지못했었다. 아마 recall과 precision,그리고 오차행렬에 대한 이해도가 많이 부족한 탓인거 같다...해당 부분을 따로 자료를 찾아가며 공부를해야될 필요성을 느끼는 부분이었다.\n",
        "\n",
        "그리고 모든 프로젝트마다 총 5개의 모델을 사용을했다. 이중에서 SGD와 로지스틱회귀모델은 이전에 공부를해본경험이 있기때문에 동작원리를 어느정도 알고있지만, 나머지 3개는 해당 노드를 진행하면서 처음 접하는 개념이었다. 노드에서 해당 모델들에대한 개념과 동작원리들을 어렴풋이 설명은 했지만, 다 이해하는건 불가능이었고, 한번에 많은 모델을 접하다보니 다 머리에집어넣기는 힘들었다..해당 모델들의 개념을 따로 정리하는 시간이 필요하다고 느꼈다. \n",
        "\n",
        "모델을 훈련을 시키고 종합성능지표를 출력을 해보면서 생긴궁금증이있다. random_state를 지정하지 않아서 그런지 classification_report을 출력할때마다 같은 모델인데도 불구하고 계속 값이 바뀌었다. 값이 많이 바뀌지 않았으면 그려려니했겠지만,이는 꽤 많은 차이로 값들이 바뀌어있었다. 이때든 생각은 그럼 우연히 극단적인 값들이 출력이됬을때, 이 지표들을 믿고써도 되는지에대한 의문이생겼다. 어떤 클래스에서는 recall과 precision이 전부 0으로 나온적도있었다.\n",
        "\n",
        "해당 프로젝트를하면서 데이터를 이해하는 과정과 모델을 훈련시키는등 전반적인 흐름자체는 많이 익숙해졌다. 하지만 동시에 많은 궁금증도 생겼고, 내가 어느부분을 잘 모르는지도 깨닫는 부분도 많았던것같다. 공부가 많이 필요한것같다..."
      ],
      "metadata": {
        "id": "R3ket6_5r4gH"
      }
    }
  ]
}