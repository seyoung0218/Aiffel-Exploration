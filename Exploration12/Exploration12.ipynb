{
  "nbformat": 4,
  "nbformat_minor": 0,
  "metadata": {
    "colab": {
      "name": "Exploration12.ipynb",
      "provenance": [],
      "collapsed_sections": [],
      "machine_shape": "hm"
    },
    "kernelspec": {
      "name": "python3",
      "display_name": "Python 3"
    },
    "language_info": {
      "name": "python"
    },
    "accelerator": "GPU",
    "gpuClass": "standard"
  },
  "cells": [
    {
      "cell_type": "markdown",
      "source": [
        "# 뉴스 요약봇 만들기"
      ],
      "metadata": {
        "id": "PSq2m__WLpxH"
      }
    },
    {
      "cell_type": "markdown",
      "source": [
        "# Step1. 라이브러리 불러오기"
      ],
      "metadata": {
        "id": "2hcmFmaOLtTH"
      }
    },
    {
      "cell_type": "code",
      "execution_count": 2,
      "metadata": {
        "id": "0YHS5FsNLl5B",
        "colab": {
          "base_uri": "https://localhost:8080/"
        },
        "outputId": "b40d2c92-3181-4758-b3bf-90baf8252c11"
      },
      "outputs": [
        {
          "output_type": "stream",
          "name": "stderr",
          "text": [
            "[nltk_data] Downloading package stopwords to /root/nltk_data...\n",
            "[nltk_data]   Unzipping corpora/stopwords.zip.\n"
          ]
        }
      ],
      "source": [
        "import nltk\n",
        "nltk.download('stopwords')\n",
        "\n",
        "import warnings\n",
        "warnings.filterwarnings(\"ignore\", category=UserWarning, module='bs4')\n",
        "\n",
        "import numpy as np\n",
        "import pandas as pd\n",
        "import os\n",
        "import re\n",
        "import matplotlib.pyplot as plt\n",
        "from nltk.corpus import stopwords\n",
        "from bs4 import BeautifulSoup \n",
        "from tensorflow.keras.preprocessing.text import Tokenizer \n",
        "from tensorflow.keras.preprocessing.sequence import pad_sequences\n",
        "import urllib.request"
      ]
    },
    {
      "cell_type": "markdown",
      "source": [
        "# Step2. 데이터 수집하기\n",
        "데이터는 뉴스 기사 데이터를 사용하겠습니다."
      ],
      "metadata": {
        "id": "3lKWzcYeVyWC"
      }
    },
    {
      "cell_type": "code",
      "source": [
        "urllib.request.urlretrieve(\"https://raw.githubusercontent.com/sunnysai12345/News_Summary/master/news_summary_more.csv\", filename=\"news_summary_more.csv\")\n",
        "data = pd.read_csv('news_summary_more.csv', encoding='iso-8859-1')\n",
        "data.sample(10)"
      ],
      "metadata": {
        "colab": {
          "base_uri": "https://localhost:8080/",
          "height": 362
        },
        "id": "k2VX45TEWMoV",
        "outputId": "8c54b6c2-7fe7-47b2-b7a9-88ef3109522f"
      },
      "execution_count": 3,
      "outputs": [
        {
          "output_type": "execute_result",
          "data": {
            "text/plain": [
              "                                               headlines  \\\n",
              "20918  Bihar minister rejects demand for resignation ...   \n",
              "97039    80% of former MPs are crorepatis: Supreme Court   \n",
              "9710   Google parent halts glucose-detecting contact ...   \n",
              "48044  Hold elections to form complaints committee: D...   \n",
              "69527  Teen who climbed peak in Superman underwear ge...   \n",
              "83772  Chipmaker puts itself on sale after Apple ends...   \n",
              "17723  Spain hand World Cup 2018 runners-up their wor...   \n",
              "97983  Man sues daughter for Ã¢ÂÂ¹17L for taking too...   \n",
              "45899  Swamy accuses Shashi Tharoor of saying he is n...   \n",
              "87288  SRK's wife Gauri posts pic of son AbRam with d...   \n",
              "\n",
              "                                                    text  \n",
              "20918  Bihar Urban Development Minister Suresh Kumar ...  \n",
              "97039  The Supreme Court has saidÃ¢ÂÂ nearly 80% of...  \n",
              "9710   Google parent Alphabet's life sciences divisio...  \n",
              "48044  The Delhi University (DU) has written to all c...  \n",
              "69527  A 19-year-old who completed the 1,085-metre cl...  \n",
              "83772  iPhone graphics chip supplier Imagination Tech...  \n",
              "17723  The Spanish national football team handed Croa...  \n",
              "97983  An Austrian man has sued his daughter for Ã¢Â...  \n",
              "45899  BJP MP Subramanian Swamy has questioned if Con...  \n",
              "87288  Actor Shah Rukh Khan's wife Gauri Khan took to...  "
            ],
            "text/html": [
              "\n",
              "  <div id=\"df-d27c3f50-1b3e-49b1-88e7-cc34388d9592\">\n",
              "    <div class=\"colab-df-container\">\n",
              "      <div>\n",
              "<style scoped>\n",
              "    .dataframe tbody tr th:only-of-type {\n",
              "        vertical-align: middle;\n",
              "    }\n",
              "\n",
              "    .dataframe tbody tr th {\n",
              "        vertical-align: top;\n",
              "    }\n",
              "\n",
              "    .dataframe thead th {\n",
              "        text-align: right;\n",
              "    }\n",
              "</style>\n",
              "<table border=\"1\" class=\"dataframe\">\n",
              "  <thead>\n",
              "    <tr style=\"text-align: right;\">\n",
              "      <th></th>\n",
              "      <th>headlines</th>\n",
              "      <th>text</th>\n",
              "    </tr>\n",
              "  </thead>\n",
              "  <tbody>\n",
              "    <tr>\n",
              "      <th>20918</th>\n",
              "      <td>Bihar minister rejects demand for resignation ...</td>\n",
              "      <td>Bihar Urban Development Minister Suresh Kumar ...</td>\n",
              "    </tr>\n",
              "    <tr>\n",
              "      <th>97039</th>\n",
              "      <td>80% of former MPs are crorepatis: Supreme Court</td>\n",
              "      <td>The Supreme Court has saidÃ¢ÂÂ nearly 80% of...</td>\n",
              "    </tr>\n",
              "    <tr>\n",
              "      <th>9710</th>\n",
              "      <td>Google parent halts glucose-detecting contact ...</td>\n",
              "      <td>Google parent Alphabet's life sciences divisio...</td>\n",
              "    </tr>\n",
              "    <tr>\n",
              "      <th>48044</th>\n",
              "      <td>Hold elections to form complaints committee: D...</td>\n",
              "      <td>The Delhi University (DU) has written to all c...</td>\n",
              "    </tr>\n",
              "    <tr>\n",
              "      <th>69527</th>\n",
              "      <td>Teen who climbed peak in Superman underwear ge...</td>\n",
              "      <td>A 19-year-old who completed the 1,085-metre cl...</td>\n",
              "    </tr>\n",
              "    <tr>\n",
              "      <th>83772</th>\n",
              "      <td>Chipmaker puts itself on sale after Apple ends...</td>\n",
              "      <td>iPhone graphics chip supplier Imagination Tech...</td>\n",
              "    </tr>\n",
              "    <tr>\n",
              "      <th>17723</th>\n",
              "      <td>Spain hand World Cup 2018 runners-up their wor...</td>\n",
              "      <td>The Spanish national football team handed Croa...</td>\n",
              "    </tr>\n",
              "    <tr>\n",
              "      <th>97983</th>\n",
              "      <td>Man sues daughter for Ã¢ÂÂ¹17L for taking too...</td>\n",
              "      <td>An Austrian man has sued his daughter for Ã¢Â...</td>\n",
              "    </tr>\n",
              "    <tr>\n",
              "      <th>45899</th>\n",
              "      <td>Swamy accuses Shashi Tharoor of saying he is n...</td>\n",
              "      <td>BJP MP Subramanian Swamy has questioned if Con...</td>\n",
              "    </tr>\n",
              "    <tr>\n",
              "      <th>87288</th>\n",
              "      <td>SRK's wife Gauri posts pic of son AbRam with d...</td>\n",
              "      <td>Actor Shah Rukh Khan's wife Gauri Khan took to...</td>\n",
              "    </tr>\n",
              "  </tbody>\n",
              "</table>\n",
              "</div>\n",
              "      <button class=\"colab-df-convert\" onclick=\"convertToInteractive('df-d27c3f50-1b3e-49b1-88e7-cc34388d9592')\"\n",
              "              title=\"Convert this dataframe to an interactive table.\"\n",
              "              style=\"display:none;\">\n",
              "        \n",
              "  <svg xmlns=\"http://www.w3.org/2000/svg\" height=\"24px\"viewBox=\"0 0 24 24\"\n",
              "       width=\"24px\">\n",
              "    <path d=\"M0 0h24v24H0V0z\" fill=\"none\"/>\n",
              "    <path d=\"M18.56 5.44l.94 2.06.94-2.06 2.06-.94-2.06-.94-.94-2.06-.94 2.06-2.06.94zm-11 1L8.5 8.5l.94-2.06 2.06-.94-2.06-.94L8.5 2.5l-.94 2.06-2.06.94zm10 10l.94 2.06.94-2.06 2.06-.94-2.06-.94-.94-2.06-.94 2.06-2.06.94z\"/><path d=\"M17.41 7.96l-1.37-1.37c-.4-.4-.92-.59-1.43-.59-.52 0-1.04.2-1.43.59L10.3 9.45l-7.72 7.72c-.78.78-.78 2.05 0 2.83L4 21.41c.39.39.9.59 1.41.59.51 0 1.02-.2 1.41-.59l7.78-7.78 2.81-2.81c.8-.78.8-2.07 0-2.86zM5.41 20L4 18.59l7.72-7.72 1.47 1.35L5.41 20z\"/>\n",
              "  </svg>\n",
              "      </button>\n",
              "      \n",
              "  <style>\n",
              "    .colab-df-container {\n",
              "      display:flex;\n",
              "      flex-wrap:wrap;\n",
              "      gap: 12px;\n",
              "    }\n",
              "\n",
              "    .colab-df-convert {\n",
              "      background-color: #E8F0FE;\n",
              "      border: none;\n",
              "      border-radius: 50%;\n",
              "      cursor: pointer;\n",
              "      display: none;\n",
              "      fill: #1967D2;\n",
              "      height: 32px;\n",
              "      padding: 0 0 0 0;\n",
              "      width: 32px;\n",
              "    }\n",
              "\n",
              "    .colab-df-convert:hover {\n",
              "      background-color: #E2EBFA;\n",
              "      box-shadow: 0px 1px 2px rgba(60, 64, 67, 0.3), 0px 1px 3px 1px rgba(60, 64, 67, 0.15);\n",
              "      fill: #174EA6;\n",
              "    }\n",
              "\n",
              "    [theme=dark] .colab-df-convert {\n",
              "      background-color: #3B4455;\n",
              "      fill: #D2E3FC;\n",
              "    }\n",
              "\n",
              "    [theme=dark] .colab-df-convert:hover {\n",
              "      background-color: #434B5C;\n",
              "      box-shadow: 0px 1px 3px 1px rgba(0, 0, 0, 0.15);\n",
              "      filter: drop-shadow(0px 1px 2px rgba(0, 0, 0, 0.3));\n",
              "      fill: #FFFFFF;\n",
              "    }\n",
              "  </style>\n",
              "\n",
              "      <script>\n",
              "        const buttonEl =\n",
              "          document.querySelector('#df-d27c3f50-1b3e-49b1-88e7-cc34388d9592 button.colab-df-convert');\n",
              "        buttonEl.style.display =\n",
              "          google.colab.kernel.accessAllowed ? 'block' : 'none';\n",
              "\n",
              "        async function convertToInteractive(key) {\n",
              "          const element = document.querySelector('#df-d27c3f50-1b3e-49b1-88e7-cc34388d9592');\n",
              "          const dataTable =\n",
              "            await google.colab.kernel.invokeFunction('convertToInteractive',\n",
              "                                                     [key], {});\n",
              "          if (!dataTable) return;\n",
              "\n",
              "          const docLinkHtml = 'Like what you see? Visit the ' +\n",
              "            '<a target=\"_blank\" href=https://colab.research.google.com/notebooks/data_table.ipynb>data table notebook</a>'\n",
              "            + ' to learn more about interactive tables.';\n",
              "          element.innerHTML = '';\n",
              "          dataTable['output_type'] = 'display_data';\n",
              "          await google.colab.output.renderOutput(dataTable, element);\n",
              "          const docLink = document.createElement('div');\n",
              "          docLink.innerHTML = docLinkHtml;\n",
              "          element.appendChild(docLink);\n",
              "        }\n",
              "      </script>\n",
              "    </div>\n",
              "  </div>\n",
              "  "
            ]
          },
          "metadata": {},
          "execution_count": 3
        }
      ]
    },
    {
      "cell_type": "code",
      "source": [
        "data.shape"
      ],
      "metadata": {
        "colab": {
          "base_uri": "https://localhost:8080/"
        },
        "id": "ZDUKmmYtZ9H6",
        "outputId": "b17aa2e6-1e89-4a69-8959-fb8901671dcf"
      },
      "execution_count": 4,
      "outputs": [
        {
          "output_type": "execute_result",
          "data": {
            "text/plain": [
              "(98401, 2)"
            ]
          },
          "metadata": {},
          "execution_count": 4
        }
      ]
    },
    {
      "cell_type": "markdown",
      "source": [
        "# Step3. 데이터 전처리하기(추상적 요약)\n",
        "## 1. 중복치 & 결측치 제거"
      ],
      "metadata": {
        "id": "oYa7_J4lZDi3"
      }
    },
    {
      "cell_type": "code",
      "source": [
        "# 중복을 배제한 샘플의 수를 셈니다.\n",
        "print(data['headlines'].nunique())\n",
        "print(data['text'].nunique())"
      ],
      "metadata": {
        "colab": {
          "base_uri": "https://localhost:8080/"
        },
        "id": "F6P9ASi_aKxH",
        "outputId": "c7c2823f-5840-480c-b688-7c695dd1f14d"
      },
      "execution_count": 5,
      "outputs": [
        {
          "output_type": "stream",
          "name": "stdout",
          "text": [
            "98280\n",
            "98360\n"
          ]
        }
      ]
    },
    {
      "cell_type": "markdown",
      "source": [
        "원래 샘플의 수인 98401과 차이가 있는거보니 중복치가 있네요. 여기서 headlines는 text의 요약본이기때문에 text가 달라도 headlines은 동일할 수도 있습니다. 하지만 text자체가 중복이 되면 중복샘플이므로 제거하겠습니다."
      ],
      "metadata": {
        "id": "XAS4Vl4JamMA"
      }
    },
    {
      "cell_type": "code",
      "source": [
        "data.drop_duplicates(subset = ['text'], inplace=True)\n",
        "len(data)"
      ],
      "metadata": {
        "colab": {
          "base_uri": "https://localhost:8080/"
        },
        "id": "WRnxctN8akvT",
        "outputId": "e7b9ad87-f07f-4399-eeee-b6314510028e"
      },
      "execution_count": 6,
      "outputs": [
        {
          "output_type": "execute_result",
          "data": {
            "text/plain": [
              "98360"
            ]
          },
          "metadata": {},
          "execution_count": 6
        }
      ]
    },
    {
      "cell_type": "markdown",
      "source": [
        "이제 결측치가 있는지 확인해보겠습니다."
      ],
      "metadata": {
        "id": "yCKtfj2iba-1"
      }
    },
    {
      "cell_type": "code",
      "source": [
        "(data.isnull()).sum()"
      ],
      "metadata": {
        "colab": {
          "base_uri": "https://localhost:8080/"
        },
        "id": "dNN8GhvObV53",
        "outputId": "be78541f-d783-4313-9e59-5d8a375d3c92"
      },
      "execution_count": 7,
      "outputs": [
        {
          "output_type": "execute_result",
          "data": {
            "text/plain": [
              "headlines    0\n",
              "text         0\n",
              "dtype: int64"
            ]
          },
          "metadata": {},
          "execution_count": 7
        }
      ]
    },
    {
      "cell_type": "markdown",
      "source": [
        "결측치는 없습니다.\n",
        "\n",
        "## 2. 텍스트정규화와 불용어 제거\n",
        "텍스트 정규화를 위한 **사전**을 다음과 같이 구성하겠습니다."
      ],
      "metadata": {
        "id": "BDRUFR8obelT"
      }
    },
    {
      "cell_type": "code",
      "source": [
        "contractions = {\"ain't\": \"is not\", \"aren't\": \"are not\",\"can't\": \"cannot\", \"'cause\": \"because\", \"could've\": \"could have\", \"couldn't\": \"could not\",\n",
        "                           \"didn't\": \"did not\",  \"doesn't\": \"does not\", \"don't\": \"do not\", \"hadn't\": \"had not\", \"hasn't\": \"has not\", \"haven't\": \"have not\",\n",
        "                           \"he'd\": \"he would\",\"he'll\": \"he will\", \"he's\": \"he is\", \"how'd\": \"how did\", \"how'd'y\": \"how do you\", \"how'll\": \"how will\", \"how's\": \"how is\",\n",
        "                           \"I'd\": \"I would\", \"I'd've\": \"I would have\", \"I'll\": \"I will\", \"I'll've\": \"I will have\",\"I'm\": \"I am\", \"I've\": \"I have\", \"i'd\": \"i would\",\n",
        "                           \"i'd've\": \"i would have\", \"i'll\": \"i will\",  \"i'll've\": \"i will have\",\"i'm\": \"i am\", \"i've\": \"i have\", \"isn't\": \"is not\", \"it'd\": \"it would\",\n",
        "                           \"it'd've\": \"it would have\", \"it'll\": \"it will\", \"it'll've\": \"it will have\",\"it's\": \"it is\", \"let's\": \"let us\", \"ma'am\": \"madam\",\n",
        "                           \"mayn't\": \"may not\", \"might've\": \"might have\",\"mightn't\": \"might not\",\"mightn't've\": \"might not have\", \"must've\": \"must have\",\n",
        "                           \"mustn't\": \"must not\", \"mustn't've\": \"must not have\", \"needn't\": \"need not\", \"needn't've\": \"need not have\",\"o'clock\": \"of the clock\",\n",
        "                           \"oughtn't\": \"ought not\", \"oughtn't've\": \"ought not have\", \"shan't\": \"shall not\", \"sha'n't\": \"shall not\", \"shan't've\": \"shall not have\",\n",
        "                           \"she'd\": \"she would\", \"she'd've\": \"she would have\", \"she'll\": \"she will\", \"she'll've\": \"she will have\", \"she's\": \"she is\",\n",
        "                           \"should've\": \"should have\", \"shouldn't\": \"should not\", \"shouldn't've\": \"should not have\", \"so've\": \"so have\",\"so's\": \"so as\",\n",
        "                           \"this's\": \"this is\",\"that'd\": \"that would\", \"that'd've\": \"that would have\", \"that's\": \"that is\", \"there'd\": \"there would\",\n",
        "                           \"there'd've\": \"there would have\", \"there's\": \"there is\", \"here's\": \"here is\",\"they'd\": \"they would\", \"they'd've\": \"they would have\",\n",
        "                           \"they'll\": \"they will\", \"they'll've\": \"they will have\", \"they're\": \"they are\", \"they've\": \"they have\", \"to've\": \"to have\",\n",
        "                           \"wasn't\": \"was not\", \"we'd\": \"we would\", \"we'd've\": \"we would have\", \"we'll\": \"we will\", \"we'll've\": \"we will have\", \"we're\": \"we are\",\n",
        "                           \"we've\": \"we have\", \"weren't\": \"were not\", \"what'll\": \"what will\", \"what'll've\": \"what will have\", \"what're\": \"what are\",\n",
        "                           \"what's\": \"what is\", \"what've\": \"what have\", \"when's\": \"when is\", \"when've\": \"when have\", \"where'd\": \"where did\", \"where's\": \"where is\",\n",
        "                           \"where've\": \"where have\", \"who'll\": \"who will\", \"who'll've\": \"who will have\", \"who's\": \"who is\", \"who've\": \"who have\",\n",
        "                           \"why's\": \"why is\", \"why've\": \"why have\", \"will've\": \"will have\", \"won't\": \"will not\", \"won't've\": \"will not have\",\n",
        "                           \"would've\": \"would have\", \"wouldn't\": \"would not\", \"wouldn't've\": \"would not have\", \"y'all\": \"you all\",\n",
        "                           \"y'all'd\": \"you all would\",\"y'all'd've\": \"you all would have\",\"y'all're\": \"you all are\",\"y'all've\": \"you all have\",\n",
        "                           \"you'd\": \"you would\", \"you'd've\": \"you would have\", \"you'll\": \"you will\", \"you'll've\": \"you will have\",\n",
        "                           \"you're\": \"you are\", \"you've\": \"you have\"}\n",
        "\n",
        "print(\"정규화 사전의 수: \", len(contractions))"
      ],
      "metadata": {
        "colab": {
          "base_uri": "https://localhost:8080/"
        },
        "id": "pGsbH_MAbpHv",
        "outputId": "b62acb10-a8ff-49ee-8fb5-b177f1eeef9b"
      },
      "execution_count": 8,
      "outputs": [
        {
          "output_type": "stream",
          "name": "stdout",
          "text": [
            "정규화 사전의 수:  120\n"
          ]
        }
      ]
    },
    {
      "cell_type": "markdown",
      "source": [
        "상황에따라 불용어를 제거하는것이 자연어 처리의 성능을 높일수있습니다. 불용어도 한번 출력해보겠습니다."
      ],
      "metadata": {
        "id": "QZhbMwWIchOt"
      }
    },
    {
      "cell_type": "code",
      "source": [
        "print(stopwords.words('english'))\n",
        "print(len(stopwords.words('english')))"
      ],
      "metadata": {
        "colab": {
          "base_uri": "https://localhost:8080/"
        },
        "id": "Et3nelpjcqJx",
        "outputId": "6381f380-b8d5-4a54-9070-77c77fd14c3c"
      },
      "execution_count": 9,
      "outputs": [
        {
          "output_type": "stream",
          "name": "stdout",
          "text": [
            "['i', 'me', 'my', 'myself', 'we', 'our', 'ours', 'ourselves', 'you', \"you're\", \"you've\", \"you'll\", \"you'd\", 'your', 'yours', 'yourself', 'yourselves', 'he', 'him', 'his', 'himself', 'she', \"she's\", 'her', 'hers', 'herself', 'it', \"it's\", 'its', 'itself', 'they', 'them', 'their', 'theirs', 'themselves', 'what', 'which', 'who', 'whom', 'this', 'that', \"that'll\", 'these', 'those', 'am', 'is', 'are', 'was', 'were', 'be', 'been', 'being', 'have', 'has', 'had', 'having', 'do', 'does', 'did', 'doing', 'a', 'an', 'the', 'and', 'but', 'if', 'or', 'because', 'as', 'until', 'while', 'of', 'at', 'by', 'for', 'with', 'about', 'against', 'between', 'into', 'through', 'during', 'before', 'after', 'above', 'below', 'to', 'from', 'up', 'down', 'in', 'out', 'on', 'off', 'over', 'under', 'again', 'further', 'then', 'once', 'here', 'there', 'when', 'where', 'why', 'how', 'all', 'any', 'both', 'each', 'few', 'more', 'most', 'other', 'some', 'such', 'no', 'nor', 'not', 'only', 'own', 'same', 'so', 'than', 'too', 'very', 's', 't', 'can', 'will', 'just', 'don', \"don't\", 'should', \"should've\", 'now', 'd', 'll', 'm', 'o', 're', 've', 'y', 'ain', 'aren', \"aren't\", 'couldn', \"couldn't\", 'didn', \"didn't\", 'doesn', \"doesn't\", 'hadn', \"hadn't\", 'hasn', \"hasn't\", 'haven', \"haven't\", 'isn', \"isn't\", 'ma', 'mightn', \"mightn't\", 'mustn', \"mustn't\", 'needn', \"needn't\", 'shan', \"shan't\", 'shouldn', \"shouldn't\", 'wasn', \"wasn't\", 'weren', \"weren't\", 'won', \"won't\", 'wouldn', \"wouldn't\"]\n",
            "179\n"
          ]
        }
      ]
    },
    {
      "cell_type": "markdown",
      "source": [
        "그리고 요약결과문이 자연스러운 문장이 되려면 이 불용어들이 headlines에는 남아있는게 더 좋습니다."
      ],
      "metadata": {
        "id": "oKCA04pRgyzt"
      }
    },
    {
      "cell_type": "markdown",
      "source": [
        "## 3. 전처리함수 구현"
      ],
      "metadata": {
        "id": "hAf7LjFwdHEw"
      }
    },
    {
      "cell_type": "code",
      "source": [
        "def preprocess_sentence(sentence, remove_stopwords=True):\n",
        "  sentence = sentence.lower() # 텍스트 소문자화\n",
        "  sentence = BeautifulSoup(sentence, \"lxml\").text # <br />, <a href = ...> 등의 html 태그 제거\n",
        "  sentence = re.sub(r'\\([^)]*\\)', '', sentence) # 괄호로 닫힌 문자열( )제거\n",
        "  sentence = re.sub('\"','', sentence) # 쌍따옴표 제거\n",
        "  sentence = ' '.join([contractions[t] if t in contractions else t for t in sentence.split(\" \")]) # 약어 정규화\n",
        "  sentence = re.sub(r\"'s\\b\",\"\", sentence) # 소유격 제거, Ex) roland's -> roland\n",
        "  sentence = re.sub(\"[^a-zA-Z]\", \" \", sentence) # 영어어 외외 문자 공백으로 변환\n",
        "  sentence = re.sub('[m]{2,}', 'mm', sentence) # m이 3개 이상이면 2개로 변경경\n",
        "\n",
        "  # 불용어 제거\n",
        "  if remove_stopwords:\n",
        "    tokens = ' '.join(word for word in sentence.split() if not word in stopwords.words('english') if len(word) > 1)\n",
        "  # 불용어 미제거\n",
        "  else:\n",
        "    tokens = ' '.join(word for word in sentence.split() if len(word) > 1)\n",
        "  return tokens   "
      ],
      "metadata": {
        "id": "G2kbAYtkdJ8q"
      },
      "execution_count": 10,
      "outputs": []
    },
    {
      "cell_type": "markdown",
      "source": [
        "## 4. 훈련데이터 전체에 전처리 적용하기"
      ],
      "metadata": {
        "id": "Xb98gONPhC8P"
      }
    },
    {
      "cell_type": "code",
      "source": [
        "clean_text = []\n",
        "\n",
        "for s in data['text']:\n",
        "  clean_text.append(preprocess_sentence(s))\n",
        "\n",
        "print('text 전처리 후 결과',clean_text[:5])"
      ],
      "metadata": {
        "colab": {
          "base_uri": "https://localhost:8080/"
        },
        "id": "_zPssQNfhG0L",
        "outputId": "34db6145-7e24-4f91-eb7b-35e7a6edcbbf"
      },
      "execution_count": 11,
      "outputs": [
        {
          "output_type": "stream",
          "name": "stdout",
          "text": [
            "text 전처리 후 결과 ['saurav kant alumnus upgrad iiit pg program machine learning artificial intelligence sr systems engineer infosys almost years work experience program upgrad degree career support helped transition data scientist tech mahindra salary hike upgrad online power learning powered lakh careers', 'kunal shah credit card bill payment platform cred gave users chance win free food swiggy one year pranav kaushik delhi techie bagged reward spending cred coins users get one cred coin per rupee bill paid used avail rewards brands like ixigo bookmyshow ubereats cult fit', 'new zealand defeated india wickets fourth odi hamilton thursday win first match five match odi series india lost international match rohit sharma captaincy consecutive victories dating back march match witnessed india getting seventh lowest total odi cricket history', 'aegon life iterm insurance plan customers enjoy tax benefits premiums paid save taxes plan provides life cover age years also customers options insure critical illnesses disability accidental death benefit rider life cover age years', 'speaking sexual harassment allegations rajkumar hirani sonam kapoor said known hirani many years true metoo movement get derailed metoo movement always believe woman case need reserve judgment added hirani accused assistant worked sanju']\n"
          ]
        }
      ]
    },
    {
      "cell_type": "code",
      "source": [
        "clean_headlines = []\n",
        "\n",
        "for s in data['headlines']:\n",
        "  clean_headlines.append(preprocess_sentence(s, False)) # \n",
        "\n",
        "print('headlines 전처리 후 결과:', clean_headlines[:5])"
      ],
      "metadata": {
        "colab": {
          "base_uri": "https://localhost:8080/"
        },
        "id": "6ajvZfXliQVb",
        "outputId": "d6b24fa5-68e2-4bf5-ee81-b09b9010e847"
      },
      "execution_count": 12,
      "outputs": [
        {
          "output_type": "stream",
          "name": "stdout",
          "text": [
            "headlines 전처리 후 결과: ['upgrad learner switches to career in ml al with salary hike', 'delhi techie wins free food from swiggy for one year on cred', 'new zealand end rohit sharma led india match winning streak', 'aegon life iterm insurance plan helps customers save tax', 'have known hirani for yrs what if metoo claims are not true sonam']\n"
          ]
        }
      ]
    },
    {
      "cell_type": "markdown",
      "source": [
        "이렇게 전처리 과정을 거친후 빈샘플이 생겼는지 확인해봐야합니다. 왜냐하면 전처리 이후 문장의 모든 단어가 사라지는 경우가 있기 때문입니다. "
      ],
      "metadata": {
        "id": "73tDo6sgimTu"
      }
    },
    {
      "cell_type": "code",
      "source": [
        "# 전처리한 데이터를 다시 데이터프레임에 넣어줍니다.\n",
        "data['text'] = clean_text\n",
        "data['headlines'] = clean_headlines\n",
        "\n",
        "# 빈 값을 Null 값으로 변환\n",
        "data.replace('', np.nan, inplace=True)\n",
        "\n",
        "# Null값 확인\n",
        "print('Nomber of Null:',data.isnull().sum())\n",
        "\n",
        "# Null 제거\n",
        "data.dropna(axis=0, inplace=True)\n",
        "print('Null 제거후 전체 샘플수:', len(data))"
      ],
      "metadata": {
        "colab": {
          "base_uri": "https://localhost:8080/"
        },
        "id": "ny9dZaCCjAwL",
        "outputId": "7a479380-af68-4521-e86a-43417b39b8d8"
      },
      "execution_count": 13,
      "outputs": [
        {
          "output_type": "stream",
          "name": "stdout",
          "text": [
            "Nomber of Null: headlines    0\n",
            "text         0\n",
            "dtype: int64\n",
            "Null 제거후 전체 샘플수: 98360\n"
          ]
        }
      ]
    },
    {
      "cell_type": "markdown",
      "source": [
        "## 5. 샘플의 최대 길이 정하기\n",
        "이제 훈련에 사용할 샘플의 최대 길이를 정해줍시다.\n",
        "\n",
        "text와 headlines의 최대,최소,평균길이를 구하고 시각화해보겠습니다."
      ],
      "metadata": {
        "id": "DCRAkiJHk4xA"
      }
    },
    {
      "cell_type": "code",
      "source": [
        "# text와 headlines의 문장 길이 분포리스트\n",
        "text_len = [len(s.split()) for s in data['text']]\n",
        "headlines_len = [len(s.split()) for s in data['headlines']]\n",
        "\n",
        "print('text의 최소길이: {}'.format(np.min(text_len)))\n",
        "print('text의 최대길이: {}'.format(np.max(text_len)))\n",
        "print('text의 평균길이: {}'.format(np.mean(text_len)))\n",
        "print('headlines의 최소길이: {}'.format(np.min(headlines_len)))\n",
        "print('headlines의 최대길이: {}'.format(np.max(headlines_len)))\n",
        "print('headlines의 평균길이: {}'.format(np.mean(headlines_len)))\n",
        "\n",
        "plt.subplot(1,2,1)\n",
        "plt.boxplot(text_len)\n",
        "plt.title('text')\n",
        "plt.subplot(1,2,2)\n",
        "plt.boxplot(headlines_len)\n",
        "plt.title('headlines')\n",
        "plt.tight_layout()\n",
        "plt.show()\n",
        "\n",
        "plt.title('text')\n",
        "plt.hist(text_len, bins = 40)\n",
        "plt.xlabel('length of samples')\n",
        "plt.ylabel('number of samples')\n",
        "plt.show()\n",
        "\n",
        "plt.title('headliens')\n",
        "plt.hist(headlines_len, bins = 40)\n",
        "plt.xlabel('length of samples')\n",
        "plt.ylabel('number of samples')\n",
        "plt.show()"
      ],
      "metadata": {
        "colab": {
          "base_uri": "https://localhost:8080/",
          "height": 958
        },
        "id": "hwmTdchElJT3",
        "outputId": "44323790-ded1-4a9e-b698-c3db620a0683"
      },
      "execution_count": 14,
      "outputs": [
        {
          "output_type": "stream",
          "name": "stdout",
          "text": [
            "text의 최소길이: 1\n",
            "text의 최대길이: 60\n",
            "text의 평균길이: 35.09968483123221\n",
            "headlines의 최소길이: 1\n",
            "headlines의 최대길이: 16\n",
            "headlines의 평균길이: 9.299532330215534\n"
          ]
        },
        {
          "output_type": "display_data",
          "data": {
            "text/plain": [
              "<Figure size 432x288 with 2 Axes>"
            ],
            "image/png": "[encoded data removed]"
          },
          "metadata": {
            "needs_background": "light"
          }
        },
        {
          "output_type": "display_data",
          "data": {
            "text/plain": [
              "<Figure size 432x288 with 1 Axes>"
            ],
            "image/png": "[encoded data removed]"
          },
          "metadata": {
            "needs_background": "light"
          }
        },
        {
          "output_type": "display_data",
          "data": {
            "text/plain": [
              "<Figure size 432x288 with 1 Axes>"
            ],
            "image/png": "[encoded data removed]"
          },
          "metadata": {
            "needs_background": "light"
          }
        }
      ]
    },
    {
      "cell_type": "markdown",
      "source": [
        "이로부터 text의 최대길이와 headlines의 적절한 최대길이를 임의로 정해보겠습니다."
      ],
      "metadata": {
        "id": "HJCkmaetnOrs"
      }
    },
    {
      "cell_type": "code",
      "source": [
        "text_max_len = 40\n",
        "headlines_max_len = 10"
      ],
      "metadata": {
        "id": "hhB9pEBknTwH"
      },
      "execution_count": 15,
      "outputs": []
    },
    {
      "cell_type": "markdown",
      "source": [
        "그리고 이 길이를 택했을때, 해당 데이터의 몇%가 해당하는지 계산하는 함수를 만들어서보겠습니다."
      ],
      "metadata": {
        "id": "kxOiEi1BnpJJ"
      }
    },
    {
      "cell_type": "code",
      "source": [
        "def below_threshold_len(max_len, nested_list):\n",
        "  cnt = 0\n",
        "  for s in nested_list:\n",
        "    if(len(s.split()) <= max_len):\n",
        "      cnt += 1\n",
        "  print('전체 샘플 중 길이가 %s 이하인 샘플의 비율: %s'%(max_len, (cnt / len(nested_list))))\n",
        "\n",
        "below_threshold_len(text_max_len, data['text'])\n",
        "below_threshold_len(headlines_max_len, data['headlines'])"
      ],
      "metadata": {
        "colab": {
          "base_uri": "https://localhost:8080/"
        },
        "id": "A07TXXk6n5X-",
        "outputId": "1f06224c-a1ae-466d-d193-5bb863284151"
      },
      "execution_count": 16,
      "outputs": [
        {
          "output_type": "stream",
          "name": "stdout",
          "text": [
            "전체 샘플 중 길이가 40 이하인 샘플의 비율: 0.9238714924766165\n",
            "전체 샘플 중 길이가 10 이하인 샘플의 비율: 0.8162972753151687\n"
          ]
        }
      ]
    },
    {
      "cell_type": "markdown",
      "source": [
        "이 상태로 40과 10으로 패딩을 하게 되면 해당 길이보다 긴 샘플은 내용이잘리게 됩니다. 따라서 우리는 정해진 길이로 맞춰 자르는 것이 아니라, 정해진 길이보다 길면 제외하는 방법으로 데이터를 전처리하겠습니다."
      ],
      "metadata": {
        "id": "N5P8x7P7o60T"
      }
    },
    {
      "cell_type": "code",
      "source": [
        "data = data[data['text'].apply(lambda x: len(x.split()) <= text_max_len)]\n",
        "data = data[data['headlines'].apply(lambda x: len(x.split()) <= headlines_max_len)]\n",
        "print('전체 샘플수:', len(data))"
      ],
      "metadata": {
        "colab": {
          "base_uri": "https://localhost:8080/"
        },
        "id": "jwor8KpfpHQK",
        "outputId": "e87ee22c-da58-4134-a01f-bc94063ffafa"
      },
      "execution_count": 17,
      "outputs": [
        {
          "output_type": "stream",
          "name": "stdout",
          "text": [
            "전체 샘플수: 74102\n"
          ]
        }
      ]
    },
    {
      "cell_type": "markdown",
      "source": [
        "## 6. 시작토큰과 종료토큰 추가하기\n",
        "seq2seq훈련을 위해서는 디코더의 입력과 레이블에 각각 시작토큰과 종료토큰을 추가할 필요가 있어요.\n",
        "\n",
        "이번실습에서는 시작토큰을 \\<sos\\>, 종료토큰은 \\<eos\\>이라 임의로 명명하고 앞,뒤로 추가하겠습니다."
      ],
      "metadata": {
        "id": "_F1rhnalpyeG"
      }
    },
    {
      "cell_type": "code",
      "source": [
        "data['decoder_input'] = data['headlines'].apply(lambda x: '<sos> '+ x)\n",
        "data['decoder_target'] = data['headlines'].apply(lambda x: x + ' <eos>')\n",
        "data.head()"
      ],
      "metadata": {
        "colab": {
          "base_uri": "https://localhost:8080/",
          "height": 565
        },
        "id": "7QMM7GnwsJt1",
        "outputId": "e858cf00-fad5-42d8-ed76-0785d9fb90bf"
      },
      "execution_count": 18,
      "outputs": [
        {
          "output_type": "stream",
          "name": "stderr",
          "text": [
            "/usr/local/lib/python3.7/dist-packages/ipykernel_launcher.py:1: SettingWithCopyWarning: \n",
            "A value is trying to be set on a copy of a slice from a DataFrame.\n",
            "Try using .loc[row_indexer,col_indexer] = value instead\n",
            "\n",
            "See the caveats in the documentation: https://pandas.pydata.org/pandas-docs/stable/user_guide/indexing.html#returning-a-view-versus-a-copy\n",
            "  \"\"\"Entry point for launching an IPython kernel.\n",
            "/usr/local/lib/python3.7/dist-packages/ipykernel_launcher.py:2: SettingWithCopyWarning: \n",
            "A value is trying to be set on a copy of a slice from a DataFrame.\n",
            "Try using .loc[row_indexer,col_indexer] = value instead\n",
            "\n",
            "See the caveats in the documentation: https://pandas.pydata.org/pandas-docs/stable/user_guide/indexing.html#returning-a-view-versus-a-copy\n",
            "  \n"
          ]
        },
        {
          "output_type": "execute_result",
          "data": {
            "text/plain": [
              "                                            headlines  \\\n",
              "2   new zealand end rohit sharma led india match w...   \n",
              "3   aegon life iterm insurance plan helps customer...   \n",
              "5   rahat fateh ali khan denies getting notice for...   \n",
              "9   cong wins ramgarh bypoll in rajasthan takes to...   \n",
              "10  up cousins fed human excreta for friendship wi...   \n",
              "\n",
              "                                                 text  \\\n",
              "2   new zealand defeated india wickets fourth odi ...   \n",
              "3   aegon life iterm insurance plan customers enjo...   \n",
              "5   pakistani singer rahat fateh ali khan denied r...   \n",
              "9   congress candidate shafia zubair ramgarh assem...   \n",
              "10  two minor cousins uttar pradesh gorakhpur alle...   \n",
              "\n",
              "                                        decoder_input  \\\n",
              "2   <sos> new zealand end rohit sharma led india m...   \n",
              "3   <sos> aegon life iterm insurance plan helps cu...   \n",
              "5   <sos> rahat fateh ali khan denies getting noti...   \n",
              "9   <sos> cong wins ramgarh bypoll in rajasthan ta...   \n",
              "10  <sos> up cousins fed human excreta for friends...   \n",
              "\n",
              "                                       decoder_target  \n",
              "2   new zealand end rohit sharma led india match w...  \n",
              "3   aegon life iterm insurance plan helps customer...  \n",
              "5   rahat fateh ali khan denies getting notice for...  \n",
              "9   cong wins ramgarh bypoll in rajasthan takes to...  \n",
              "10  up cousins fed human excreta for friendship wi...  "
            ],
            "text/html": [
              "\n",
              "  <div id=\"df-45b40f3c-6fdc-48f1-b949-76443f0c970e\">\n",
              "    <div class=\"colab-df-container\">\n",
              "      <div>\n",
              "<style scoped>\n",
              "    .dataframe tbody tr th:only-of-type {\n",
              "        vertical-align: middle;\n",
              "    }\n",
              "\n",
              "    .dataframe tbody tr th {\n",
              "        vertical-align: top;\n",
              "    }\n",
              "\n",
              "    .dataframe thead th {\n",
              "        text-align: right;\n",
              "    }\n",
              "</style>\n",
              "<table border=\"1\" class=\"dataframe\">\n",
              "  <thead>\n",
              "    <tr style=\"text-align: right;\">\n",
              "      <th></th>\n",
              "      <th>headlines</th>\n",
              "      <th>text</th>\n",
              "      <th>decoder_input</th>\n",
              "      <th>decoder_target</th>\n",
              "    </tr>\n",
              "  </thead>\n",
              "  <tbody>\n",
              "    <tr>\n",
              "      <th>2</th>\n",
              "      <td>new zealand end rohit sharma led india match w...</td>\n",
              "      <td>new zealand defeated india wickets fourth odi ...</td>\n",
              "      <td>&lt;sos&gt; new zealand end rohit sharma led india m...</td>\n",
              "      <td>new zealand end rohit sharma led india match w...</td>\n",
              "    </tr>\n",
              "    <tr>\n",
              "      <th>3</th>\n",
              "      <td>aegon life iterm insurance plan helps customer...</td>\n",
              "      <td>aegon life iterm insurance plan customers enjo...</td>\n",
              "      <td>&lt;sos&gt; aegon life iterm insurance plan helps cu...</td>\n",
              "      <td>aegon life iterm insurance plan helps customer...</td>\n",
              "    </tr>\n",
              "    <tr>\n",
              "      <th>5</th>\n",
              "      <td>rahat fateh ali khan denies getting notice for...</td>\n",
              "      <td>pakistani singer rahat fateh ali khan denied r...</td>\n",
              "      <td>&lt;sos&gt; rahat fateh ali khan denies getting noti...</td>\n",
              "      <td>rahat fateh ali khan denies getting notice for...</td>\n",
              "    </tr>\n",
              "    <tr>\n",
              "      <th>9</th>\n",
              "      <td>cong wins ramgarh bypoll in rajasthan takes to...</td>\n",
              "      <td>congress candidate shafia zubair ramgarh assem...</td>\n",
              "      <td>&lt;sos&gt; cong wins ramgarh bypoll in rajasthan ta...</td>\n",
              "      <td>cong wins ramgarh bypoll in rajasthan takes to...</td>\n",
              "    </tr>\n",
              "    <tr>\n",
              "      <th>10</th>\n",
              "      <td>up cousins fed human excreta for friendship wi...</td>\n",
              "      <td>two minor cousins uttar pradesh gorakhpur alle...</td>\n",
              "      <td>&lt;sos&gt; up cousins fed human excreta for friends...</td>\n",
              "      <td>up cousins fed human excreta for friendship wi...</td>\n",
              "    </tr>\n",
              "  </tbody>\n",
              "</table>\n",
              "</div>\n",
              "      <button class=\"colab-df-convert\" onclick=\"convertToInteractive('df-45b40f3c-6fdc-48f1-b949-76443f0c970e')\"\n",
              "              title=\"Convert this dataframe to an interactive table.\"\n",
              "              style=\"display:none;\">\n",
              "        \n",
              "  <svg xmlns=\"http://www.w3.org/2000/svg\" height=\"24px\"viewBox=\"0 0 24 24\"\n",
              "       width=\"24px\">\n",
              "    <path d=\"M0 0h24v24H0V0z\" fill=\"none\"/>\n",
              "    <path d=\"M18.56 5.44l.94 2.06.94-2.06 2.06-.94-2.06-.94-.94-2.06-.94 2.06-2.06.94zm-11 1L8.5 8.5l.94-2.06 2.06-.94-2.06-.94L8.5 2.5l-.94 2.06-2.06.94zm10 10l.94 2.06.94-2.06 2.06-.94-2.06-.94-.94-2.06-.94 2.06-2.06.94z\"/><path d=\"M17.41 7.96l-1.37-1.37c-.4-.4-.92-.59-1.43-.59-.52 0-1.04.2-1.43.59L10.3 9.45l-7.72 7.72c-.78.78-.78 2.05 0 2.83L4 21.41c.39.39.9.59 1.41.59.51 0 1.02-.2 1.41-.59l7.78-7.78 2.81-2.81c.8-.78.8-2.07 0-2.86zM5.41 20L4 18.59l7.72-7.72 1.47 1.35L5.41 20z\"/>\n",
              "  </svg>\n",
              "      </button>\n",
              "      \n",
              "  <style>\n",
              "    .colab-df-container {\n",
              "      display:flex;\n",
              "      flex-wrap:wrap;\n",
              "      gap: 12px;\n",
              "    }\n",
              "\n",
              "    .colab-df-convert {\n",
              "      background-color: #E8F0FE;\n",
              "      border: none;\n",
              "      border-radius: 50%;\n",
              "      cursor: pointer;\n",
              "      display: none;\n",
              "      fill: #1967D2;\n",
              "      height: 32px;\n",
              "      padding: 0 0 0 0;\n",
              "      width: 32px;\n",
              "    }\n",
              "\n",
              "    .colab-df-convert:hover {\n",
              "      background-color: #E2EBFA;\n",
              "      box-shadow: 0px 1px 2px rgba(60, 64, 67, 0.3), 0px 1px 3px 1px rgba(60, 64, 67, 0.15);\n",
              "      fill: #174EA6;\n",
              "    }\n",
              "\n",
              "    [theme=dark] .colab-df-convert {\n",
              "      background-color: #3B4455;\n",
              "      fill: #D2E3FC;\n",
              "    }\n",
              "\n",
              "    [theme=dark] .colab-df-convert:hover {\n",
              "      background-color: #434B5C;\n",
              "      box-shadow: 0px 1px 3px 1px rgba(0, 0, 0, 0.15);\n",
              "      filter: drop-shadow(0px 1px 2px rgba(0, 0, 0, 0.3));\n",
              "      fill: #FFFFFF;\n",
              "    }\n",
              "  </style>\n",
              "\n",
              "      <script>\n",
              "        const buttonEl =\n",
              "          document.querySelector('#df-45b40f3c-6fdc-48f1-b949-76443f0c970e button.colab-df-convert');\n",
              "        buttonEl.style.display =\n",
              "          google.colab.kernel.accessAllowed ? 'block' : 'none';\n",
              "\n",
              "        async function convertToInteractive(key) {\n",
              "          const element = document.querySelector('#df-45b40f3c-6fdc-48f1-b949-76443f0c970e');\n",
              "          const dataTable =\n",
              "            await google.colab.kernel.invokeFunction('convertToInteractive',\n",
              "                                                     [key], {});\n",
              "          if (!dataTable) return;\n",
              "\n",
              "          const docLinkHtml = 'Like what you see? Visit the ' +\n",
              "            '<a target=\"_blank\" href=https://colab.research.google.com/notebooks/data_table.ipynb>data table notebook</a>'\n",
              "            + ' to learn more about interactive tables.';\n",
              "          element.innerHTML = '';\n",
              "          dataTable['output_type'] = 'display_data';\n",
              "          await google.colab.output.renderOutput(dataTable, element);\n",
              "          const docLink = document.createElement('div');\n",
              "          docLink.innerHTML = docLinkHtml;\n",
              "          element.appendChild(docLink);\n",
              "        }\n",
              "      </script>\n",
              "    </div>\n",
              "  </div>\n",
              "  "
            ]
          },
          "metadata": {},
          "execution_count": 18
        }
      ]
    },
    {
      "cell_type": "markdown",
      "source": [
        "이제 인코더의 입력, 디코더의 입력과 레이블을 각각 numpy타입으로 저장해주겠습니다."
      ],
      "metadata": {
        "id": "X-P1BStwwLcD"
      }
    },
    {
      "cell_type": "code",
      "source": [
        "encoder_input = np.array(data['text'])\n",
        "decoder_input = np.array(data['decoder_input'])\n",
        "decoder_target = np.array(data['decoder_target'])"
      ],
      "metadata": {
        "id": "oG2Gl9FmwSqj"
      },
      "execution_count": 19,
      "outputs": []
    },
    {
      "cell_type": "markdown",
      "source": [
        "## 7. 훈련데이터와 테스트데이터 분리"
      ],
      "metadata": {
        "id": "PaEJkvnGwyry"
      }
    },
    {
      "cell_type": "code",
      "source": [
        "# 전체 샘플수와 같은 크기의 순서가 섞인 정수 시퀀스를 만들어줍니다.\n",
        "indices = np.arange(encoder_input.shape[0])\n",
        "np.random.shuffle(indices)\n",
        "\n",
        "# 정수 시퀀스를 이용해 데이터 샘플 순서를 섞어줍시다\n",
        "encoder_input = encoder_input[indices]\n",
        "decoder_input = decoder_input[indices]\n",
        "decoder_target = decoder_target[indices]\n",
        "\n",
        "# 8:2의 비율로 분리\n",
        "n_of_val = int(len(encoder_input)*0.2)\n",
        "\n",
        "encoder_input_train = encoder_input[:-n_of_val]\n",
        "decoder_input_train = decoder_input[:-n_of_val]\n",
        "decoder_target_train = decoder_target[:-n_of_val]\n",
        "\n",
        "encoder_input_test = encoder_input[-n_of_val:]\n",
        "decoder_input_test = decoder_input[-n_of_val:]\n",
        "decoder_target_test = decoder_target[-n_of_val:]\n",
        "\n",
        "print('인코더인풋_훈련 개수:', len(encoder_input_train))\n",
        "print('디코더인풋_훈련 개수:', len(decoder_input_train))\n",
        "print('인코더인풋_테스트 개수:', len(encoder_input_test))\n",
        "print('디코더인풋_테스트 개수:', len(decoder_input_test))"
      ],
      "metadata": {
        "colab": {
          "base_uri": "https://localhost:8080/"
        },
        "id": "GuMH9jYDw6X-",
        "outputId": "37709446-0855-42eb-815f-77fdac1d98b2"
      },
      "execution_count": 20,
      "outputs": [
        {
          "output_type": "stream",
          "name": "stdout",
          "text": [
            "인코더인풋_훈련 개수: 59282\n",
            "디코더인풋_훈련 개수: 59282\n",
            "인코더인풋_테스트 개수: 14820\n",
            "디코더인풋_테스트 개수: 14820\n"
          ]
        }
      ]
    },
    {
      "cell_type": "markdown",
      "source": [
        "## 8. vocabulary만들기\n",
        "기계가 텍스트를 처리하려면 모든 데이터의 단어들을 모두 정수로 바꾸어주어야합니다. 이 과정을 vocabulary을 만든다고합니다. \n",
        "\n",
        "우선 encoder_input_train에 대한 vocabulary를 만들어봅시다."
      ],
      "metadata": {
        "id": "3Oyu3G-qzE-h"
      }
    },
    {
      "cell_type": "code",
      "source": [
        "src_tokenizer = Tokenizer()\n",
        "src_tokenizer.fit_on_texts(encoder_input_train)"
      ],
      "metadata": {
        "id": "1cu2CZoF1KX1"
      },
      "execution_count": 21,
      "outputs": []
    },
    {
      "cell_type": "markdown",
      "source": [
        "이제 단어집합이 생성되는 동시에 각 단어에 고유한 정수가 부여되었습니다. 현재 생성된 단어집합은 word_index에 저장되어있습니다. 하지만 이렇게 만든 vocabulary에 있는 모든 단어를 다 사용하는것은 비효율적입니다.\n",
        "\n",
        "등장 빈도수가 7회 미만인 단어들이 데이터에서 얼만큼의 비중을 차지하는지 확인해봅시다."
      ],
      "metadata": {
        "id": "f8oEx3Li1aA2"
      }
    },
    {
      "cell_type": "code",
      "source": [
        "threshold = 7\n",
        "total_cnt = len(src_tokenizer.word_index) # 단어의 수\n",
        "rare_cnt = 0  # 등장 빈도수가 7보다 작은 단어의 개수를 카운드\n",
        "total_freq = 0  # 훈련데이터의 전체 단어 빈도수 총 합\n",
        "rare_freq = 0  # 등장빈도수가 7보다 작은 단어의 등장 빈도수의 총 합\n",
        "\n",
        "# word_counts()에는 각 단어의 등장빈도수가 저장돼 있습니다.\n",
        "for key, value in src_tokenizer.word_counts.items():\n",
        "  total_freq += value\n",
        "\n",
        "  if(value < threshold):\n",
        "    rare_cnt += 1\n",
        "    rare_freq += value\n",
        "\n",
        "print('vocabulary의 크기:', total_cnt)\n",
        "print('등장 빈도 %s번 이하인 희귀 단어의 수: %s'%(threshold - 1, rare_cnt))\n",
        "print('vocabulary에서 희귀단어를 제외시킬 경우의 vocabulary의 크기%s'%(total_cnt - rare_cnt))\n",
        "print('vocabulary에서 희귀단어의 비율:', (rare_cnt / total_cnt)*100)\n",
        "print('전체 등장빈도에서 희귀단어 등장빈도 비율:', (rare_freq / total_freq)*100)"
      ],
      "metadata": {
        "colab": {
          "base_uri": "https://localhost:8080/"
        },
        "id": "0MIW7x2b19zW",
        "outputId": "9994737e-91b7-4ef8-b736-1894079734c1"
      },
      "execution_count": 22,
      "outputs": [
        {
          "output_type": "stream",
          "name": "stdout",
          "text": [
            "vocabulary의 크기: 61398\n",
            "등장 빈도 6번 이하인 희귀 단어의 수: 42122\n",
            "vocabulary에서 희귀단어를 제외시킬 경우의 vocabulary의 크기19276\n",
            "vocabulary에서 희귀단어의 비율: 68.60484054855208\n",
            "전체 등장빈도에서 희귀단어 등장빈도 비율: 4.185278226048331\n"
          ]
        }
      ]
    },
    {
      "cell_type": "markdown",
      "source": [
        "7회미만 단어들은 vocabulary의 68%를 차지하지만 등장비중은 4%밖에 되지않네요.따라서 훈련데이터에서 해당단어들을 제거하겠습니다."
      ],
      "metadata": {
        "id": "TWD7zmJE4BFx"
      }
    },
    {
      "cell_type": "code",
      "source": [
        "src_vocab = 19000\n",
        "src_tokenizer = Tokenizer(num_words=src_vocab) # vocabulary의 크기를 19000으로제한\n",
        "src_tokenizer.fit_on_texts(encoder_input_train) # vocabulary 재생성"
      ],
      "metadata": {
        "id": "ZrtJ4WQ14W9z"
      },
      "execution_count": 23,
      "outputs": []
    },
    {
      "cell_type": "markdown",
      "source": [
        "## 9. 정수 인코딩\n",
        "생성된 vocabulary를 기반하여 텍스트데이터들을 모두 정수로 변환하는 정수인코딩을 수행해보겠습니다."
      ],
      "metadata": {
        "id": "eSbKhykK49Gb"
      }
    },
    {
      "cell_type": "code",
      "source": [
        "encoder_input_train = src_tokenizer.texts_to_sequences(encoder_input_train)\n",
        "encoder_input_test = src_tokenizer.texts_to_sequences(encoder_input_test)\n",
        "\n",
        "print(encoder_input_train[:3])"
      ],
      "metadata": {
        "colab": {
          "base_uri": "https://localhost:8080/"
        },
        "id": "xZjqJ62t5DJa",
        "outputId": "44457e40-0a9f-40f0-b24f-384b4f73cf00"
      },
      "execution_count": 24,
      "outputs": [
        {
          "output_type": "stream",
          "name": "stdout",
          "text": [
            "[[24, 2143, 2720, 13736, 4481, 72, 7918, 15069, 1580, 855, 3229, 1125, 740, 2143, 2132, 4481, 4075, 23, 365, 3230, 11714, 2650, 7918, 15069, 58, 8836, 437, 9774, 1759, 408, 2], [3, 2361, 7919, 5024, 1664, 9031, 408, 2685, 682, 88, 642, 6330, 24, 1206, 275, 243, 1952, 2361, 1664, 3325, 1979, 355, 2956, 12665, 3717, 745, 2307, 15892], [6248, 8650, 1264, 8837, 646, 344, 592, 128, 575, 128, 457, 420, 5394, 646, 5464, 446, 139, 13737, 2218, 611, 94, 6248, 704, 127, 4566, 47, 8838, 578, 3283]]\n"
          ]
        }
      ]
    },
    {
      "cell_type": "markdown",
      "source": [
        "동일한 과정을 headlines에 대해서도 수행하겠습니다. "
      ],
      "metadata": {
        "id": "cPN-4bNDKsIJ"
      }
    },
    {
      "cell_type": "code",
      "source": [
        "tar_tokenizer = Tokenizer()\n",
        "tar_tokenizer.fit_on_texts(decoder_input_train)\n",
        "\n",
        "threshold = 6\n",
        "total_cnt = len(tar_tokenizer.word_index)\n",
        "rare_cnt = 0\n",
        "total_freq = 0\n",
        "rare_freq = 0\n",
        "\n",
        "for key, value in tar_tokenizer.word_counts.items():\n",
        "  total_freq += value\n",
        "\n",
        "  if(value < threshold):\n",
        "    rare_cnt += 1\n",
        "    rare_freq += value\n",
        "\n",
        "print('vocabulary의 크기:', total_cnt)\n",
        "print('등장빈도가 %s번 이하인 희귀 단어의수 : %s'%(threshold - 1, rare_cnt))\n",
        "print('vocabulary에서 희귀 단어를 제외시킬 경우의 단어 집합의 크기 %s'%(total_cnt - rare_cnt))\n",
        "print('vocabulary에서 희귀 단어의 비율:', (rare_cnt / total_cnt)*100)\n",
        "print('전체등장빈도에서 희귀단어 등장 빈도비율:', (rare_freq / total_freq)*100)"
      ],
      "metadata": {
        "colab": {
          "base_uri": "https://localhost:8080/"
        },
        "id": "bcEV4BSI5nZI",
        "outputId": "643b3ba4-bbce-46a4-fe0f-0db0e240d8b0"
      },
      "execution_count": 25,
      "outputs": [
        {
          "output_type": "stream",
          "name": "stdout",
          "text": [
            "vocabulary의 크기: 27310\n",
            "등장빈도가 5번 이하인 희귀 단어의수 : 18300\n",
            "vocabulary에서 희귀 단어를 제외시킬 경우의 단어 집합의 크기 9010\n",
            "vocabulary에서 희귀 단어의 비율: 67.00842182350787\n",
            "전체등장빈도에서 희귀단어 등장 빈도비율: 6.003340434187781\n"
          ]
        }
      ]
    },
    {
      "cell_type": "markdown",
      "source": [
        "vocabulary의 크기를 9000으로 제한하겠습니다."
      ],
      "metadata": {
        "id": "-1UenkIqMFDd"
      }
    },
    {
      "cell_type": "code",
      "source": [
        "tar_vocab = 9000\n",
        "tar_tokenizer = Tokenizer(num_words=tar_vocab)\n",
        "tar_tokenizer.fit_on_texts(decoder_input_train)\n",
        "tar_tokenizer.fit_on_texts(decoder_target_train)\n",
        "\n",
        "decoder_input_train = tar_tokenizer.texts_to_sequences(decoder_input_train)\n",
        "decoder_target_train = tar_tokenizer.texts_to_sequences(decoder_target_train)\n",
        "decoder_input_test = tar_tokenizer.texts_to_sequences(decoder_input_test)\n",
        "decoder_target_test = tar_tokenizer.texts_to_sequences(decoder_target_test)\n",
        "\n",
        "print('input', decoder_input_train[:3])\n",
        "print('target', decoder_target_train[:3])"
      ],
      "metadata": {
        "colab": {
          "base_uri": "https://localhost:8080/"
        },
        "id": "mTHbkioWMLgx",
        "outputId": "e5652cb3-2857-4cb2-f2eb-183d5770af56"
      },
      "execution_count": 26,
      "outputs": [
        {
          "output_type": "stream",
          "name": "stdout",
          "text": [
            "input [[1, 2931, 3, 1338, 2597, 94, 8183, 33, 6509, 4, 43], [1, 3830, 167, 34, 957, 4, 1359, 205, 3, 194], [1, 4285, 3693, 18, 1238, 9]]\n",
            "target [[2931, 3, 1338, 2597, 94, 8183, 33, 6509, 4, 43, 2], [3830, 167, 34, 957, 4, 1359, 205, 3, 194, 2], [4285, 3693, 18, 1238, 9, 2]]\n"
          ]
        }
      ]
    },
    {
      "cell_type": "markdown",
      "source": [
        "패딩으로 넘어가기전에 한가지 점검해야할것이있습니다.\\\n",
        "전체데이터에서 빈도수가 낮은 단어가 삭제되었다는 것은 빈도수가 낮은 단어만으로 구성되었던 샘플들은 이제 빈샘플이 되었을 가능성이 있어요. 여기서 주의할점은 토큰때문에 길이가0이된 요약문의 실제길이는 1로 나오게됩니다. 훈련,테스트 데이터에서 길이가 1인데이터들을 삭제해 줍시다."
      ],
      "metadata": {
        "id": "WRFV49yhW51T"
      }
    },
    {
      "cell_type": "code",
      "source": [
        "# 길이가 1인 문장의 인덱스를 리스트로 저장해줍니다.\n",
        "drop_train = [index for index, sentence in enumerate(decoder_input_train) if len(sentence) == 1]\n",
        "drop_test = [index for index, sentence in enumerate(decoder_input_test) if len(sentence) == 1]\n",
        "\n",
        "print('삭제할 훈련데이터의 개수:', len(drop_train))\n",
        "print('삭제할 테스트데이터의 개수:', len(drop_test))\n",
        "\n",
        "encoder_input_train = [sentence for index, sentence in enumerate(encoder_input_train) if index not in drop_train]\n",
        "decoder_input_train = [sentence for index, sentence in enumerate(decoder_input_train) if index not in drop_train]\n",
        "decoder_target_train = [sentence for index, sentence in enumerate(decoder_target_train) if index not in drop_train]\n",
        "\n",
        "encoder_input_test = [sentence for index, sentence in enumerate(encoder_input_test) if index not in drop_test]\n",
        "decoder_input_test = [sentence for index, sentence in enumerate(decoder_input_test) if index not in drop_test]\n",
        "decoder_target_test = [sentence for index, sentence in enumerate(decoder_target_test) if index not in drop_test]\n",
        "\n",
        "print('훈련 데이터의 개수:', len(encoder_input_train))\n",
        "print('훈련 레이블의 개수:', len(decoder_input_train))\n",
        "print('테스트데이터의 개수:', len(encoder_input_test))\n",
        "print('테스트레이블의 개수:', len(decoder_input_test))"
      ],
      "metadata": {
        "colab": {
          "base_uri": "https://localhost:8080/"
        },
        "id": "ZtcqZl9aXsyU",
        "outputId": "bbd85cb4-0114-4c13-dc4d-6b1ea7116266"
      },
      "execution_count": 27,
      "outputs": [
        {
          "output_type": "stream",
          "name": "stdout",
          "text": [
            "삭제할 훈련데이터의 개수: 0\n",
            "삭제할 테스트데이터의 개수: 1\n",
            "훈련 데이터의 개수: 59282\n",
            "훈련 레이블의 개수: 59282\n",
            "테스트데이터의 개수: 14819\n",
            "테스트레이블의 개수: 14819\n"
          ]
        }
      ]
    },
    {
      "cell_type": "markdown",
      "source": [
        "## 10. 패딩하기\n",
        "패딩은 pre로 두겠습니다."
      ],
      "metadata": {
        "id": "Ey7cBH30Zao9"
      }
    },
    {
      "cell_type": "code",
      "source": [
        "encoder_input_train = pad_sequences(encoder_input_train, maxlen=text_max_len, padding='pre')\n",
        "encoder_input_test = pad_sequences(encoder_input_test, maxlen=text_max_len, padding='pre')\n",
        "\n",
        "decoder_input_train = pad_sequences(decoder_input_train, maxlen=headlines_max_len, padding='pre')\n",
        "decoder_input_test = pad_sequences(decoder_input_test, maxlen=headlines_max_len, padding='pre')\n",
        "\n",
        "decoder_target_train = pad_sequences(decoder_target_train, maxlen=headlines_max_len, padding='pre')\n",
        "decoder_target_test = pad_sequences(decoder_target_test, maxlen=headlines_max_len, padding='pre')"
      ],
      "metadata": {
        "id": "0aTgaTuYZdJ6"
      },
      "execution_count": 28,
      "outputs": []
    },
    {
      "cell_type": "markdown",
      "source": [
        "드디어 전처리가 끝났습니다.\n",
        "# Step4. 모델 설계하기(추상적요약)\n",
        "먼저 인코더를 설계해보겠습니다."
      ],
      "metadata": {
        "id": "VnxA5hnUaj0p"
      }
    },
    {
      "cell_type": "code",
      "source": [
        "from tensorflow.keras.layers import Input, LSTM, Embedding, Dense, Concatenate, TimeDistributed\n",
        "from tensorflow.keras.models import Model\n",
        "from tensorflow.keras.callbacks import EarlyStopping, ModelCheckpoint\n",
        "\n",
        "# 인코더 설계\n",
        "embedding_dim = 128\n",
        "hidden_size = 256\n",
        "\n",
        "# 인코더\n",
        "encoder_inputs = Input(shape=(text_max_len,))\n",
        "\n",
        "# 인코더의 임베딩 층\n",
        "enc_emb = Embedding(src_vocab, embedding_dim)(encoder_inputs)\n",
        "\n",
        "# 인코더의 LSTM 1\n",
        "encoder_lstm1 = LSTM(hidden_size, return_sequences=True, return_state=True, dropout=0.4)\n",
        "encoder_output1, state_h1, state_c1 = encoder_lstm1(enc_emb)\n",
        "\n",
        "# 인코더의 LSTM 2\n",
        "encoder_lstm2 = LSTM(hidden_size, return_sequences=True, return_state=True, dropout=0.4)\n",
        "encoder_output2, state_h2, state_c2 = encoder_lstm2(encoder_output1)\n",
        "\n",
        "# 인코더의 LSTM 3\n",
        "encoder_lstm3 = LSTM(hidden_size, return_state=True, return_sequences=True, dropout=0.4)\n",
        "encoder_outputs, state_h, state_c = encoder_lstm3(encoder_output2)"
      ],
      "metadata": {
        "id": "ELXPqjmWayaQ"
      },
      "execution_count": 29,
      "outputs": []
    },
    {
      "cell_type": "markdown",
      "source": [
        "이제 디코더를 설계해봅시다!"
      ],
      "metadata": {
        "id": "hWdML5iCdiJb"
      }
    },
    {
      "cell_type": "code",
      "source": [
        "# 디코더 설계\n",
        "decoder_inputs = Input(shape=(None,))\n",
        "\n",
        "# 디코더의 임베딩층\n",
        "dec_emb_layer = Embedding(tar_vocab, embedding_dim)\n",
        "dec_emb = dec_emb_layer(decoder_inputs)\n",
        "\n",
        "# 디코더의 LSTM\n",
        "decoder_lstm = LSTM(hidden_size, return_sequences=True, return_state=True, dropout=0.4)\n",
        "decoder_outputs, _, _ = decoder_lstm(dec_emb, initial_state=[state_h, state_c])"
      ],
      "metadata": {
        "id": "HcoF7j_Cdk4J"
      },
      "execution_count": 30,
      "outputs": []
    },
    {
      "cell_type": "markdown",
      "source": [
        "디코더의 출력층을 설계해봅시다."
      ],
      "metadata": {
        "id": "t_escy06eQ-X"
      }
    },
    {
      "cell_type": "code",
      "source": [
        "# 디코더의 출력층\n",
        "decoder_softmax_layer = Dense(tar_vocab, activation='softmax')\n",
        "decoder_softmax_outputs = decoder_softmax_layer(decoder_outputs)\n",
        "\n",
        "model = Model([encoder_inputs, decoder_inputs], decoder_softmax_outputs)\n",
        "model.summary()"
      ],
      "metadata": {
        "colab": {
          "base_uri": "https://localhost:8080/"
        },
        "id": "YVnIzPMmeT5V",
        "outputId": "1ea6c714-6b46-40a1-9a6a-72b92d036f2f"
      },
      "execution_count": 31,
      "outputs": [
        {
          "output_type": "stream",
          "name": "stdout",
          "text": [
            "Model: \"model\"\n",
            "__________________________________________________________________________________________________\n",
            " Layer (type)                   Output Shape         Param #     Connected to                     \n",
            "==================================================================================================\n",
            " input_1 (InputLayer)           [(None, 40)]         0           []                               \n",
            "                                                                                                  \n",
            " embedding (Embedding)          (None, 40, 128)      2432000     ['input_1[0][0]']                \n",
            "                                                                                                  \n",
            " lstm (LSTM)                    [(None, 40, 256),    394240      ['embedding[0][0]']              \n",
            "                                 (None, 256),                                                     \n",
            "                                 (None, 256)]                                                     \n",
            "                                                                                                  \n",
            " input_2 (InputLayer)           [(None, None)]       0           []                               \n",
            "                                                                                                  \n",
            " lstm_1 (LSTM)                  [(None, 40, 256),    525312      ['lstm[0][0]']                   \n",
            "                                 (None, 256),                                                     \n",
            "                                 (None, 256)]                                                     \n",
            "                                                                                                  \n",
            " embedding_1 (Embedding)        (None, None, 128)    1152000     ['input_2[0][0]']                \n",
            "                                                                                                  \n",
            " lstm_2 (LSTM)                  [(None, 40, 256),    525312      ['lstm_1[0][0]']                 \n",
            "                                 (None, 256),                                                     \n",
            "                                 (None, 256)]                                                     \n",
            "                                                                                                  \n",
            " lstm_3 (LSTM)                  [(None, None, 256),  394240      ['embedding_1[0][0]',            \n",
            "                                 (None, 256),                     'lstm_2[0][1]',                 \n",
            "                                 (None, 256)]                     'lstm_2[0][2]']                 \n",
            "                                                                                                  \n",
            " dense (Dense)                  (None, None, 9000)   2313000     ['lstm_3[0][0]']                 \n",
            "                                                                                                  \n",
            "==================================================================================================\n",
            "Total params: 7,736,104\n",
            "Trainable params: 7,736,104\n",
            "Non-trainable params: 0\n",
            "__________________________________________________________________________________________________\n"
          ]
        }
      ]
    },
    {
      "cell_type": "markdown",
      "source": [
        "# Step5. 어텐션 메커니즘 사용하기(추상적요약)\n",
        "지금까지 설계한것은 가장 기본적인 seq2seq입니다. 그런데 디코더의 출력층 설계를 살짝 바꿔서 성능을 높일 수 있는 방법이 있습니다.\\\n",
        "여기서는 이미 구현된 어텐션함수를 가져와서 디코더의 출력층에 결합시켜주겠습니다. 참고로 여기서 사용하는 어텐션 함수는 Bahdanau스타일의 어텐션입니다.\n",
        "\n",
        "어텐션 층을 만들고, 위에서 설계한 디코더의 출력층을 수정해봅시다."
      ],
      "metadata": {
        "id": "UAikS4u5fZmb"
      }
    },
    {
      "cell_type": "code",
      "source": [
        "urllib.request.urlretrieve(\"https://raw.githubusercontent.com/thushv89/attention_keras/master/src/layers/attention.py\", filename=\"attention.py\")\n",
        "from attention import AttentionLayer"
      ],
      "metadata": {
        "id": "Q-M3VIUl4WC1"
      },
      "execution_count": 32,
      "outputs": []
    },
    {
      "cell_type": "code",
      "source": [
        "# 어텐션 층(어텐션 함수)\n",
        "attn_layer = AttentionLayer(name='attention_layer')\n",
        "# 인코더와 디코더의 모든 time step의 hidden state를 어텐션 층에 전달하고 결과를 리턴\n",
        "attn_out, attn_states = attn_layer([encoder_outputs, decoder_outputs])\n",
        "\n",
        "# 어텐션의 결과와 디코더의 hidden state들을 연결\n",
        "decoder_concat_input = Concatenate(axis = -1, name='concat_layer')([decoder_outputs, attn_out])\n",
        "\n",
        "# 디코더의 출력층\n",
        "decoder_softmax_layer = Dense(tar_vocab, activation='softmax')\n",
        "decoder_softmax_outputs = decoder_softmax_layer(decoder_concat_input)\n",
        "\n",
        "# 모델 정의\n",
        "model = Model([encoder_inputs, decoder_inputs], decoder_softmax_outputs)\n",
        "model.summary()"
      ],
      "metadata": {
        "colab": {
          "base_uri": "https://localhost:8080/"
        },
        "id": "Q7It_Rq24zXW",
        "outputId": "38b1fd47-2638-420b-9c86-b8afd6e0bb1d"
      },
      "execution_count": 33,
      "outputs": [
        {
          "output_type": "stream",
          "name": "stdout",
          "text": [
            "Model: \"model_1\"\n",
            "__________________________________________________________________________________________________\n",
            " Layer (type)                   Output Shape         Param #     Connected to                     \n",
            "==================================================================================================\n",
            " input_1 (InputLayer)           [(None, 40)]         0           []                               \n",
            "                                                                                                  \n",
            " embedding (Embedding)          (None, 40, 128)      2432000     ['input_1[0][0]']                \n",
            "                                                                                                  \n",
            " lstm (LSTM)                    [(None, 40, 256),    394240      ['embedding[0][0]']              \n",
            "                                 (None, 256),                                                     \n",
            "                                 (None, 256)]                                                     \n",
            "                                                                                                  \n",
            " input_2 (InputLayer)           [(None, None)]       0           []                               \n",
            "                                                                                                  \n",
            " lstm_1 (LSTM)                  [(None, 40, 256),    525312      ['lstm[0][0]']                   \n",
            "                                 (None, 256),                                                     \n",
            "                                 (None, 256)]                                                     \n",
            "                                                                                                  \n",
            " embedding_1 (Embedding)        (None, None, 128)    1152000     ['input_2[0][0]']                \n",
            "                                                                                                  \n",
            " lstm_2 (LSTM)                  [(None, 40, 256),    525312      ['lstm_1[0][0]']                 \n",
            "                                 (None, 256),                                                     \n",
            "                                 (None, 256)]                                                     \n",
            "                                                                                                  \n",
            " lstm_3 (LSTM)                  [(None, None, 256),  394240      ['embedding_1[0][0]',            \n",
            "                                 (None, 256),                     'lstm_2[0][1]',                 \n",
            "                                 (None, 256)]                     'lstm_2[0][2]']                 \n",
            "                                                                                                  \n",
            " attention_layer (AttentionLaye  ((None, None, 256),  131328     ['lstm_2[0][0]',                 \n",
            " r)                              (None, None, 40))                'lstm_3[0][0]']                 \n",
            "                                                                                                  \n",
            " concat_layer (Concatenate)     (None, None, 512)    0           ['lstm_3[0][0]',                 \n",
            "                                                                  'attention_layer[0][0]']        \n",
            "                                                                                                  \n",
            " dense_1 (Dense)                (None, None, 9000)   4617000     ['concat_layer[0][0]']           \n",
            "                                                                                                  \n",
            "==================================================================================================\n",
            "Total params: 10,171,432\n",
            "Trainable params: 10,171,432\n",
            "Non-trainable params: 0\n",
            "__________________________________________________________________________________________________\n"
          ]
        }
      ]
    },
    {
      "cell_type": "markdown",
      "source": [
        "# Step6. 모델 훈련하기(추상적 요약)\n",
        "설계한 모델을 가지고 훈련을 진행해보겠습니다."
      ],
      "metadata": {
        "id": "eFPMYmjliVp5"
      }
    },
    {
      "cell_type": "code",
      "source": [
        "model.compile(optimizer='rmsprop', loss='sparse_categorical_crossentropy')\n",
        "es = EarlyStopping(monitor='val_loss', patience=2, verbose=1)\n",
        "history = model.fit(x=[encoder_input_train, decoder_input_train], y=decoder_target_train, \\\n",
        "          validation_data=([encoder_input_test, decoder_input_test], decoder_target_test), \\\n",
        "          batch_size=256, callbacks=[es], epochs=50)"
      ],
      "metadata": {
        "colab": {
          "base_uri": "https://localhost:8080/"
        },
        "id": "Ywp__c5qip-v",
        "outputId": "bb865203-8fbb-4712-b4e1-9433df5fc88c"
      },
      "execution_count": 34,
      "outputs": [
        {
          "output_type": "stream",
          "name": "stdout",
          "text": [
            "Epoch 1/50\n",
            "232/232 [==============================] - 36s 100ms/step - loss: 6.2403 - val_loss: 5.8451\n",
            "Epoch 2/50\n",
            "232/232 [==============================] - 22s 94ms/step - loss: 5.8930 - val_loss: 5.7429\n",
            "Epoch 3/50\n",
            "232/232 [==============================] - 22s 96ms/step - loss: 5.7713 - val_loss: 5.6436\n",
            "Epoch 4/50\n",
            "232/232 [==============================] - 22s 96ms/step - loss: 5.6497 - val_loss: 5.5350\n",
            "Epoch 5/50\n",
            "232/232 [==============================] - 23s 97ms/step - loss: 5.5157 - val_loss: 5.4261\n",
            "Epoch 6/50\n",
            "232/232 [==============================] - 23s 98ms/step - loss: 5.3870 - val_loss: 5.3480\n",
            "Epoch 7/50\n",
            "232/232 [==============================] - 23s 99ms/step - loss: 5.2780 - val_loss: 5.2599\n",
            "Epoch 8/50\n",
            "232/232 [==============================] - 23s 99ms/step - loss: 5.1581 - val_loss: 5.1515\n",
            "Epoch 9/50\n",
            "232/232 [==============================] - 23s 100ms/step - loss: 5.0312 - val_loss: 5.0702\n",
            "Epoch 10/50\n",
            "232/232 [==============================] - 23s 101ms/step - loss: 4.9136 - val_loss: 4.9808\n",
            "Epoch 11/50\n",
            "232/232 [==============================] - 23s 101ms/step - loss: 4.8005 - val_loss: 4.9651\n",
            "Epoch 12/50\n",
            "232/232 [==============================] - 23s 101ms/step - loss: 4.6999 - val_loss: 4.8626\n",
            "Epoch 13/50\n",
            "232/232 [==============================] - 24s 102ms/step - loss: 4.6054 - val_loss: 4.8079\n",
            "Epoch 14/50\n",
            "232/232 [==============================] - 24s 102ms/step - loss: 4.5147 - val_loss: 4.7576\n",
            "Epoch 15/50\n",
            "232/232 [==============================] - 24s 102ms/step - loss: 4.4263 - val_loss: 4.7243\n",
            "Epoch 16/50\n",
            "232/232 [==============================] - 24s 102ms/step - loss: 4.3389 - val_loss: 4.6632\n",
            "Epoch 17/50\n",
            "232/232 [==============================] - 24s 102ms/step - loss: 4.2560 - val_loss: 4.6165\n",
            "Epoch 18/50\n",
            "232/232 [==============================] - 24s 102ms/step - loss: 4.1728 - val_loss: 4.5952\n",
            "Epoch 19/50\n",
            "232/232 [==============================] - 24s 101ms/step - loss: 4.0953 - val_loss: 4.5659\n",
            "Epoch 20/50\n",
            "232/232 [==============================] - 24s 102ms/step - loss: 4.0169 - val_loss: 4.5273\n",
            "Epoch 21/50\n",
            "232/232 [==============================] - 24s 101ms/step - loss: 3.9455 - val_loss: 4.5043\n",
            "Epoch 22/50\n",
            "232/232 [==============================] - 24s 101ms/step - loss: 3.8767 - val_loss: 4.4807\n",
            "Epoch 23/50\n",
            "232/232 [==============================] - 24s 102ms/step - loss: 3.8114 - val_loss: 4.4631\n",
            "Epoch 24/50\n",
            "232/232 [==============================] - 24s 101ms/step - loss: 3.7524 - val_loss: 4.4581\n",
            "Epoch 25/50\n",
            "232/232 [==============================] - 24s 102ms/step - loss: 3.6915 - val_loss: 4.4374\n",
            "Epoch 26/50\n",
            "232/232 [==============================] - 24s 103ms/step - loss: 3.6319 - val_loss: 4.4328\n",
            "Epoch 27/50\n",
            "232/232 [==============================] - 24s 102ms/step - loss: 3.5763 - val_loss: 4.4236\n",
            "Epoch 28/50\n",
            "232/232 [==============================] - 24s 102ms/step - loss: 3.5236 - val_loss: 4.4199\n",
            "Epoch 29/50\n",
            "232/232 [==============================] - 24s 102ms/step - loss: 3.4714 - val_loss: 4.4141\n",
            "Epoch 30/50\n",
            "232/232 [==============================] - 24s 101ms/step - loss: 3.4199 - val_loss: 4.4044\n",
            "Epoch 31/50\n",
            "232/232 [==============================] - 24s 102ms/step - loss: 3.3677 - val_loss: 4.4004\n",
            "Epoch 32/50\n",
            "232/232 [==============================] - 24s 102ms/step - loss: 3.3202 - val_loss: 4.4088\n",
            "Epoch 33/50\n",
            "232/232 [==============================] - 24s 101ms/step - loss: 3.2717 - val_loss: 4.3973\n",
            "Epoch 34/50\n",
            "232/232 [==============================] - 24s 102ms/step - loss: 3.2269 - val_loss: 4.3956\n",
            "Epoch 35/50\n",
            "232/232 [==============================] - 24s 102ms/step - loss: 3.1879 - val_loss: 4.3949\n",
            "Epoch 36/50\n",
            "232/232 [==============================] - 24s 102ms/step - loss: 3.1475 - val_loss: 4.3969\n",
            "Epoch 37/50\n",
            "232/232 [==============================] - 24s 102ms/step - loss: 3.1070 - val_loss: 4.3985\n",
            "Epoch 37: early stopping\n"
          ]
        }
      ]
    },
    {
      "cell_type": "markdown",
      "source": [
        "이제 훈련데이터의 손실과 검증데이터의 손실이 줄어드는 과정을 시각화해봅시다."
      ],
      "metadata": {
        "id": "3Vr7cZn35Uz6"
      }
    },
    {
      "cell_type": "code",
      "source": [
        "plt.plot(history.history['loss'], label='train')\n",
        "plt.plot(history.history['val_loss'], label='test')\n",
        "plt.legend()\n",
        "plt.show()"
      ],
      "metadata": {
        "colab": {
          "base_uri": "https://localhost:8080/",
          "height": 265
        },
        "id": "bnusb83i5b4g",
        "outputId": "e831d0cb-3f1c-4f6c-a0ac-cb4b6c500b07"
      },
      "execution_count": 35,
      "outputs": [
        {
          "output_type": "display_data",
          "data": {
            "text/plain": [
              "<Figure size 432x288 with 1 Axes>"
            ],
            "image/png": "[encoded data removed]"
          },
          "metadata": {
            "needs_background": "light"
          }
        }
      ]
    },
    {
      "cell_type": "markdown",
      "source": [
        "# Step7. 모델 테스트하기(추상적요약)\n",
        "테스트 단계에서는 정수 인덱스 행렬로 존재하던 텍스트 데이터를 실제 데이터로 복원해야하므로, 필요한 3개의 사전을 아래와 같이 미리 준비해둡니다."
      ],
      "metadata": {
        "id": "XGBk0D6U6FAN"
      }
    },
    {
      "cell_type": "code",
      "source": [
        "src_index_to_word = src_tokenizer.index_word\n",
        "tar_word_to_index = tar_tokenizer.word_index\n",
        "tar_index_to_word = tar_tokenizer.index_word"
      ],
      "metadata": {
        "id": "1SRhEbZZ6W3s"
      },
      "execution_count": 48,
      "outputs": []
    },
    {
      "cell_type": "markdown",
      "source": [
        "테스트 단계에서는 만들어야 할 문장의 길이만큼 디코더가 반복 구조로 동작해야하기 때문에 부득이하게 테스트를 위한 모델 설계를 별도로 해주어야 합니다."
      ],
      "metadata": {
        "id": "86-JEBHy7L3V"
      }
    },
    {
      "cell_type": "code",
      "source": [
        "# 인코더 설계\n",
        "encoder_model = Model(inputs=encoder_inputs, outputs=[encoder_outputs, state_h, state_c])\n",
        "\n",
        "# 이전 시점의 상태들을 저장하는 텐서\n",
        "decoder_state_input_h = Input(shape=(hidden_size,))\n",
        "decoder_state_input_c = Input(shape=(hidden_size,))\n",
        "\n",
        "dec_emb2 = dec_emb_layer(decoder_inputs)\n",
        "\n",
        "# 문장의 다음 단어를 예측하기 위해서 초기상태를 이전 시점의 상태로 사용. 이는 뒤의 함수 decode_sequence()에 구현\n",
        "# 훈련 과정에서와 달리 LSTM의 리턴하는 은닉 상태와 셀 상태인 state_h와 state_c를 버리지 않음.\n",
        "decoder_outputs2, state_h2, state_c2 = decoder_lstm(dec_emb2, initial_state=[decoder_state_input_h, decoder_state_input_c])"
      ],
      "metadata": {
        "id": "efUlxV6j7cZJ"
      },
      "execution_count": 37,
      "outputs": []
    },
    {
      "cell_type": "markdown",
      "source": [
        "이제 어텐션 메커니즘을 사용하는 출력층을 설계합니다."
      ],
      "metadata": {
        "id": "4kp2tce59P-Y"
      }
    },
    {
      "cell_type": "code",
      "source": [
        "# 어텐션 함수\n",
        "decoder_hidden_state_input = Input(shape=(text_max_len, hidden_size))\n",
        "attn_out_inf, attn_states_inf = attn_layer([decoder_hidden_state_input, decoder_outputs2])\n",
        "decoder_inf_concat = Concatenate(axis=-1, name='concat')([decoder_outputs2, attn_out_inf])\n",
        "\n",
        "# 디코더의 출력층\n",
        "decoder_outputs2 = decoder_softmax_layer(decoder_inf_concat)\n",
        "\n",
        "# 최종 디코더 모델\n",
        "decoder_model = Model(\n",
        "    [decoder_inputs] + [decoder_hidden_state_input,decoder_state_input_h, decoder_state_input_c],\n",
        "    [decoder_outputs2] + [state_h2, state_c2])"
      ],
      "metadata": {
        "id": "_vMBm6eb9Szp"
      },
      "execution_count": 38,
      "outputs": []
    },
    {
      "cell_type": "markdown",
      "source": [
        "단어 문장을 만들어주는 함수를 구현합니다."
      ],
      "metadata": {
        "id": "3TdHh_HPAUZp"
      }
    },
    {
      "cell_type": "code",
      "source": [
        "def decode_sequence(input_seq):\n",
        "    # 입력으로부터 인코더의 상태를 얻음\n",
        "    e_out, e_h, e_c = encoder_model.predict(input_seq)\n",
        "\n",
        "     # <SOS>에 해당하는 토큰 생성\n",
        "    target_seq = np.zeros((1,1))\n",
        "    target_seq[0, 0] = tar_word_to_index['sos']\n",
        "\n",
        "    stop_condition = False\n",
        "    decoded_sentence = ''\n",
        "    while not stop_condition: # stop_condition이 True가 될 때까지 루프 반복\n",
        "\n",
        "        output_tokens, h, c = decoder_model.predict([target_seq] + [e_out, e_h, e_c])\n",
        "        sampled_token_index = np.argmax(output_tokens[0, -1, :])\n",
        "        sampled_token = tar_index_to_word[sampled_token_index]\n",
        "\n",
        "        if (sampled_token!='eos'):\n",
        "            decoded_sentence += ' '+sampled_token\n",
        "\n",
        "        #  <eos>에 도달하거나 최대 길이를 넘으면 중단.\n",
        "        if (sampled_token == 'eos'  or len(decoded_sentence.split()) >= (headlines_max_len-1)):\n",
        "            stop_condition = True\n",
        "\n",
        "        # 길이가 1인 타겟 시퀀스를 업데이트\n",
        "        target_seq = np.zeros((1,1))\n",
        "        target_seq[0, 0] = sampled_token_index\n",
        "\n",
        "        # 상태를 업데이트 합니다.\n",
        "        e_h, e_c = h, c\n",
        "\n",
        "    return decoded_sentence"
      ],
      "metadata": {
        "id": "WvlHWIRjATiu"
      },
      "execution_count": 54,
      "outputs": []
    },
    {
      "cell_type": "markdown",
      "source": [
        "주어진 정수 시퀀스를 텍스트 시퀀스로 변환하는 함수를 만들어보겠습니다."
      ],
      "metadata": {
        "id": "gA0WxKwGA1vR"
      }
    },
    {
      "cell_type": "code",
      "source": [
        "# 원문의 정수 시퀀스를 텍스트 시퀀스로 변환\n",
        "def seq2text(input_seq):\n",
        "    temp=''\n",
        "    for i in input_seq:\n",
        "        if (i!=0):\n",
        "            temp = temp + src_index_to_word[i]+' '\n",
        "    return temp\n",
        "\n",
        "# 요약문의 정수 시퀀스를 텍스트 시퀀스로 변환\n",
        "def seq2headlines(input_seq):\n",
        "    temp=''\n",
        "    for i in input_seq:\n",
        "        if ((i!=0 and i!=tar_word_to_index['sos']) and i!=tar_word_to_index['eos']):\n",
        "            temp = temp + tar_index_to_word[i] + ' '\n",
        "    return temp"
      ],
      "metadata": {
        "id": "9Wra7sTxA8Re"
      },
      "execution_count": 57,
      "outputs": []
    },
    {
      "cell_type": "markdown",
      "source": [
        "테스트 데이터 약 50개의 샘플에 대해서 실제요약과 예측된 요약을 비교해봅시다."
      ],
      "metadata": {
        "id": "5o2Nnb7GBfIw"
      }
    },
    {
      "cell_type": "code",
      "source": [
        "for i in range(90, 100):\n",
        "    print(\"원문 :\", seq2text(encoder_input_test[i]))\n",
        "    print(\"실제 요약 :\", seq2headlines(decoder_input_test[i]))\n",
        "    print(\"예측 요약 :\", decode_sequence(encoder_input_test[i].reshape(1, text_max_len)))\n",
        "    print(\"\\n\")"
      ],
      "metadata": {
        "colab": {
          "base_uri": "https://localhost:8080/"
        },
        "id": "w16lK0-zBlOk",
        "outputId": "21308429-67ba-4629-80ed-073b4dcdb90a"
      },
      "execution_count": 59,
      "outputs": [
        {
          "output_type": "stream",
          "name": "stdout",
          "text": [
            "원문 : ten vip ticket holders volunteered implanted hands three day pass pause fest technology fest held australia february implanted volunteers chips also programmed unlock door volunteer home gym workplace \n",
            "실제 요약 : volunteers get implant for entry to tech fest \n",
            "예측 요약 :  new zealand to host its st ever in years\n",
            "\n",
            "\n",
            "원문 : indian cricketer ms dhoni seen offering prayers ranchi temple fourth day navratri dhoni sought blessings deity arrived temple car year old offered visit temple leading chennai super kings ipl title earlier \n",
            "실제 요약 : dhoni offered prayers at ranchi temple on th navratri day \n",
            "예측 요약 :  aus player gets life term for his wife celebration\n",
            "\n",
            "\n",
            "원문 : rajinikanth promised sponsor higher education class boy erode returned police wallet containing notes found road leading school adding today age people cheat kill even little money rajinikanth praised yasin saying honesty great quality \n",
            "실제 요약 : rajinikanth to sponsor education of boy who returned \n",
            "예측 요약 :  man who was up to police for free students\n",
            "\n",
            "\n",
            "원문 : administration union territory daman issued circular making compulsory employees celebrate rakshabandhan asking women employees tie rakhis wrist male colleagues decided celebrate festival rakshabandhan august connection offices departments shall remain open circular read \n",
            "실제 요약 : rakshabandhan compulsory for employees in and \n",
            "예측 요약 :  govt bans use of people to stop on diwali\n",
            "\n",
            "\n",
            "원문 : kerala police registered case air india express pilot former flight attendant alleged sexually harassed flight september woman claimed faced constant sexual advances pilot following resigned police officers recording statements duty day \n",
            "실제 요약 : air india express pilot sexually harassed air hostess \n",
            "예측 요약 :  man who was stolen from plane after being arrested\n",
            "\n",
            "\n",
            "원문 : congress party friday demanded kerala government explain service firm paid lakh design website state government organisation leader opposition state ramesh also said government earlier said firm post flood rebuilding kerala free \n",
            "실제 요약 : why paying for website design congress to kerala govt \n",
            "예측 요약 :  govt to launch new tv for tv in india\n",
            "\n",
            "\n",
            "원문 : district administration bulandshahr invoked national security act three men accused alleged cow slaughter led mob violence december policeman youth killed district magistrate jha said nsa invoked keeping mind chance three accused might get bail \n",
            "실제 요약 : national security act in bulandshahr violence case \n",
            "예측 요약 :  police officer suspended for not anti anti romeo conference\n",
            "\n",
            "\n",
            "원문 : defence minister nirmala sitharaman saturday said scam deal regarding rafale jets compared bofors deal added congress welcome raise issue budget session parliament comes congress alleged deal negotiated rule cheaper \n",
            "실제 요약 : do not compare rafale to bofors no scam here sitharaman \n",
            "예측 요약 :  no one of the country of the world bank\n",
            "\n",
            "\n",
            "원문 : afghanistan president ashraf ghani inaugurated first afghanistan india air corridor ceremony kabul international airport corridor direct route pakistan meant improve trade commerce ghani said aim route create opportunities make afghanistan exporter country \n",
            "실제 요약 : afghan prez inaugurates air corridor with ind pak \n",
            "예측 요약 :  us to open to build world war in afghanistan\n",
            "\n",
            "\n",
            "원문 : supreme court wednesday asked pune police present one document showing involvement five activists maoists activists arrested august connection bhima koregaon violence alleged maoist links per supreme court order activists currently house arrest till september nnn \n",
            "실제 요약 : show one document to prove activists links with maoists sc \n",
            "예측 요약 :  two men arrested for yrs in jail for yrs\n",
            "\n",
            "\n"
          ]
        }
      ]
    },
    {
      "cell_type": "markdown",
      "source": [
        "# Step8. Summa을 이용해서 추출적 요약해보기(추출적요약)\n",
        "패키지 Summa에서는 추출적요약을 위한 모듈인 summarize를 제공하고있습니다."
      ],
      "metadata": {
        "id": "nnAvnKaTDebo"
      }
    },
    {
      "cell_type": "code",
      "source": [
        "!pip install summa"
      ],
      "metadata": {
        "id": "hwQeXj-1EJkE"
      },
      "execution_count": null,
      "outputs": []
    },
    {
      "cell_type": "markdown",
      "source": [
        "Summa의 summarize()의 인자로 사용되는 값들에 대해서 알아봅시다.\n",
        "- text : 요약할 텍스트\n",
        "- ratio : 원본에서 선택되는 문장 비율. 0~1사이값\n",
        "- words : 출력에 포함할 단어 수\n",
        "- split : True면 문장list / False면 조인된 문자열을 반환\n",
        "\n",
        "summarize는 문장 토큰화를 별도로 하지 않더라도 내부적으로 문장 토큰화를 수행합니다. 그렇기 때문에 문장 구분이 되어있지 않은 원문을 바로 입력으로 넣을 수 있어요."
      ],
      "metadata": {
        "id": "1kc6tAKCEhyj"
      }
    },
    {
      "cell_type": "code",
      "source": [
        "data = pd.read_csv('news_summary_more.csv', encoding='iso-8859-1')"
      ],
      "metadata": {
        "id": "e9veux_rOCdx"
      },
      "execution_count": 195,
      "outputs": []
    },
    {
      "cell_type": "code",
      "source": [
        "# 원래문장\n",
        "data['text'][5]"
      ],
      "metadata": {
        "colab": {
          "base_uri": "https://localhost:8080/",
          "height": 105
        },
        "id": "OEoDLs73OWU1",
        "outputId": "3f7c9dba-619f-4b07-fa3d-2bd4cb0dfd69"
      },
      "execution_count": 198,
      "outputs": [
        {
          "output_type": "execute_result",
          "data": {
            "text/plain": [
              "'Pakistani singer Rahat Fateh Ali Khan has denied receiving any notice from the Enforcement Directorate over allegedly smuggling foreign currency out of India. \"It would have been better if the authorities would have served the notice first if any and then publicised this,\" reads a press release issued on behalf of Rahat. The statement further called the allegation \"bizarre\".'"
            ],
            "application/vnd.google.colaboratory.intrinsic+json": {
              "type": "string"
            }
          },
          "metadata": {},
          "execution_count": 198
        }
      ]
    },
    {
      "cell_type": "code",
      "source": [
        "# 요약한 문장1\n",
        "from summa.summarizer import summarize\n",
        "print(summarize(data['text'][5], ratio=0.35))"
      ],
      "metadata": {
        "colab": {
          "base_uri": "https://localhost:8080/"
        },
        "id": "H8sqzWnwD6az",
        "outputId": "2b695798-d215-44bf-afad-3d143cc7a9a2"
      },
      "execution_count": 197,
      "outputs": [
        {
          "output_type": "stream",
          "name": "stdout",
          "text": [
            "Pakistani singer Rahat Fateh Ali Khan has denied receiving any notice from the Enforcement Directorate over allegedly smuggling foreign currency out of India.\n"
          ]
        }
      ]
    },
    {
      "cell_type": "code",
      "source": [
        "# 요약한 문장2\n",
        "summarize(data['text'][5], words=20)"
      ],
      "metadata": {
        "colab": {
          "base_uri": "https://localhost:8080/",
          "height": 53
        },
        "id": "2jtnJVynOPVN",
        "outputId": "c126807f-03ab-4ec8-8f05-cf8431d88339"
      },
      "execution_count": 201,
      "outputs": [
        {
          "output_type": "execute_result",
          "data": {
            "text/plain": [
              "'Pakistani singer Rahat Fateh Ali Khan has denied receiving any notice from the Enforcement Directorate over allegedly smuggling foreign currency out of India.'"
            ],
            "application/vnd.google.colaboratory.intrinsic+json": {
              "type": "string"
            }
          },
          "metadata": {},
          "execution_count": 201
        }
      ]
    },
    {
      "cell_type": "markdown",
      "source": [
        "# 회고\n",
        "- 이번 실습에서는 뉴스기사를 두가지 방식으로 요약해보았다. 첫번째는 추상적요약이고, 두번째는 추출적요약이었다. 추상적요약은 특히 전처리가 상당히 길고 까다로웠다. 거의 대부분은 전처리로 시간을 썼다..\n",
        "- 그리고 훈련을 진행했는데 val loss가 4.39가나왔다. 그래서그런지 요약된 문장을 보면 도통 무슨말을 하는지 알 수가 없다\n",
        "- 마지막으로 추출적 요약을 진행했는데, 처음 진행할때는 계속 빈칸이 나왔었다. 그래서 한참을 헤메다가 알아차렸는데 summa의 summarize()에 문장을 넣어줄때 해당문장이 전처리가된 문장이 아닌 원래의 문장을 넣어주어야하는것이었다. 전처리된 문장을 넣어주니까 계속 빈칸이 출력이됐었다가 원문장을 넣어주니 정상적으로 출력이되었다. 하지만 문장자체가 200~300길이로된 짧은 문장이라 그런지 제대로된 요약이아니라 그냥 전체문장 일부분을 잘라서 그대로 들고온것이라 사실상 요약이 잘 안됬다고 볼 수 있다."
      ],
      "metadata": {
        "id": "iw6OsADROwEB"
      }
    }
  ]
}