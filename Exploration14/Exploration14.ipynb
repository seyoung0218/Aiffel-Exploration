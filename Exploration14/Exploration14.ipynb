{
  "nbformat": 4,
  "nbformat_minor": 0,
  "metadata": {
    "colab": {
      "provenance": [],
      "collapsed_sections": [],
      "machine_shape": "hm"
    },
    "kernelspec": {
      "name": "python3",
      "display_name": "Python 3"
    },
    "language_info": {
      "name": "python"
    },
    "accelerator": "GPU",
    "gpuClass": "standard"
  },
  "cells": [
    {
      "cell_type": "markdown",
      "source": [
        "# 프로젝트14 - 한국어 데이터로 챗봇 만들기\n",
        "# Step1. Import Library"
      ],
      "metadata": {
        "id": "TMGFLKVZaDZB"
      }
    },
    {
      "cell_type": "code",
      "execution_count": 109,
      "metadata": {
        "id": "BTGqqYVPZ9ET"
      },
      "outputs": [],
      "source": [
        "import tensorflow as tf\n",
        "import tensorflow_datasets as tfds\n",
        "import re\n",
        "import numpy as np\n",
        "import matplotlib.pyplot as plt\n",
        "import pandas as pd"
      ]
    },
    {
      "cell_type": "markdown",
      "source": [
        "# Step2. Import Data\n",
        "한국어 챗봇 데이터는 송영숙님이 공개한 챗봇 데이터를 사용합니다."
      ],
      "metadata": {
        "id": "hBWNbB-Q8hE8"
      }
    },
    {
      "cell_type": "code",
      "source": [
        "data = pd.read_csv('/content/drive/MyDrive/Exploration_Data/ex14/ChatbotData .csv')\n",
        "print(data.shape)\n",
        "data.head()"
      ],
      "metadata": {
        "colab": {
          "base_uri": "https://localhost:8080/",
          "height": 221
        },
        "id": "OR4S_CIK8gQW",
        "outputId": "0fcf8c89-dd0d-4e01-ffe5-267e380b4fff"
      },
      "execution_count": 110,
      "outputs": [
        {
          "output_type": "stream",
          "name": "stdout",
          "text": [
            "(11823, 3)\n"
          ]
        },
        {
          "output_type": "execute_result",
          "data": {
            "text/plain": [
              "                 Q            A  label\n",
              "0           12시 땡!   하루가 또 가네요.      0\n",
              "1      1지망 학교 떨어졌어    위로해 드립니다.      0\n",
              "2     3박4일 놀러가고 싶다  여행은 언제나 좋죠.      0\n",
              "3  3박4일 정도 놀러가고 싶다  여행은 언제나 좋죠.      0\n",
              "4          PPL 심하네   눈살이 찌푸려지죠.      0"
            ],
            "text/html": [
              "\n",
              "  <div id=\"df-d738d2a8-c26a-46f7-bbaf-ba39a8d3b3f4\">\n",
              "    <div class=\"colab-df-container\">\n",
              "      <div>\n",
              "<style scoped>\n",
              "    .dataframe tbody tr th:only-of-type {\n",
              "        vertical-align: middle;\n",
              "    }\n",
              "\n",
              "    .dataframe tbody tr th {\n",
              "        vertical-align: top;\n",
              "    }\n",
              "\n",
              "    .dataframe thead th {\n",
              "        text-align: right;\n",
              "    }\n",
              "</style>\n",
              "<table border=\"1\" class=\"dataframe\">\n",
              "  <thead>\n",
              "    <tr style=\"text-align: right;\">\n",
              "      <th></th>\n",
              "      <th>Q</th>\n",
              "      <th>A</th>\n",
              "      <th>label</th>\n",
              "    </tr>\n",
              "  </thead>\n",
              "  <tbody>\n",
              "    <tr>\n",
              "      <th>0</th>\n",
              "      <td>12시 땡!</td>\n",
              "      <td>하루가 또 가네요.</td>\n",
              "      <td>0</td>\n",
              "    </tr>\n",
              "    <tr>\n",
              "      <th>1</th>\n",
              "      <td>1지망 학교 떨어졌어</td>\n",
              "      <td>위로해 드립니다.</td>\n",
              "      <td>0</td>\n",
              "    </tr>\n",
              "    <tr>\n",
              "      <th>2</th>\n",
              "      <td>3박4일 놀러가고 싶다</td>\n",
              "      <td>여행은 언제나 좋죠.</td>\n",
              "      <td>0</td>\n",
              "    </tr>\n",
              "    <tr>\n",
              "      <th>3</th>\n",
              "      <td>3박4일 정도 놀러가고 싶다</td>\n",
              "      <td>여행은 언제나 좋죠.</td>\n",
              "      <td>0</td>\n",
              "    </tr>\n",
              "    <tr>\n",
              "      <th>4</th>\n",
              "      <td>PPL 심하네</td>\n",
              "      <td>눈살이 찌푸려지죠.</td>\n",
              "      <td>0</td>\n",
              "    </tr>\n",
              "  </tbody>\n",
              "</table>\n",
              "</div>\n",
              "      <button class=\"colab-df-convert\" onclick=\"convertToInteractive('df-d738d2a8-c26a-46f7-bbaf-ba39a8d3b3f4')\"\n",
              "              title=\"Convert this dataframe to an interactive table.\"\n",
              "              style=\"display:none;\">\n",
              "        \n",
              "  <svg xmlns=\"http://www.w3.org/2000/svg\" height=\"24px\"viewBox=\"0 0 24 24\"\n",
              "       width=\"24px\">\n",
              "    <path d=\"M0 0h24v24H0V0z\" fill=\"none\"/>\n",
              "    <path d=\"M18.56 5.44l.94 2.06.94-2.06 2.06-.94-2.06-.94-.94-2.06-.94 2.06-2.06.94zm-11 1L8.5 8.5l.94-2.06 2.06-.94-2.06-.94L8.5 2.5l-.94 2.06-2.06.94zm10 10l.94 2.06.94-2.06 2.06-.94-2.06-.94-.94-2.06-.94 2.06-2.06.94z\"/><path d=\"M17.41 7.96l-1.37-1.37c-.4-.4-.92-.59-1.43-.59-.52 0-1.04.2-1.43.59L10.3 9.45l-7.72 7.72c-.78.78-.78 2.05 0 2.83L4 21.41c.39.39.9.59 1.41.59.51 0 1.02-.2 1.41-.59l7.78-7.78 2.81-2.81c.8-.78.8-2.07 0-2.86zM5.41 20L4 18.59l7.72-7.72 1.47 1.35L5.41 20z\"/>\n",
              "  </svg>\n",
              "      </button>\n",
              "      \n",
              "  <style>\n",
              "    .colab-df-container {\n",
              "      display:flex;\n",
              "      flex-wrap:wrap;\n",
              "      gap: 12px;\n",
              "    }\n",
              "\n",
              "    .colab-df-convert {\n",
              "      background-color: #E8F0FE;\n",
              "      border: none;\n",
              "      border-radius: 50%;\n",
              "      cursor: pointer;\n",
              "      display: none;\n",
              "      fill: #1967D2;\n",
              "      height: 32px;\n",
              "      padding: 0 0 0 0;\n",
              "      width: 32px;\n",
              "    }\n",
              "\n",
              "    .colab-df-convert:hover {\n",
              "      background-color: #E2EBFA;\n",
              "      box-shadow: 0px 1px 2px rgba(60, 64, 67, 0.3), 0px 1px 3px 1px rgba(60, 64, 67, 0.15);\n",
              "      fill: #174EA6;\n",
              "    }\n",
              "\n",
              "    [theme=dark] .colab-df-convert {\n",
              "      background-color: #3B4455;\n",
              "      fill: #D2E3FC;\n",
              "    }\n",
              "\n",
              "    [theme=dark] .colab-df-convert:hover {\n",
              "      background-color: #434B5C;\n",
              "      box-shadow: 0px 1px 3px 1px rgba(0, 0, 0, 0.15);\n",
              "      filter: drop-shadow(0px 1px 2px rgba(0, 0, 0, 0.3));\n",
              "      fill: #FFFFFF;\n",
              "    }\n",
              "  </style>\n",
              "\n",
              "      <script>\n",
              "        const buttonEl =\n",
              "          document.querySelector('#df-d738d2a8-c26a-46f7-bbaf-ba39a8d3b3f4 button.colab-df-convert');\n",
              "        buttonEl.style.display =\n",
              "          google.colab.kernel.accessAllowed ? 'block' : 'none';\n",
              "\n",
              "        async function convertToInteractive(key) {\n",
              "          const element = document.querySelector('#df-d738d2a8-c26a-46f7-bbaf-ba39a8d3b3f4');\n",
              "          const dataTable =\n",
              "            await google.colab.kernel.invokeFunction('convertToInteractive',\n",
              "                                                     [key], {});\n",
              "          if (!dataTable) return;\n",
              "\n",
              "          const docLinkHtml = 'Like what you see? Visit the ' +\n",
              "            '<a target=\"_blank\" href=https://colab.research.google.com/notebooks/data_table.ipynb>data table notebook</a>'\n",
              "            + ' to learn more about interactive tables.';\n",
              "          element.innerHTML = '';\n",
              "          dataTable['output_type'] = 'display_data';\n",
              "          await google.colab.output.renderOutput(dataTable, element);\n",
              "          const docLink = document.createElement('div');\n",
              "          docLink.innerHTML = docLinkHtml;\n",
              "          element.appendChild(docLink);\n",
              "        }\n",
              "      </script>\n",
              "    </div>\n",
              "  </div>\n",
              "  "
            ]
          },
          "metadata": {},
          "execution_count": 110
        }
      ]
    },
    {
      "cell_type": "code",
      "source": [
        "# 질문과 대화를 분리시켜 저장합니다.\n",
        "data_Q = data['Q']\n",
        "data_A = data['A']\n",
        "\n",
        "print('Q:',data_Q[5])\n",
        "print('A:',data_A[5])"
      ],
      "metadata": {
        "colab": {
          "base_uri": "https://localhost:8080/"
        },
        "id": "NFw5471GMDbB",
        "outputId": "5a1e34cb-c23e-4204-f2b6-53395b951f99"
      },
      "execution_count": 111,
      "outputs": [
        {
          "output_type": "stream",
          "name": "stdout",
          "text": [
            "Q: SD카드 망가졌어\n",
            "A: 다시 새로 사는 게 마음 편해요.\n"
          ]
        }
      ]
    },
    {
      "cell_type": "markdown",
      "source": [
        "# Step3. Data Preprocessing\n",
        "## 1.중복치, 결측치 확인"
      ],
      "metadata": {
        "id": "Kuy75z4sNIpj"
      }
    },
    {
      "cell_type": "code",
      "source": [
        "# 결측치 개수세기\n",
        "print('Q:',data_Q.isnull().sum())\n",
        "print('A:',data_A.isnull().sum())"
      ],
      "metadata": {
        "colab": {
          "base_uri": "https://localhost:8080/"
        },
        "id": "u4eGFsU1NMLm",
        "outputId": "ed51d856-db87-4345-e19f-bee7faa161e8"
      },
      "execution_count": 112,
      "outputs": [
        {
          "output_type": "stream",
          "name": "stdout",
          "text": [
            "Q: 0\n",
            "A: 0\n"
          ]
        }
      ]
    },
    {
      "cell_type": "code",
      "source": [
        "# 중복치 개수세기\n",
        "data.duplicated().sum()"
      ],
      "metadata": {
        "colab": {
          "base_uri": "https://localhost:8080/"
        },
        "id": "UhPs-ETkNgRP",
        "outputId": "cb3bc1b1-5ba4-4271-f43d-7dd13e574c95"
      },
      "execution_count": 113,
      "outputs": [
        {
          "output_type": "execute_result",
          "data": {
            "text/plain": [
              "0"
            ]
          },
          "metadata": {},
          "execution_count": 113
        }
      ]
    },
    {
      "cell_type": "markdown",
      "source": [
        "## 2.구두점 분리 함수\n",
        "구두점과 단어사이에 거리를 만들어 토크나이징하는 일에 방해가 되지 않도록합니다.\n"
      ],
      "metadata": {
        "id": "dpi9I73SOJI6"
      }
    },
    {
      "cell_type": "code",
      "source": [
        "def preprocess_sentence(sentence):\n",
        "  \n",
        "  # 단어와 구두점(punctuation)사이의 거리를 만듭니다.\n",
        "  sentence = re.sub(r\"([?.!,])\", r\" \\1 \", sentence)\n",
        "  sentence = re.sub(r'[\" \"]+', \" \", sentence)\n",
        " \n",
        "  return sentence"
      ],
      "metadata": {
        "id": "B0oh5xhWOEOF"
      },
      "execution_count": 114,
      "outputs": []
    },
    {
      "cell_type": "markdown",
      "source": [
        "## 3.전처리함수 적용\n",
        "전처리함수를 거친다음 전부 리스트로 저장해줍니다."
      ],
      "metadata": {
        "id": "UamuHqH6C6kc"
      }
    },
    {
      "cell_type": "code",
      "source": [
        "questions = []\n",
        "answers = []\n",
        "\n",
        "for i in range(len(data)):\n",
        "  questions.append(preprocess_sentence(data_Q[i]))\n",
        "  answers.append(preprocess_sentence(data_A[i]))"
      ],
      "metadata": {
        "id": "eRtMq8vlAPLO"
      },
      "execution_count": 115,
      "outputs": []
    },
    {
      "cell_type": "code",
      "source": [
        "questions[:5]"
      ],
      "metadata": {
        "colab": {
          "base_uri": "https://localhost:8080/"
        },
        "id": "r9HigI6GC9YK",
        "outputId": "640cb7fc-599c-40dd-9784-26c6756f82f8"
      },
      "execution_count": 116,
      "outputs": [
        {
          "output_type": "execute_result",
          "data": {
            "text/plain": [
              "['12시 땡 ! ', '1지망 학교 떨어졌어', '3박4일 놀러가고 싶다', '3박4일 정도 놀러가고 싶다', 'PPL 심하네']"
            ]
          },
          "metadata": {},
          "execution_count": 116
        }
      ]
    },
    {
      "cell_type": "code",
      "source": [
        "answers[:5]"
      ],
      "metadata": {
        "colab": {
          "base_uri": "https://localhost:8080/"
        },
        "id": "CcVA5QseBu6i",
        "outputId": "4e838af8-52ec-4feb-a22d-6373bb4061bd"
      },
      "execution_count": 117,
      "outputs": [
        {
          "output_type": "execute_result",
          "data": {
            "text/plain": [
              "['하루가 또 가네요 . ',\n",
              " '위로해 드립니다 . ',\n",
              " '여행은 언제나 좋죠 . ',\n",
              " '여행은 언제나 좋죠 . ',\n",
              " '눈살이 찌푸려지죠 . ']"
            ]
          },
          "metadata": {},
          "execution_count": 117
        }
      ]
    },
    {
      "cell_type": "markdown",
      "source": [
        "구두점 양쪽으로 전부 공백이 생긴걸 확인할 수 있습니다."
      ],
      "metadata": {
        "id": "iC0VUbl-EWP4"
      }
    },
    {
      "cell_type": "markdown",
      "source": [
        "## 4. 단어장 만들기\n",
        "토크나이저는 tensorflow datasets SubwordTextEncoder로 사용합니다. \n",
        "\n",
        "우선 각 단어에 고유한 정수 인덱스를 부여하기 위해서 단어장을 만들어보겠습니다. 단어장을 만들때는 질문과 답변 데이터셋을 모두 사용하여 만듭니다."
      ],
      "metadata": {
        "id": "YqsvAgSZHl1a"
      }
    },
    {
      "cell_type": "code",
      "source": [
        "# 질문과 답변 데이터셋에 대한 단어장 생성\n",
        "tokenizer = tfds.deprecated.text.SubwordTextEncoder.build_from_corpus(questions + answers, target_vocab_size=10000)"
      ],
      "metadata": {
        "id": "8hafJP7gEOiK"
      },
      "execution_count": 118,
      "outputs": []
    },
    {
      "cell_type": "markdown",
      "source": [
        "이때 디코더의 문장 생성 과정에서 사용할 '시작토큰'과 '종료토큰'에 대해서도 임의로 단어장에 추가하여서 정수를 부여해 줍니다. 이미 생성된 단어장의 번호와 겹치지 않도록 각각 단어장의 크기와 그보다 1이 큰수를 부여하겠습니다."
      ],
      "metadata": {
        "id": "TybUCpH2JCKh"
      }
    },
    {
      "cell_type": "code",
      "source": [
        "START_TOKEN, END_TOKEN = [tokenizer.vocab_size], [tokenizer.vocab_size + 1]\n",
        "\n",
        "print('시작토큰의 번호:', [tokenizer.vocab_size])\n",
        "print('종료토큰의 번호:', [tokenizer.vocab_size + 1])\n",
        "\n",
        "VOCAB_SIZE = tokenizer.vocab_size + 2\n",
        "print('단어장의 크기:', VOCAB_SIZE)"
      ],
      "metadata": {
        "colab": {
          "base_uri": "https://localhost:8080/"
        },
        "id": "-Tkhhrp1I7y_",
        "outputId": "7c5140f6-347a-425d-ec3d-eabc7a2a5b98"
      },
      "execution_count": 119,
      "outputs": [
        {
          "output_type": "stream",
          "name": "stdout",
          "text": [
            "시작토큰의 번호: [10106]\n",
            "종료토큰의 번호: [10107]\n",
            "단어장의 크기: 10108\n"
          ]
        }
      ]
    },
    {
      "cell_type": "markdown",
      "source": [
        "## 5. 각 단어를 고유한 정수로 인코딩 & 패딩\n",
        "위에서 SubwordTextEncoder를 사용해서 tokenizer를 정의하고 단어장을 만들었다면, tokenizer.encode()로 각 단어를 정수로 변환할 수 있고 또는 tokenizer.decode()를 통해 정수 시퀀스를 단어 시퀀스로 변환할 수 있습니다.\n",
        "\n",
        "예를 들어서 22번째 샘플을 사용해 변환결과를 보겠습니다."
      ],
      "metadata": {
        "id": "al5kPJXKK0Zs"
      }
    },
    {
      "cell_type": "code",
      "source": [
        "print('정수 인코딩 후의 21번째 질문 샘플: {}'.format(tokenizer.encode(questions[21])))\n",
        "print('정수 인코딩 후의 21번째 답변 샘플: {}'.format(tokenizer.encode(answers[21])))"
      ],
      "metadata": {
        "colab": {
          "base_uri": "https://localhost:8080/"
        },
        "id": "TFhS4fEKKV2Q",
        "outputId": "9c389768-247c-488c-96ee-2eef49948098"
      },
      "execution_count": 120,
      "outputs": [
        {
          "output_type": "stream",
          "name": "stdout",
          "text": [
            "정수 인코딩 후의 21번째 질문 샘플: [9787, 2193, 3608]\n",
            "정수 인코딩 후의 21번째 답변 샘플: [2070, 6543, 7, 5460, 116, 1]\n"
          ]
        }
      ]
    },
    {
      "cell_type": "markdown",
      "source": [
        "이처럼 각 단어에 고유한 정수가 부여된 단어장을 기준으로 단어시퀀스가 정수시퀀스로 인코딩된 결과를 확인할 수 있습니다. 위의 결과와 마찬가지로 질문과 답변셋에 대해서 전부 정수인코딩을 수행합니다. 이와 동시에 문장의 최대 길이를 정하고, 해당 길이로 패딩을 수행합니다."
      ],
      "metadata": {
        "id": "UrkJ3XVZMlkH"
      }
    },
    {
      "cell_type": "code",
      "source": [
        "# questions와 answers의 문장 길이 분포리스트\n",
        "questions_len = [len(s.split()) for s in questions]\n",
        "answers_len = [len(s.split()) for s in answers]\n",
        "\n",
        "print('questions의 최소길이: {}'.format(np.min(questions_len)))\n",
        "print('questions의 최대길이: {}'.format(np.max(questions_len)))\n",
        "print('questions의 평균길이: {}'.format(np.mean(questions_len)))\n",
        "print('answers의 최소길이: {}'.format(np.min(answers_len)))\n",
        "print('answers의 최대길이: {}'.format(np.max(answers_len)))\n",
        "print('answers의 평균길이: {}'.format(np.mean(answers_len)))\n",
        "\n",
        "plt.title('questions')\n",
        "plt.hist(questions_len, bins = 40)\n",
        "plt.xlabel('length of samples')\n",
        "plt.ylabel('number of samples')\n",
        "plt.show()\n",
        "\n",
        "plt.title('answers')\n",
        "plt.hist(answers_len, bins = 40)\n",
        "plt.xlabel('length of samples')\n",
        "plt.ylabel('number of samples')\n",
        "plt.show()"
      ],
      "metadata": {
        "colab": {
          "base_uri": "https://localhost:8080/",
          "height": 675
        },
        "id": "j1V3FyVYNQ_B",
        "outputId": "2e34bf14-7f59-4b7d-d29d-85b2e02404d4"
      },
      "execution_count": 121,
      "outputs": [
        {
          "output_type": "stream",
          "name": "stdout",
          "text": [
            "questions의 최소길이: 1\n",
            "questions의 최대길이: 16\n",
            "questions의 평균길이: 3.9402858834475176\n",
            "answers의 최소길이: 1\n",
            "answers의 최대길이: 24\n",
            "answers의 평균길이: 4.71589275141673\n"
          ]
        },
        {
          "output_type": "display_data",
          "data": {
            "text/plain": [
              "<Figure size 432x288 with 1 Axes>"
            ],
            "image/png": "[encoded data removed]"
          },
          "metadata": {
            "needs_background": "light"
          }
        },
        {
          "output_type": "display_data",
          "data": {
            "text/plain": [
              "<Figure size 432x288 with 1 Axes>"
            ],
            "image/png": "[encoded data removed]"
          },
          "metadata": {
            "needs_background": "light"
          }
        }
      ]
    },
    {
      "cell_type": "code",
      "source": [
        "# 샘플의 최대 허용 길이 또는 패딩 후의 최종 길이\n",
        "MAX_LENGTH = 10"
      ],
      "metadata": {
        "id": "tXTj1edfPFWR"
      },
      "execution_count": 122,
      "outputs": []
    },
    {
      "cell_type": "code",
      "source": [
        "# 정수 인코딩, 최대 길이를 초과하는 샘플 제거, 패딩\n",
        "def tokenize_and_filter(inputs, outputs):\n",
        "  tokenized_inputs, tokenized_outputs = [], []\n",
        "\n",
        "  for (sentence1, sentence2) in zip(inputs, outputs):\n",
        "    # 정수 인코딩 과정에서 시작토큰과 종료토큰을 추가\n",
        "    sentence1 = START_TOKEN + tokenizer.encode(sentence1) + END_TOKEN\n",
        "    sentence2 = START_TOKEN + tokenizer.encode(sentence2) + END_TOKEN\n",
        "\n",
        "    # 최대 길이 10이하인 경우만 데이터셋으로 허용, 두개의 토큰이 붙었으므로 최대길이는 +2\n",
        "    if len(sentence1) <= MAX_LENGTH and len(sentence2) <= MAX_LENGTH:\n",
        "      tokenized_inputs.append(sentence1)\n",
        "      tokenized_outputs.append(sentence2)\n",
        "\n",
        "  # 최대길이 10으로 모든 데이터셋을 패딩\n",
        "  tokenized_inputs = tf.keras.preprocessing.sequence.pad_sequences(\n",
        "      tokenized_inputs, maxlen=MAX_LENGTH, padding='post'\n",
        "  )\n",
        "  tokenized_outputs = tf.keras.preprocessing.sequence.pad_sequences(\n",
        "      tokenized_outputs, maxlen=MAX_LENGTH, padding='post'\n",
        "  )\n",
        "\n",
        "  return tokenized_inputs, tokenized_outputs\n",
        "\n",
        "questions, answers = tokenize_and_filter(questions, answers)"
      ],
      "metadata": {
        "id": "gfh1H2y4PPU1"
      },
      "execution_count": 123,
      "outputs": []
    },
    {
      "cell_type": "markdown",
      "source": [
        "정수 인코딩 과정을 수행하면서 샘플의 길이가 10을 넘는 경우는 샘플들을 필터링하였으므로 일부 샘플이 제외되었습니다. 단어장의 크기와 샘플의 개수를 확인해보겠습니다."
      ],
      "metadata": {
        "id": "ZO6DsoTrSEPk"
      }
    },
    {
      "cell_type": "code",
      "source": [
        "print('단어장의 크기:', (VOCAB_SIZE))\n",
        "print('필터링 후의 질문샘플개수: {}'.format(len(questions)))\n",
        "print('필터링 후의 답변샘플개수: {}'.format(len(answers)))"
      ],
      "metadata": {
        "colab": {
          "base_uri": "https://localhost:8080/"
        },
        "id": "cXiE8c59SNZA",
        "outputId": "99ea3b84-5a87-4f93-ada5-bf4e7320f354"
      },
      "execution_count": 124,
      "outputs": [
        {
          "output_type": "stream",
          "name": "stdout",
          "text": [
            "단어장의 크기: 10108\n",
            "필터링 후의 질문샘플개수: 9584\n",
            "필터링 후의 답변샘플개수: 9584\n"
          ]
        }
      ]
    },
    {
      "cell_type": "code",
      "source": [
        "questions[3], answers[3]"
      ],
      "metadata": {
        "colab": {
          "base_uri": "https://localhost:8080/"
        },
        "id": "0LFNeI8CSv21",
        "outputId": "9f635291-b9bc-4327-febb-cd657cfbf645"
      },
      "execution_count": 125,
      "outputs": [
        {
          "output_type": "execute_result",
          "data": {
            "text/plain": [
              "(array([10106,  9901,  1094,  4033,  9882,  1146,  3178,    62, 10107,\n",
              "            0], dtype=int32),\n",
              " array([10106,  2958,   688,   121,     1, 10107,     0,     0,     0,\n",
              "            0], dtype=int32))"
            ]
          },
          "metadata": {},
          "execution_count": 125
        }
      ]
    },
    {
      "cell_type": "markdown",
      "source": [
        "## 6. 교사강요 사용하기\n",
        "트랜스포머 디코더에서도 교사강요를 적용합니다."
      ],
      "metadata": {
        "id": "9-hLiGTjUICe"
      }
    },
    {
      "cell_type": "code",
      "source": [
        "BATCH_SIZE = 32\n",
        "BUFFER_SIZE = 3000\n",
        "\n",
        "# 디코더는 이전의 target을 다음의 input으로 사용합니다.\n",
        "# 이에 따라 outputs에서는 START_TOKEN을 제거하겠습니다.\n",
        "dataset = tf.data.Dataset.from_tensor_slices((\n",
        "    {\n",
        "        'inputs': questions,\n",
        "        'dec_inputs': answers[:, :-1]\n",
        "    },\n",
        "    {\n",
        "        'outputs': answers[:, 1:]\n",
        "    },\n",
        "))\n",
        "\n",
        "dataset = dataset.cache()\n",
        "dataset = dataset.shuffle(BUFFER_SIZE)\n",
        "dataset = dataset.batch(BATCH_SIZE)\n",
        "dataset = dataset.prefetch(tf.data.experimental.AUTOTUNE)"
      ],
      "metadata": {
        "id": "n4NbeoDcgwjR"
      },
      "execution_count": 126,
      "outputs": []
    },
    {
      "cell_type": "markdown",
      "source": [
        "# Step4. 모델정의 및 학습하기\n",
        "트랜스포머 함수에 사용할 인코더와 디코더를 먼저 정의해주겠습니다."
      ],
      "metadata": {
        "id": "uR7C0aoVoGv6"
      }
    },
    {
      "cell_type": "code",
      "source": [
        "# 포지셔널 인코딩 레이어\n",
        "class PositionalEncoding(tf.keras.layers.Layer):\n",
        "\n",
        "  def __init__(self, position, d_model):\n",
        "    super(PositionalEncoding, self).__init__()\n",
        "    self.pos_encoding = self.positional_encoding(position, d_model)\n",
        "\n",
        "  def get_angles(self, position, i, d_model):\n",
        "    angles = 1 / tf.pow(10000, (2 * (i // 2)) / tf.cast(d_model, tf.float32))\n",
        "    return position * angles\n",
        "\n",
        "  def positional_encoding(self, position, d_model):\n",
        "    # 각도 배열 생성\n",
        "    angle_rads = self.get_angles(\n",
        "        position=tf.range(position, dtype=tf.float32)[:, tf.newaxis],\n",
        "        i=tf.range(d_model, dtype=tf.float32)[tf.newaxis, :],\n",
        "        d_model=d_model)\n",
        "\n",
        "    # 배열의 짝수 인덱스에는 sin 함수 적용\n",
        "    sines = tf.math.sin(angle_rads[:, 0::2])\n",
        "    # 배열의 홀수 인덱스에는 cosine 함수 적용\n",
        "    cosines = tf.math.cos(angle_rads[:, 1::2])\n",
        "\n",
        "    # sin과 cosine이 교차되도록 재배열\n",
        "    pos_encoding = tf.stack([sines, cosines], axis=0)\n",
        "    pos_encoding = tf.transpose(pos_encoding,[1, 2, 0]) \n",
        "    pos_encoding = tf.reshape(pos_encoding, [position, d_model])\n",
        "\n",
        "    pos_encoding = pos_encoding[tf.newaxis, ...]\n",
        "    return tf.cast(pos_encoding, tf.float32)\n",
        "\n",
        "  def call(self, inputs):\n",
        "    return inputs + self.pos_encoding[:, :tf.shape(inputs)[1], :]\n",
        "\n",
        "# 스케일드 닷 프로덕트 어텐션 함수\n",
        "def scaled_dot_product_attention(query, key, value, mask):\n",
        "  # 어텐션 가중치는 Q와 K의 닷 프로덕트\n",
        "  matmul_qk = tf.matmul(query, key, transpose_b=True)\n",
        "\n",
        "  # 가중치를 정규화\n",
        "  depth = tf.cast(tf.shape(key)[-1], tf.float32)\n",
        "  logits = matmul_qk / tf.math.sqrt(depth)\n",
        "\n",
        "  # 패딩에 마스크 추가\n",
        "  if mask is not None:\n",
        "    logits += (mask * -1e9)\n",
        "\n",
        "  # softmax적용\n",
        "  attention_weights = tf.nn.softmax(logits, axis=-1)\n",
        "\n",
        "  # 최종 어텐션은 가중치와 V의 닷 프로덕트\n",
        "  output = tf.matmul(attention_weights, value)\n",
        "  return output\n",
        "\n",
        "class MultiHeadAttention(tf.keras.layers.Layer):\n",
        "\n",
        "  def __init__(self, d_model, num_heads, name=\"multi_head_attention\"):\n",
        "    super(MultiHeadAttention, self).__init__(name=name)\n",
        "    self.num_heads = num_heads\n",
        "    self.d_model = d_model\n",
        "\n",
        "    assert d_model % self.num_heads == 0\n",
        "\n",
        "    self.depth = d_model // self.num_heads\n",
        "\n",
        "    self.query_dense = tf.keras.layers.Dense(units=d_model)\n",
        "    self.key_dense = tf.keras.layers.Dense(units=d_model)\n",
        "    self.value_dense = tf.keras.layers.Dense(units=d_model)\n",
        "\n",
        "    self.dense = tf.keras.layers.Dense(units=d_model)\n",
        "\n",
        "  def split_heads(self, inputs, batch_size):\n",
        "    inputs = tf.reshape(\n",
        "        inputs, shape=(batch_size, -1, self.num_heads, self.depth))\n",
        "    return tf.transpose(inputs, perm=[0, 2, 1, 3])\n",
        "\n",
        "  def call(self, inputs):\n",
        "    query, key, value, mask = inputs['query'], inputs['key'], inputs[\n",
        "        'value'], inputs['mask']\n",
        "    batch_size = tf.shape(query)[0]\n",
        "\n",
        "    # Q, K, V에 각각 Dense를 적용합니다\n",
        "    query = self.query_dense(query)\n",
        "    key = self.key_dense(key)\n",
        "    value = self.value_dense(value)\n",
        "\n",
        "    # 병렬 연산을 위한 머리를 여러 개 만듭니다\n",
        "    query = self.split_heads(query, batch_size)\n",
        "    key = self.split_heads(key, batch_size)\n",
        "    value = self.split_heads(value, batch_size)\n",
        "\n",
        "    # 스케일드 닷 프로덕트 어텐션 함수\n",
        "    scaled_attention = scaled_dot_product_attention(query, key, value, mask)\n",
        "\n",
        "    scaled_attention = tf.transpose(scaled_attention, perm=[0, 2, 1, 3])\n",
        "\n",
        "    # 어텐션 연산 후에 각 결과를 다시 연결(concatenate)합니다\n",
        "    concat_attention = tf.reshape(scaled_attention,\n",
        "                                  (batch_size, -1, self.d_model))\n",
        "\n",
        "    # 최종 결과에도 Dense를 한 번 더 적용합니다\n",
        "    outputs = self.dense(concat_attention)\n",
        "\n",
        "    return outputs\n",
        "\n",
        "def create_padding_mask(x):\n",
        "  mask = tf.cast(tf.math.equal(x, 0), tf.float32)\n",
        "  # (batch_size, 1, 1, sequence length)\n",
        "  return mask[:, tf.newaxis, tf.newaxis, :]\n",
        "\n",
        "def create_look_ahead_mask(x):\n",
        "  seq_len = tf.shape(x)[1]\n",
        "  look_ahead_mask = 1 - tf.linalg.band_part(tf.ones((seq_len, seq_len)), -1, 0)\n",
        "  padding_mask = create_padding_mask(x)\n",
        "  return tf.maximum(look_ahead_mask, padding_mask)\n",
        "\n",
        "# 인코더 하나의 레이어를 함수로 구현.\n",
        "# 이 하나의 레이어 안에는 두 개의 서브 레이어가 존재합니다.\n",
        "def encoder_layer(units, d_model, num_heads, dropout, name=\"encoder_layer\"):\n",
        "  inputs = tf.keras.Input(shape=(None, d_model), name=\"inputs\")\n",
        "\n",
        "  # 패딩 마스크 사용\n",
        "  padding_mask = tf.keras.Input(shape=(1, 1, None), name=\"padding_mask\")\n",
        "\n",
        "  # 첫 번째 서브 레이어 : 멀티 헤드 어텐션 수행 (셀프 어텐션)\n",
        "  attention = MultiHeadAttention(\n",
        "      d_model, num_heads, name=\"attention\")({\n",
        "          'query': inputs,\n",
        "          'key': inputs,\n",
        "          'value': inputs,\n",
        "          'mask': padding_mask\n",
        "      })\n",
        "\n",
        "  # 어텐션의 결과는 Dropout과 Layer Normalization이라는 훈련을 돕는 테크닉을 수행\n",
        "  attention = tf.keras.layers.Dropout(rate=dropout)(attention)\n",
        "  attention = tf.keras.layers.LayerNormalization(\n",
        "      epsilon=1e-6)(inputs + attention)\n",
        "\n",
        "  # 두 번째 서브 레이어 : 2개의 완전연결층\n",
        "  outputs = tf.keras.layers.Dense(units=units, activation='relu')(attention)\n",
        "  outputs = tf.keras.layers.Dense(units=d_model)(outputs)\n",
        "\n",
        "  # 완전연결층의 결과는 Dropout과 LayerNormalization이라는 훈련을 돕는 테크닉을 수행\n",
        "  outputs = tf.keras.layers.Dropout(rate=dropout)(outputs)\n",
        "  outputs = tf.keras.layers.LayerNormalization(\n",
        "      epsilon=1e-6)(attention + outputs)\n",
        "\n",
        "  return tf.keras.Model(\n",
        "      inputs=[inputs, padding_mask], outputs=outputs, name=name)\n",
        "\n",
        "def encoder(vocab_size,\n",
        "            num_layers,\n",
        "            units,\n",
        "            d_model,\n",
        "            num_heads,\n",
        "            dropout,\n",
        "            name=\"encoder\"):\n",
        "  inputs = tf.keras.Input(shape=(None,), name=\"inputs\")\n",
        "\n",
        "  # 패딩 마스크 사용\n",
        "  padding_mask = tf.keras.Input(shape=(1, 1, None), name=\"padding_mask\")\n",
        "\n",
        "  # 임베딩 레이어\n",
        "  embeddings = tf.keras.layers.Embedding(vocab_size, d_model)(inputs)\n",
        "  embeddings *= tf.math.sqrt(tf.cast(d_model, tf.float32))\n",
        "\n",
        "  # 포지셔널 인코딩\n",
        "  embeddings = PositionalEncoding(vocab_size, d_model)(embeddings)\n",
        "\n",
        "  outputs = tf.keras.layers.Dropout(rate=dropout)(embeddings)\n",
        "\n",
        "  # num_layers만큼 쌓아올린 인코더의 층.\n",
        "  for i in range(num_layers):\n",
        "    outputs = encoder_layer(\n",
        "        units=units,\n",
        "        d_model=d_model,\n",
        "        num_heads=num_heads,\n",
        "        dropout=dropout,\n",
        "        name=\"encoder_layer_{}\".format(i),\n",
        "    )([outputs, padding_mask])\n",
        "\n",
        "  return tf.keras.Model(\n",
        "      inputs=[inputs, padding_mask], outputs=outputs, name=name)\n",
        "\n",
        "# 디코더 하나의 레이어를 함수로 구현.\n",
        "# 이 하나의 레이어 안에는 세 개의 서브 레이어가 존재합니다.\n",
        "def decoder_layer(units, d_model, num_heads, dropout, name=\"decoder_layer\"):\n",
        "  inputs = tf.keras.Input(shape=(None, d_model), name=\"inputs\")\n",
        "  enc_outputs = tf.keras.Input(shape=(None, d_model), name=\"encoder_outputs\")\n",
        "  look_ahead_mask = tf.keras.Input(\n",
        "      shape=(1, None, None), name=\"look_ahead_mask\")\n",
        "  padding_mask = tf.keras.Input(shape=(1, 1, None), name='padding_mask')\n",
        "\n",
        "  # 첫 번째 서브 레이어 : 멀티 헤드 어텐션 수행 (셀프 어텐션)\n",
        "  attention1 = MultiHeadAttention(\n",
        "      d_model, num_heads, name=\"attention_1\")(inputs={\n",
        "          'query': inputs,\n",
        "          'key': inputs,\n",
        "          'value': inputs,\n",
        "          'mask': look_ahead_mask\n",
        "      })\n",
        "\n",
        "  # 멀티 헤드 어텐션의 결과는 LayerNormalization이라는 훈련을 돕는 테크닉을 수행\n",
        "  attention1 = tf.keras.layers.LayerNormalization(\n",
        "      epsilon=1e-6)(attention1 + inputs)\n",
        "\n",
        "  # 두 번째 서브 레이어 : 마스크드 멀티 헤드 어텐션 수행 (인코더-디코더 어텐션)\n",
        "  attention2 = MultiHeadAttention(\n",
        "      d_model, num_heads, name=\"attention_2\")(inputs={\n",
        "          'query': attention1,\n",
        "          'key': enc_outputs,\n",
        "          'value': enc_outputs,\n",
        "          'mask': padding_mask\n",
        "      })\n",
        "\n",
        "  # 마스크드 멀티 헤드 어텐션의 결과는\n",
        "  # Dropout과 LayerNormalization이라는 훈련을 돕는 테크닉을 수행\n",
        "  attention2 = tf.keras.layers.Dropout(rate=dropout)(attention2)\n",
        "  attention2 = tf.keras.layers.LayerNormalization(\n",
        "      epsilon=1e-6)(attention2 + attention1)\n",
        "\n",
        "  # 세 번째 서브 레이어 : 2개의 완전연결층\n",
        "  outputs = tf.keras.layers.Dense(units=units, activation='relu')(attention2)\n",
        "  outputs = tf.keras.layers.Dense(units=d_model)(outputs)\n",
        "\n",
        "  # 완전연결층의 결과는 Dropout과 LayerNormalization 수행\n",
        "  outputs = tf.keras.layers.Dropout(rate=dropout)(outputs)\n",
        "  outputs = tf.keras.layers.LayerNormalization(\n",
        "      epsilon=1e-6)(outputs + attention2)\n",
        "\n",
        "  return tf.keras.Model(\n",
        "      inputs=[inputs, enc_outputs, look_ahead_mask, padding_mask],\n",
        "      outputs=outputs,\n",
        "      name=name)\n",
        "\n",
        "def decoder(vocab_size,\n",
        "            num_layers,\n",
        "            units,\n",
        "            d_model,\n",
        "            num_heads,\n",
        "            dropout,\n",
        "            name='decoder'):\n",
        "  inputs = tf.keras.Input(shape=(None,), name='inputs')\n",
        "  enc_outputs = tf.keras.Input(shape=(None, d_model), name='encoder_outputs')\n",
        "  look_ahead_mask = tf.keras.Input(\n",
        "      shape=(1, None, None), name='look_ahead_mask')\n",
        "\n",
        "  # 패딩 마스크\n",
        "  padding_mask = tf.keras.Input(shape=(1, 1, None), name='padding_mask')\n",
        "  \n",
        "  # 임베딩 레이어\n",
        "  embeddings = tf.keras.layers.Embedding(vocab_size, d_model)(inputs)\n",
        "  embeddings *= tf.math.sqrt(tf.cast(d_model, tf.float32))\n",
        "\n",
        "  # 포지셔널 인코딩\n",
        "  embeddings = PositionalEncoding(vocab_size, d_model)(embeddings)\n",
        "\n",
        "  # Dropout이라는 훈련을 돕는 테크닉을 수행\n",
        "  outputs = tf.keras.layers.Dropout(rate=dropout)(embeddings)\n",
        "\n",
        "  for i in range(num_layers):\n",
        "    outputs = decoder_layer(\n",
        "        units=units,\n",
        "        d_model=d_model,\n",
        "        num_heads=num_heads,\n",
        "        dropout=dropout,\n",
        "        name='decoder_layer_{}'.format(i),\n",
        "    )(inputs=[outputs, enc_outputs, look_ahead_mask, padding_mask])\n",
        "\n",
        "  return tf.keras.Model(\n",
        "      inputs=[inputs, enc_outputs, look_ahead_mask, padding_mask],\n",
        "      outputs=outputs,\n",
        "      name=name)"
      ],
      "metadata": {
        "id": "vuhJRMSxqw2Q"
      },
      "execution_count": 127,
      "outputs": []
    },
    {
      "cell_type": "markdown",
      "source": [
        "이제 트랜스포머 함수를 정의해봅시다."
      ],
      "metadata": {
        "id": "mJ5KagGsrmX_"
      }
    },
    {
      "cell_type": "code",
      "source": [
        "def transformer(vocab_size,\n",
        "                num_layers,\n",
        "                units,\n",
        "                d_model,\n",
        "                num_heads,\n",
        "                dropout,\n",
        "                name=\"transformer\"):\n",
        "  inputs = tf.keras.Input(shape=(None,), name=\"inputs\")\n",
        "  dec_inputs = tf.keras.Input(shape=(None,), name=\"dec_inputs\")\n",
        "\n",
        "  # 인코더에서 패딩을 위한 마스크\n",
        "  enc_padding_mask = tf.keras.layers.Lambda(\n",
        "      create_padding_mask, output_shape=(1, 1, None),\n",
        "      name='enc_padding_mask')(inputs)\n",
        "\n",
        "  # 디코더에서 미래의 토큰을 마스크 하기 위해서 사용합니다.\n",
        "  # 내부적으로 패딩 마스크도 포함되어져 있습니다.\n",
        "  look_ahead_mask = tf.keras.layers.Lambda(\n",
        "      create_look_ahead_mask,\n",
        "      output_shape=(1, None, None),\n",
        "      name='look_ahead_mask')(dec_inputs)\n",
        "\n",
        "  # 두 번째 어텐션 블록에서 인코더의 벡터들을 마스킹\n",
        "  # 디코더에서 패딩을 위한 마스크\n",
        "  dec_padding_mask = tf.keras.layers.Lambda(\n",
        "      create_padding_mask, output_shape=(1, 1, None),\n",
        "      name='dec_padding_mask')(inputs)\n",
        "\n",
        "  # 인코더\n",
        "  enc_outputs = encoder(\n",
        "      vocab_size=vocab_size,\n",
        "      num_layers=num_layers,\n",
        "      units=units,\n",
        "      d_model=d_model,\n",
        "      num_heads=num_heads,\n",
        "      dropout=dropout,\n",
        "  )(inputs=[inputs, enc_padding_mask])\n",
        "\n",
        "  # 디코더\n",
        "  dec_outputs = decoder(\n",
        "      vocab_size=vocab_size,\n",
        "      num_layers=num_layers,\n",
        "      units=units,\n",
        "      d_model=d_model,\n",
        "      num_heads=num_heads,\n",
        "      dropout=dropout,\n",
        "  )(inputs=[dec_inputs, enc_outputs, look_ahead_mask, dec_padding_mask])\n",
        "\n",
        "  # 완전연결층\n",
        "  outputs = tf.keras.layers.Dense(units=vocab_size, name=\"outputs\")(dec_outputs)\n",
        "\n",
        "  return tf.keras.Model(inputs=[inputs, dec_inputs], outputs=outputs, name=name)"
      ],
      "metadata": {
        "id": "xHToqZpKrp9b"
      },
      "execution_count": 128,
      "outputs": []
    },
    {
      "cell_type": "markdown",
      "source": [
        "## 모델 생성"
      ],
      "metadata": {
        "id": "TG7mknZtr0dW"
      }
    },
    {
      "cell_type": "code",
      "source": [
        "tf.keras.backend.clear_session()\n",
        "\n",
        "# 하이퍼파라미터\n",
        "NUM_LAYERS = 4 # 인코더와 디코더의 층의 개수\n",
        "D_MODEL = 512 # 인코더와 디코더 내부의 입, 출력의 고정 차원\n",
        "NUM_HEADS = 8 # 멀티 헤드 어텐션에서의 헤드 수 \n",
        "UNITS = 512 # 피드 포워드 신경망의 은닉층의 크기\n",
        "DROPOUT = 0.4 # 드롭아웃의 비율\n",
        "\n",
        "model = transformer(\n",
        "    vocab_size=VOCAB_SIZE,\n",
        "    num_layers=NUM_LAYERS,\n",
        "    units=UNITS,\n",
        "    d_model=D_MODEL,\n",
        "    num_heads=NUM_HEADS,\n",
        "    dropout=DROPOUT)\n",
        "\n",
        "model.summary()"
      ],
      "metadata": {
        "colab": {
          "base_uri": "https://localhost:8080/"
        },
        "id": "MLm0StDyr-88",
        "outputId": "b3f3dd3e-e8a5-4676-9031-ff75004fc538"
      },
      "execution_count": 129,
      "outputs": [
        {
          "output_type": "stream",
          "name": "stdout",
          "text": [
            "Model: \"transformer\"\n",
            "__________________________________________________________________________________________________\n",
            " Layer (type)                   Output Shape         Param #     Connected to                     \n",
            "==================================================================================================\n",
            " inputs (InputLayer)            [(None, None)]       0           []                               \n",
            "                                                                                                  \n",
            " dec_inputs (InputLayer)        [(None, None)]       0           []                               \n",
            "                                                                                                  \n",
            " enc_padding_mask (Lambda)      (None, 1, 1, None)   0           ['inputs[0][0]']                 \n",
            "                                                                                                  \n",
            " encoder (Functional)           (None, None, 512)    11487232    ['inputs[0][0]',                 \n",
            "                                                                  'enc_padding_mask[0][0]']       \n",
            "                                                                                                  \n",
            " look_ahead_mask (Lambda)       (None, 1, None, Non  0           ['dec_inputs[0][0]']             \n",
            "                                e)                                                                \n",
            "                                                                                                  \n",
            " dec_padding_mask (Lambda)      (None, 1, 1, None)   0           ['inputs[0][0]']                 \n",
            "                                                                                                  \n",
            " decoder (Functional)           (None, None, 512)    15693824    ['dec_inputs[0][0]',             \n",
            "                                                                  'encoder[0][0]',                \n",
            "                                                                  'look_ahead_mask[0][0]',        \n",
            "                                                                  'dec_padding_mask[0][0]']       \n",
            "                                                                                                  \n",
            " outputs (Dense)                (None, None, 10108)  5185404     ['decoder[0][0]']                \n",
            "                                                                                                  \n",
            "==================================================================================================\n",
            "Total params: 32,366,460\n",
            "Trainable params: 32,366,460\n",
            "Non-trainable params: 0\n",
            "__________________________________________________________________________________________________\n"
          ]
        }
      ]
    },
    {
      "cell_type": "markdown",
      "source": [
        "## 손실함수\n",
        "레이블인 시퀀스에 패딩이 되어 있으므로, loss를 계산할때 패딩 마스크를 적용해야 합니다."
      ],
      "metadata": {
        "id": "6_o-hquus79G"
      }
    },
    {
      "cell_type": "code",
      "source": [
        "def loss_function(y_true, y_pred):\n",
        "  y_true = tf.reshape(y_true, shape=(-1, MAX_LENGTH - 1))\n",
        "  \n",
        "  loss = tf.keras.losses.SparseCategoricalCrossentropy(\n",
        "      from_logits=True, reduction='none')(y_true, y_pred)\n",
        "\n",
        "  mask = tf.cast(tf.not_equal(y_true, 0), tf.float32)\n",
        "  loss = tf.multiply(loss, mask)\n",
        "\n",
        "  return tf.reduce_mean(loss)"
      ],
      "metadata": {
        "id": "gsoQrF_ztBlT"
      },
      "execution_count": 130,
      "outputs": []
    },
    {
      "cell_type": "markdown",
      "source": [
        "## 커스텀 된 학습률(Learning rate)\n",
        "최근에는 모델학습 초기에 learning rate를 급격히 높였다가, 이후 train step이 진행됨에 따라 서서히 낮추어 가면서 안정적으로 수렴하게 하는 고급 기법을 널리 사용하고 있습니다. 이런 방법을 커스텀 학습률 스케줄링(Custom Learning rate Scheduling)이라고 합니다."
      ],
      "metadata": {
        "id": "hF4B2JbvtOM1"
      }
    },
    {
      "cell_type": "code",
      "source": [
        "class CustomSchedule(tf.keras.optimizers.schedules.LearningRateSchedule):\n",
        "\n",
        "  def __init__(self, d_model, warmup_steps=4000):\n",
        "    super(CustomSchedule, self).__init__()\n",
        "\n",
        "    self.d_model = d_model\n",
        "    self.d_model = tf.cast(self.d_model, tf.float32)\n",
        "\n",
        "    self.warmup_steps = warmup_steps\n",
        "\n",
        "  def __call__(self, step):\n",
        "    arg1 = tf.math.rsqrt(step)\n",
        "    arg2 = step * (self.warmup_steps**-1.5)\n",
        "\n",
        "    return tf.math.rsqrt(self.d_model) * tf.math.minimum(arg1, arg2)"
      ],
      "metadata": {
        "id": "MXY1XKWotce6"
      },
      "execution_count": 131,
      "outputs": []
    },
    {
      "cell_type": "markdown",
      "source": [
        "## 모델 컴파일\n",
        "손실 함수와 커스텀 된 학습률(learning rate)을 사용하여 모델을 컴파일합니다."
      ],
      "metadata": {
        "id": "GDg4Sq2YugRa"
      }
    },
    {
      "cell_type": "code",
      "source": [
        "learning_rate = CustomSchedule(D_MODEL)\n",
        "\n",
        "optimizer = tf.keras.optimizers.Adam(\n",
        "    learning_rate, beta_1=0.9, beta_2=0.98, epsilon=1e-9)\n",
        "\n",
        "def accuracy(y_true, y_pred):\n",
        "  y_true = tf.reshape(y_true, shape=(-1, MAX_LENGTH - 1))\n",
        "  return tf.keras.metrics.sparse_categorical_accuracy(y_true, y_pred)\n",
        "\n",
        "model.compile(optimizer=optimizer, loss=loss_function, metrics=[accuracy])"
      ],
      "metadata": {
        "id": "IqBdNN1aujc0"
      },
      "execution_count": 132,
      "outputs": []
    },
    {
      "cell_type": "markdown",
      "source": [
        "## 훈련하기"
      ],
      "metadata": {
        "id": "_0sqTrClus3L"
      }
    },
    {
      "cell_type": "code",
      "source": [
        "EPOCHS = 150\n",
        "model.fit(dataset, epochs=EPOCHS, verbose=1)"
      ],
      "metadata": {
        "colab": {
          "base_uri": "https://localhost:8080/"
        },
        "id": "uqJSkCZzuviP",
        "outputId": "d5322299-a259-42ae-f647-493bad82fda0"
      },
      "execution_count": 147,
      "outputs": [
        {
          "output_type": "stream",
          "name": "stdout",
          "text": [
            "Epoch 1/150\n",
            "300/300 [==============================] - 16s 52ms/step - loss: 2.6238 - accuracy: 0.2604\n",
            "Epoch 2/150\n",
            "300/300 [==============================] - 15s 50ms/step - loss: 2.5756 - accuracy: 0.2627\n",
            "Epoch 3/150\n",
            "300/300 [==============================] - 15s 50ms/step - loss: 2.5289 - accuracy: 0.2653\n",
            "Epoch 4/150\n",
            "300/300 [==============================] - 15s 50ms/step - loss: 2.4821 - accuracy: 0.2685\n",
            "Epoch 5/150\n",
            "300/300 [==============================] - 15s 50ms/step - loss: 2.4349 - accuracy: 0.2715\n",
            "Epoch 6/150\n",
            "300/300 [==============================] - 15s 50ms/step - loss: 2.3999 - accuracy: 0.2724\n",
            "Epoch 7/150\n",
            "300/300 [==============================] - 15s 51ms/step - loss: 2.3503 - accuracy: 0.2767\n",
            "Epoch 8/150\n",
            "300/300 [==============================] - 15s 50ms/step - loss: 2.3213 - accuracy: 0.2789\n",
            "Epoch 9/150\n",
            "300/300 [==============================] - 15s 50ms/step - loss: 2.2761 - accuracy: 0.2826\n",
            "Epoch 10/150\n",
            "300/300 [==============================] - 15s 50ms/step - loss: 2.2368 - accuracy: 0.2857\n",
            "Epoch 11/150\n",
            "300/300 [==============================] - 15s 50ms/step - loss: 2.1930 - accuracy: 0.2891\n",
            "Epoch 12/150\n",
            "300/300 [==============================] - 15s 50ms/step - loss: 2.1580 - accuracy: 0.2919\n",
            "Epoch 13/150\n",
            "300/300 [==============================] - 15s 50ms/step - loss: 2.1266 - accuracy: 0.2946\n",
            "Epoch 14/150\n",
            "300/300 [==============================] - 15s 50ms/step - loss: 2.1041 - accuracy: 0.2970\n",
            "Epoch 15/150\n",
            "300/300 [==============================] - 15s 51ms/step - loss: 2.0700 - accuracy: 0.3005\n",
            "Epoch 16/150\n",
            "300/300 [==============================] - 15s 50ms/step - loss: 2.0329 - accuracy: 0.3045\n",
            "Epoch 17/150\n",
            "300/300 [==============================] - 15s 50ms/step - loss: 2.0105 - accuracy: 0.3077\n",
            "Epoch 18/150\n",
            "300/300 [==============================] - 15s 50ms/step - loss: 1.9737 - accuracy: 0.3118\n",
            "Epoch 19/150\n",
            "300/300 [==============================] - 15s 50ms/step - loss: 1.9386 - accuracy: 0.3152\n",
            "Epoch 20/150\n",
            "300/300 [==============================] - 15s 50ms/step - loss: 1.9131 - accuracy: 0.3186\n",
            "Epoch 21/150\n",
            "300/300 [==============================] - 15s 51ms/step - loss: 1.8864 - accuracy: 0.3216\n",
            "Epoch 22/150\n",
            "300/300 [==============================] - 15s 51ms/step - loss: 1.8578 - accuracy: 0.3258\n",
            "Epoch 23/150\n",
            "300/300 [==============================] - 15s 50ms/step - loss: 1.8321 - accuracy: 0.3291\n",
            "Epoch 24/150\n",
            "300/300 [==============================] - 15s 50ms/step - loss: 1.8105 - accuracy: 0.3327\n",
            "Epoch 25/150\n",
            "300/300 [==============================] - 15s 50ms/step - loss: 1.7832 - accuracy: 0.3358\n",
            "Epoch 26/150\n",
            "300/300 [==============================] - 15s 50ms/step - loss: 1.7634 - accuracy: 0.3396\n",
            "Epoch 27/150\n",
            "300/300 [==============================] - 15s 50ms/step - loss: 1.7348 - accuracy: 0.3419\n",
            "Epoch 28/150\n",
            "300/300 [==============================] - 15s 50ms/step - loss: 1.7155 - accuracy: 0.3446\n",
            "Epoch 29/150\n",
            "300/300 [==============================] - 15s 51ms/step - loss: 1.7043 - accuracy: 0.3480\n",
            "Epoch 30/150\n",
            "300/300 [==============================] - 15s 50ms/step - loss: 1.6830 - accuracy: 0.3504\n",
            "Epoch 31/150\n",
            "300/300 [==============================] - 15s 50ms/step - loss: 1.6625 - accuracy: 0.3528\n",
            "Epoch 32/150\n",
            "300/300 [==============================] - 15s 50ms/step - loss: 1.6409 - accuracy: 0.3560\n",
            "Epoch 33/150\n",
            "300/300 [==============================] - 15s 50ms/step - loss: 1.6308 - accuracy: 0.3572\n",
            "Epoch 34/150\n",
            "300/300 [==============================] - 15s 50ms/step - loss: 1.6329 - accuracy: 0.3584\n",
            "Epoch 35/150\n",
            "300/300 [==============================] - 15s 50ms/step - loss: 1.6041 - accuracy: 0.3620\n",
            "Epoch 36/150\n",
            "300/300 [==============================] - 15s 50ms/step - loss: 1.5897 - accuracy: 0.3636\n",
            "Epoch 37/150\n",
            "300/300 [==============================] - 15s 51ms/step - loss: 1.5682 - accuracy: 0.3686\n",
            "Epoch 38/150\n",
            "300/300 [==============================] - 15s 50ms/step - loss: 1.5663 - accuracy: 0.3681\n",
            "Epoch 39/150\n",
            "300/300 [==============================] - 15s 50ms/step - loss: 1.5433 - accuracy: 0.3718\n",
            "Epoch 40/150\n",
            "300/300 [==============================] - 15s 50ms/step - loss: 1.5315 - accuracy: 0.3737\n",
            "Epoch 41/150\n",
            "300/300 [==============================] - 15s 51ms/step - loss: 1.5140 - accuracy: 0.3764\n",
            "Epoch 42/150\n",
            "300/300 [==============================] - 15s 51ms/step - loss: 1.5091 - accuracy: 0.3779\n",
            "Epoch 43/150\n",
            "300/300 [==============================] - 15s 51ms/step - loss: 1.4872 - accuracy: 0.3816\n",
            "Epoch 44/150\n",
            "300/300 [==============================] - 15s 50ms/step - loss: 1.4782 - accuracy: 0.3832\n",
            "Epoch 45/150\n",
            "300/300 [==============================] - 15s 50ms/step - loss: 1.4684 - accuracy: 0.3854\n",
            "Epoch 46/150\n",
            "300/300 [==============================] - 15s 50ms/step - loss: 1.4582 - accuracy: 0.3870\n",
            "Epoch 47/150\n",
            "300/300 [==============================] - 15s 50ms/step - loss: 1.4441 - accuracy: 0.3885\n",
            "Epoch 48/150\n",
            "300/300 [==============================] - 15s 50ms/step - loss: 1.4273 - accuracy: 0.3920\n",
            "Epoch 49/150\n",
            "300/300 [==============================] - 15s 50ms/step - loss: 1.4260 - accuracy: 0.3921\n",
            "Epoch 50/150\n",
            "300/300 [==============================] - 15s 50ms/step - loss: 1.4119 - accuracy: 0.3946\n",
            "Epoch 51/150\n",
            "300/300 [==============================] - 15s 50ms/step - loss: 1.4069 - accuracy: 0.3955\n",
            "Epoch 52/150\n",
            "300/300 [==============================] - 15s 50ms/step - loss: 1.3964 - accuracy: 0.3974\n",
            "Epoch 53/150\n",
            "300/300 [==============================] - 15s 49ms/step - loss: 1.3841 - accuracy: 0.3995\n",
            "Epoch 54/150\n",
            "300/300 [==============================] - 15s 49ms/step - loss: 1.3707 - accuracy: 0.4017\n",
            "Epoch 55/150\n",
            "300/300 [==============================] - 15s 49ms/step - loss: 1.3668 - accuracy: 0.4028\n",
            "Epoch 56/150\n",
            "300/300 [==============================] - 15s 49ms/step - loss: 1.3581 - accuracy: 0.4036\n",
            "Epoch 57/150\n",
            "300/300 [==============================] - 15s 50ms/step - loss: 1.3496 - accuracy: 0.4055\n",
            "Epoch 58/150\n",
            "300/300 [==============================] - 15s 49ms/step - loss: 1.3404 - accuracy: 0.4077\n",
            "Epoch 59/150\n",
            "300/300 [==============================] - 15s 49ms/step - loss: 1.3331 - accuracy: 0.4086\n",
            "Epoch 60/150\n",
            "300/300 [==============================] - 15s 49ms/step - loss: 1.3211 - accuracy: 0.4106\n",
            "Epoch 61/150\n",
            "300/300 [==============================] - 15s 49ms/step - loss: 1.3176 - accuracy: 0.4112\n",
            "Epoch 62/150\n",
            "300/300 [==============================] - 15s 51ms/step - loss: 1.3141 - accuracy: 0.4126\n",
            "Epoch 63/150\n",
            "300/300 [==============================] - 15s 51ms/step - loss: 1.3060 - accuracy: 0.4139\n",
            "Epoch 64/150\n",
            "300/300 [==============================] - 15s 50ms/step - loss: 1.2961 - accuracy: 0.4168\n",
            "Epoch 65/150\n",
            "300/300 [==============================] - 15s 51ms/step - loss: 1.2889 - accuracy: 0.4165\n",
            "Epoch 66/150\n",
            "300/300 [==============================] - 15s 51ms/step - loss: 1.2777 - accuracy: 0.4203\n",
            "Epoch 67/150\n",
            "300/300 [==============================] - 15s 50ms/step - loss: 1.2704 - accuracy: 0.4209\n",
            "Epoch 68/150\n",
            "300/300 [==============================] - 15s 51ms/step - loss: 1.2703 - accuracy: 0.4210\n",
            "Epoch 69/150\n",
            "300/300 [==============================] - 15s 51ms/step - loss: 1.2611 - accuracy: 0.4217\n",
            "Epoch 70/150\n",
            "300/300 [==============================] - 15s 50ms/step - loss: 1.2533 - accuracy: 0.4234\n",
            "Epoch 71/150\n",
            "300/300 [==============================] - 15s 51ms/step - loss: 1.2505 - accuracy: 0.4241\n",
            "Epoch 72/150\n",
            "300/300 [==============================] - 15s 50ms/step - loss: 1.2382 - accuracy: 0.4266\n",
            "Epoch 73/150\n",
            "300/300 [==============================] - 15s 50ms/step - loss: 1.2368 - accuracy: 0.4268\n",
            "Epoch 74/150\n",
            "300/300 [==============================] - 15s 50ms/step - loss: 1.2286 - accuracy: 0.4275\n",
            "Epoch 75/150\n",
            "300/300 [==============================] - 15s 50ms/step - loss: 1.2343 - accuracy: 0.4282\n",
            "Epoch 76/150\n",
            "300/300 [==============================] - 15s 50ms/step - loss: 1.2270 - accuracy: 0.4297\n",
            "Epoch 77/150\n",
            "300/300 [==============================] - 15s 51ms/step - loss: 1.2128 - accuracy: 0.4316\n",
            "Epoch 78/150\n",
            "300/300 [==============================] - 15s 50ms/step - loss: 1.2097 - accuracy: 0.4322\n",
            "Epoch 79/150\n",
            "300/300 [==============================] - 15s 50ms/step - loss: 1.2052 - accuracy: 0.4323\n",
            "Epoch 80/150\n",
            "300/300 [==============================] - 15s 50ms/step - loss: 1.2078 - accuracy: 0.4313\n",
            "Epoch 81/150\n",
            "300/300 [==============================] - 15s 50ms/step - loss: 1.1991 - accuracy: 0.4351\n",
            "Epoch 82/150\n",
            "300/300 [==============================] - 15s 50ms/step - loss: 1.1966 - accuracy: 0.4356\n",
            "Epoch 83/150\n",
            "300/300 [==============================] - 16s 52ms/step - loss: 1.1857 - accuracy: 0.4366\n",
            "Epoch 84/150\n",
            "300/300 [==============================] - 15s 50ms/step - loss: 1.1817 - accuracy: 0.4382\n",
            "Epoch 85/150\n",
            "300/300 [==============================] - 15s 51ms/step - loss: 1.1770 - accuracy: 0.4385\n",
            "Epoch 86/150\n",
            "300/300 [==============================] - 15s 50ms/step - loss: 1.1781 - accuracy: 0.4383\n",
            "Epoch 87/150\n",
            "300/300 [==============================] - 15s 50ms/step - loss: 1.1679 - accuracy: 0.4403\n",
            "Epoch 88/150\n",
            "300/300 [==============================] - 15s 50ms/step - loss: 1.1654 - accuracy: 0.4404\n",
            "Epoch 89/150\n",
            "300/300 [==============================] - 15s 50ms/step - loss: 1.1643 - accuracy: 0.4405\n",
            "Epoch 90/150\n",
            "300/300 [==============================] - 15s 50ms/step - loss: 1.1568 - accuracy: 0.4422\n",
            "Epoch 91/150\n",
            "300/300 [==============================] - 15s 51ms/step - loss: 1.1513 - accuracy: 0.4431\n",
            "Epoch 92/150\n",
            "300/300 [==============================] - 15s 50ms/step - loss: 1.1540 - accuracy: 0.4432\n",
            "Epoch 93/150\n",
            "300/300 [==============================] - 15s 50ms/step - loss: 1.1452 - accuracy: 0.4450\n",
            "Epoch 94/150\n",
            "300/300 [==============================] - 15s 51ms/step - loss: 1.1403 - accuracy: 0.4470\n",
            "Epoch 95/150\n",
            "300/300 [==============================] - 15s 50ms/step - loss: 1.1391 - accuracy: 0.4461\n",
            "Epoch 96/150\n",
            "300/300 [==============================] - 15s 50ms/step - loss: 1.1359 - accuracy: 0.4464\n",
            "Epoch 97/150\n",
            "300/300 [==============================] - 15s 51ms/step - loss: 1.1377 - accuracy: 0.4479\n",
            "Epoch 98/150\n",
            "300/300 [==============================] - 15s 50ms/step - loss: 1.1322 - accuracy: 0.4475\n",
            "Epoch 99/150\n",
            "300/300 [==============================] - 15s 51ms/step - loss: 1.1303 - accuracy: 0.4478\n",
            "Epoch 100/150\n",
            "300/300 [==============================] - 15s 50ms/step - loss: 1.1222 - accuracy: 0.4499\n",
            "Epoch 101/150\n",
            "300/300 [==============================] - 15s 50ms/step - loss: 1.1189 - accuracy: 0.4496\n",
            "Epoch 102/150\n",
            "300/300 [==============================] - 15s 51ms/step - loss: 1.1156 - accuracy: 0.4515\n",
            "Epoch 103/150\n",
            "300/300 [==============================] - 15s 51ms/step - loss: 1.1168 - accuracy: 0.4510\n",
            "Epoch 104/150\n",
            "300/300 [==============================] - 15s 51ms/step - loss: 1.1136 - accuracy: 0.4523\n",
            "Epoch 105/150\n",
            "300/300 [==============================] - 15s 51ms/step - loss: 1.1030 - accuracy: 0.4533\n",
            "Epoch 106/150\n",
            "300/300 [==============================] - 15s 50ms/step - loss: 1.0971 - accuracy: 0.4547\n",
            "Epoch 107/150\n",
            "300/300 [==============================] - 15s 50ms/step - loss: 1.1029 - accuracy: 0.4535\n",
            "Epoch 108/150\n",
            "300/300 [==============================] - 15s 51ms/step - loss: 1.0921 - accuracy: 0.4560\n",
            "Epoch 109/150\n",
            "300/300 [==============================] - 15s 50ms/step - loss: 1.0958 - accuracy: 0.4550\n",
            "Epoch 110/150\n",
            "300/300 [==============================] - 15s 50ms/step - loss: 1.0874 - accuracy: 0.4562\n",
            "Epoch 111/150\n",
            "300/300 [==============================] - 15s 51ms/step - loss: 1.0865 - accuracy: 0.4570\n",
            "Epoch 112/150\n",
            "300/300 [==============================] - 15s 50ms/step - loss: 1.0834 - accuracy: 0.4572\n",
            "Epoch 113/150\n",
            "300/300 [==============================] - 15s 51ms/step - loss: 1.0816 - accuracy: 0.4579\n",
            "Epoch 114/150\n",
            "300/300 [==============================] - 15s 50ms/step - loss: 1.0739 - accuracy: 0.4594\n",
            "Epoch 115/150\n",
            "300/300 [==============================] - 15s 50ms/step - loss: 1.0732 - accuracy: 0.4597\n",
            "Epoch 116/150\n",
            "300/300 [==============================] - 15s 51ms/step - loss: 1.0727 - accuracy: 0.4585\n",
            "Epoch 117/150\n",
            "300/300 [==============================] - 15s 50ms/step - loss: 1.0734 - accuracy: 0.4585\n",
            "Epoch 118/150\n",
            "300/300 [==============================] - 15s 51ms/step - loss: 1.0663 - accuracy: 0.4600\n",
            "Epoch 119/150\n",
            "300/300 [==============================] - 15s 51ms/step - loss: 1.0689 - accuracy: 0.4595\n",
            "Epoch 120/150\n",
            "300/300 [==============================] - 15s 50ms/step - loss: 1.0602 - accuracy: 0.4606\n",
            "Epoch 121/150\n",
            "300/300 [==============================] - 15s 50ms/step - loss: 1.0641 - accuracy: 0.4615\n",
            "Epoch 122/150\n",
            "300/300 [==============================] - 15s 51ms/step - loss: 1.0535 - accuracy: 0.4617\n",
            "Epoch 123/150\n",
            "300/300 [==============================] - 15s 51ms/step - loss: 1.0532 - accuracy: 0.4619\n",
            "Epoch 124/150\n",
            "300/300 [==============================] - 15s 52ms/step - loss: 1.0517 - accuracy: 0.4637\n",
            "Epoch 125/150\n",
            "300/300 [==============================] - 15s 50ms/step - loss: 1.0440 - accuracy: 0.4644\n",
            "Epoch 126/150\n",
            "300/300 [==============================] - 15s 50ms/step - loss: 1.0425 - accuracy: 0.4651\n",
            "Epoch 127/150\n",
            "300/300 [==============================] - 15s 51ms/step - loss: 1.0434 - accuracy: 0.4644\n",
            "Epoch 128/150\n",
            "300/300 [==============================] - 15s 50ms/step - loss: 1.0380 - accuracy: 0.4659\n",
            "Epoch 129/150\n",
            "300/300 [==============================] - 15s 50ms/step - loss: 1.0358 - accuracy: 0.4654\n",
            "Epoch 130/150\n",
            "300/300 [==============================] - 15s 51ms/step - loss: 1.0355 - accuracy: 0.4663\n",
            "Epoch 131/150\n",
            "300/300 [==============================] - 15s 51ms/step - loss: 1.0275 - accuracy: 0.4687\n",
            "Epoch 132/150\n",
            "300/300 [==============================] - 15s 50ms/step - loss: 1.0312 - accuracy: 0.4664\n",
            "Epoch 133/150\n",
            "300/300 [==============================] - 15s 51ms/step - loss: 1.0276 - accuracy: 0.4673\n",
            "Epoch 134/150\n",
            "300/300 [==============================] - 15s 50ms/step - loss: 1.0175 - accuracy: 0.4694\n",
            "Epoch 135/150\n",
            "300/300 [==============================] - 15s 51ms/step - loss: 1.0215 - accuracy: 0.4686\n",
            "Epoch 136/150\n",
            "300/300 [==============================] - 15s 51ms/step - loss: 1.0180 - accuracy: 0.4701\n",
            "Epoch 137/150\n",
            "300/300 [==============================] - 15s 51ms/step - loss: 1.0172 - accuracy: 0.4693\n",
            "Epoch 138/150\n",
            "300/300 [==============================] - 15s 50ms/step - loss: 1.0122 - accuracy: 0.4697\n",
            "Epoch 139/150\n",
            "300/300 [==============================] - 15s 51ms/step - loss: 1.0120 - accuracy: 0.4706\n",
            "Epoch 140/150\n",
            "300/300 [==============================] - 15s 50ms/step - loss: 1.0110 - accuracy: 0.4704\n",
            "Epoch 141/150\n",
            "300/300 [==============================] - 15s 51ms/step - loss: 1.0096 - accuracy: 0.4710\n",
            "Epoch 142/150\n",
            "300/300 [==============================] - 15s 51ms/step - loss: 1.0004 - accuracy: 0.4725\n",
            "Epoch 143/150\n",
            "300/300 [==============================] - 15s 50ms/step - loss: 0.9995 - accuracy: 0.4721\n",
            "Epoch 144/150\n",
            "300/300 [==============================] - 16s 52ms/step - loss: 1.0005 - accuracy: 0.4718\n",
            "Epoch 145/150\n",
            "300/300 [==============================] - 15s 51ms/step - loss: 0.9941 - accuracy: 0.4738\n",
            "Epoch 146/150\n",
            "300/300 [==============================] - 15s 50ms/step - loss: 0.9941 - accuracy: 0.4737\n",
            "Epoch 147/150\n",
            "300/300 [==============================] - 15s 51ms/step - loss: 0.9947 - accuracy: 0.4726\n",
            "Epoch 148/150\n",
            "300/300 [==============================] - 15s 50ms/step - loss: 0.9860 - accuracy: 0.4756\n",
            "Epoch 149/150\n",
            "300/300 [==============================] - 15s 50ms/step - loss: 0.9849 - accuracy: 0.4757\n",
            "Epoch 150/150\n",
            "300/300 [==============================] - 15s 51ms/step - loss: 0.9829 - accuracy: 0.4747\n"
          ]
        },
        {
          "output_type": "execute_result",
          "data": {
            "text/plain": [
              "<keras.callbacks.History at 0x7fa7daff8d90>"
            ]
          },
          "metadata": {},
          "execution_count": 147
        }
      ]
    },
    {
      "cell_type": "markdown",
      "source": [
        "## Step 5. 모델 평가하기\n",
        "예측(inference) 단계는 기본적으로 다음과 같은 과정을 거칩니다.\n",
        "\n",
        "1. 새로운 입력 문장에 대해서는 훈련 때와 동일한 전처리를 거친다.\n",
        "2. 입력 문장을 토크나이징하고, START_TOKEN과 END_TOKEN을 추가한다.\n",
        "3. 패딩 마스킹과 룩 어헤드 마스킹을 계산한다.\n",
        "4. 디코더는 입력 시퀀스로부터 다음 단어를 예측한다.\n",
        "5. 디코더는 예측된 다음 단어를 기존의 입력 시퀀스에 추가하여 새로운 입력으로 사용한다.\n",
        "6. END_TOKEN이 예측되거나 문장의 최대 길이에 도달하면 디코더는 동작을 멈춘다.\n",
        "\n",
        "위의 과정을 모두 담은 decoder_inference() 함수를 만듭니다.\n"
      ],
      "metadata": {
        "id": "3IqbYqnNw61s"
      }
    },
    {
      "cell_type": "code",
      "source": [
        "def decoder_inference(sentence):\n",
        "  sentence = preprocess_sentence(sentence)\n",
        "\n",
        "  # 입력된 문장을 정수 인코딩 후, 시작 토큰과 종료 토큰을 앞뒤로 추가.\n",
        "  # ex) Where have you been? → [[8331   86   30    5 1059    7 8332]]\n",
        "  sentence = tf.expand_dims(\n",
        "      START_TOKEN + tokenizer.encode(sentence) + END_TOKEN, axis=0)\n",
        "\n",
        "  # 디코더의 현재까지의 예측한 출력 시퀀스가 지속적으로 저장되는 변수.\n",
        "  # 처음에는 예측한 내용이 없음으로 시작 토큰만 별도 저장. ex) 8331\n",
        "  output_sequence = tf.expand_dims(START_TOKEN, 0)\n",
        "\n",
        "  # 디코더의 인퍼런스 단계\n",
        "  for i in range(MAX_LENGTH):\n",
        "    # 디코더는 최대 MAX_LENGTH의 길이만큼 다음 단어 예측을 반복합니다.\n",
        "    predictions = model(inputs=[sentence, output_sequence], training=False)\n",
        "    predictions = predictions[:, -1:, :]\n",
        "\n",
        "    # 현재 예측한 단어의 정수\n",
        "    predicted_id = tf.cast(tf.argmax(predictions, axis=-1), tf.int32)\n",
        "\n",
        "    # 만약 현재 예측한 단어가 종료 토큰이라면 for문을 종료\n",
        "    if tf.equal(predicted_id, END_TOKEN[0]):\n",
        "      break\n",
        "\n",
        "    # 예측한 단어들은 지속적으로 output_sequence에 추가됩니다.\n",
        "    # 이 output_sequence는 다시 디코더의 입력이 됩니다.\n",
        "    output_sequence = tf.concat([output_sequence, predicted_id], axis=-1)\n",
        "\n",
        "  return tf.squeeze(output_sequence, axis=0)"
      ],
      "metadata": {
        "id": "pWkbbMoNxPan"
      },
      "execution_count": 148,
      "outputs": []
    },
    {
      "cell_type": "markdown",
      "source": [
        "임의의 입력 문장에 대해서 decoder_inference() 함수를 호출하여 챗봇의 대답을 얻는 sentence_generation() 함수를 만듭니다."
      ],
      "metadata": {
        "id": "rBgIkAe3xWz1"
      }
    },
    {
      "cell_type": "code",
      "source": [
        "def sentence_generation(sentence):\n",
        "  # 입력 문장에 대해서 디코더를 동작 시켜 예측된 정수 시퀀스를 리턴받습니다.\n",
        "  prediction = decoder_inference(sentence)\n",
        "\n",
        "  # 정수 시퀀스를 다시 텍스트 시퀀스로 변환합니다.\n",
        "  predicted_sentence = tokenizer.decode(\n",
        "      [i for i in prediction if i < tokenizer.vocab_size])\n",
        "\n",
        "  print('입력 : {}'.format(sentence))\n",
        "  print('출력 : {}'.format(predicted_sentence))\n",
        "\n",
        "  return None"
      ],
      "metadata": {
        "id": "GnZdPVeuxXej"
      },
      "execution_count": 163,
      "outputs": []
    },
    {
      "cell_type": "code",
      "source": [
        "sentence_generation('나 배고파')"
      ],
      "metadata": {
        "colab": {
          "base_uri": "https://localhost:8080/"
        },
        "id": "zjWwto4exbTE",
        "outputId": "68d78f0e-2a1a-48e9-a837-6ab7812046d5"
      },
      "execution_count": 164,
      "outputs": [
        {
          "output_type": "stream",
          "name": "stdout",
          "text": [
            "입력 : 나 배고파\n",
            "출력 : 얼른 집에 가서 쉬시길 바랄게요 . \n"
          ]
        }
      ]
    },
    {
      "cell_type": "code",
      "source": [
        "sentence_generation('공부하기싫어')"
      ],
      "metadata": {
        "colab": {
          "base_uri": "https://localhost:8080/"
        },
        "id": "7j2Hj02I8NEQ",
        "outputId": "5b379523-ccb5-411a-a8de-2e3a4895dc54"
      },
      "execution_count": 165,
      "outputs": [
        {
          "output_type": "stream",
          "name": "stdout",
          "text": [
            "입력 : 공부하기싫어\n",
            "출력 : 물 마시세요 . \n"
          ]
        }
      ]
    },
    {
      "cell_type": "code",
      "source": [
        "sentence_generation('나 물 싫어해')"
      ],
      "metadata": {
        "colab": {
          "base_uri": "https://localhost:8080/"
        },
        "id": "7wASXxrS8m91",
        "outputId": "a2954566-c8a6-4638-ea02-b18f8a7b1f5c"
      },
      "execution_count": 166,
      "outputs": [
        {
          "output_type": "stream",
          "name": "stdout",
          "text": [
            "입력 : 나 물 싫어해\n",
            "출력 : 회사 근처로 이사를 가보세요 . \n"
          ]
        }
      ]
    },
    {
      "cell_type": "code",
      "source": [
        "sentence_generation('나 회사 안다니고 지금 학생인데')"
      ],
      "metadata": {
        "colab": {
          "base_uri": "https://localhost:8080/"
        },
        "id": "M3FWpMcq8q9z",
        "outputId": "1cc38d73-a9c7-4b3a-81c8-276bea69d506"
      },
      "execution_count": 167,
      "outputs": [
        {
          "output_type": "stream",
          "name": "stdout",
          "text": [
            "입력 : 나 회사 안다니고 지금 학생인데\n",
            "출력 : 이제 더 이상 보지 마세요 . \n"
          ]
        }
      ]
    },
    {
      "cell_type": "code",
      "source": [
        "sentence_generation('애플 vs 갤럭시')"
      ],
      "metadata": {
        "colab": {
          "base_uri": "https://localhost:8080/"
        },
        "id": "albb519383ig",
        "outputId": "00e106e3-bcf8-4d3f-f7c1-5957ad8c1cc4"
      },
      "execution_count": 172,
      "outputs": [
        {
          "output_type": "stream",
          "name": "stdout",
          "text": [
            "입력 : 애플 vs 갤럭시\n",
            "출력 : 직접 물어보세요 . \n"
          ]
        }
      ]
    },
    {
      "cell_type": "markdown",
      "source": [
        "# 회고\n",
        "- 트랜스포머 구조를 잘 이해했다고 생각했지만 막상 코드를 써보니 너무 길고 복잡했다..\n",
        "- 모델초기에 학습률이 높았다가, 스텝이 커질수록 학습률을 줄여나가는 커스텀 학습률 스케줄링기법을 배웠다\n",
        "- 테스트로 여러 문장을 입력 시켜봤다. 생각하기에따라 대답을 잘 했다고 어거지로 볼 수 있지만, 그래도 문맥에 딱 맞는 대답은 하지 못해보인다.\n",
        " "
      ],
      "metadata": {
        "id": "5lq3LLLl9elN"
      }
    }
  ]
}