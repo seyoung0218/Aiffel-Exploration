{
 "cells": [
  {
   "cell_type": "markdown",
   "id": "1a60773f",
   "metadata": {},
   "source": [
    "# Movielens 영화 추천"
   ]
  },
  {
   "cell_type": "markdown",
   "id": "e2b10ef1",
   "metadata": {},
   "source": [
    "# Step1. Import Library"
   ]
  },
  {
   "cell_type": "code",
   "execution_count": 47,
   "id": "9abbdcf8",
   "metadata": {},
   "outputs": [],
   "source": [
    "import numpy as np\n",
    "import pandas as pd\n",
    "import matplotlib.pyplot as plt\n",
    "import os\n",
    "import tensorflow as tf\n",
    "import scipy\n",
    "import implicit"
   ]
  },
  {
   "cell_type": "markdown",
   "id": "8dc78814",
   "metadata": {},
   "source": [
    "# Step2. Import Data\n",
    "이번에 활용할 데이터셋은 추천시스템의 MNIST라고 부를만한 Movielens입니다. 유저가 영화에 대해 평점을 매긴 데이터가 데이터 크기별로 있습니다.\\\n",
    "별점 데이터는 대표적인 explicit데이터이지만 implicit데이터로 간주하고 테스트해 볼 수 있습니다. 여기서는 별점을 시청횟수로 해석해서 생각하겠습니다."
   ]
  },
  {
   "cell_type": "code",
   "execution_count": 48,
   "id": "e72786c9",
   "metadata": {},
   "outputs": [
    {
     "data": {
      "text/html": [
       "<div>\n",
       "<style scoped>\n",
       "    .dataframe tbody tr th:only-of-type {\n",
       "        vertical-align: middle;\n",
       "    }\n",
       "\n",
       "    .dataframe tbody tr th {\n",
       "        vertical-align: top;\n",
       "    }\n",
       "\n",
       "    .dataframe thead th {\n",
       "        text-align: right;\n",
       "    }\n",
       "</style>\n",
       "<table border=\"1\" class=\"dataframe\">\n",
       "  <thead>\n",
       "    <tr style=\"text-align: right;\">\n",
       "      <th></th>\n",
       "      <th>user_id</th>\n",
       "      <th>movie_id</th>\n",
       "      <th>ratings</th>\n",
       "      <th>timestamp</th>\n",
       "    </tr>\n",
       "  </thead>\n",
       "  <tbody>\n",
       "    <tr>\n",
       "      <th>0</th>\n",
       "      <td>1</td>\n",
       "      <td>1193</td>\n",
       "      <td>5</td>\n",
       "      <td>978300760</td>\n",
       "    </tr>\n",
       "    <tr>\n",
       "      <th>1</th>\n",
       "      <td>1</td>\n",
       "      <td>661</td>\n",
       "      <td>3</td>\n",
       "      <td>978302109</td>\n",
       "    </tr>\n",
       "    <tr>\n",
       "      <th>2</th>\n",
       "      <td>1</td>\n",
       "      <td>914</td>\n",
       "      <td>3</td>\n",
       "      <td>978301968</td>\n",
       "    </tr>\n",
       "    <tr>\n",
       "      <th>3</th>\n",
       "      <td>1</td>\n",
       "      <td>3408</td>\n",
       "      <td>4</td>\n",
       "      <td>978300275</td>\n",
       "    </tr>\n",
       "    <tr>\n",
       "      <th>4</th>\n",
       "      <td>1</td>\n",
       "      <td>2355</td>\n",
       "      <td>5</td>\n",
       "      <td>978824291</td>\n",
       "    </tr>\n",
       "  </tbody>\n",
       "</table>\n",
       "</div>"
      ],
      "text/plain": [
       "   user_id  movie_id  ratings  timestamp\n",
       "0        1      1193        5  978300760\n",
       "1        1       661        3  978302109\n",
       "2        1       914        3  978301968\n",
       "3        1      3408        4  978300275\n",
       "4        1      2355        5  978824291"
      ]
     },
     "execution_count": 48,
     "metadata": {},
     "output_type": "execute_result"
    }
   ],
   "source": [
    "# 별점 데이터를 불러옵니다.\n",
    "import os\n",
    "rating_file_path=os.getenv('HOME') + '/aiffel/recommendata_iu/data/ml-1m/ratings.dat'\n",
    "ratings_cols = ['user_id', 'movie_id', 'ratings', 'timestamp']\n",
    "ratings = pd.read_csv(rating_file_path, sep='::', names=ratings_cols, engine='python', encoding = \"ISO-8859-1\")\n",
    "orginal_data_size = len(ratings)\n",
    "ratings.head()"
   ]
  },
  {
   "cell_type": "code",
   "execution_count": 49,
   "id": "d6c6c02a",
   "metadata": {
    "scrolled": false
   },
   "outputs": [
    {
     "data": {
      "text/html": [
       "<div>\n",
       "<style scoped>\n",
       "    .dataframe tbody tr th:only-of-type {\n",
       "        vertical-align: middle;\n",
       "    }\n",
       "\n",
       "    .dataframe tbody tr th {\n",
       "        vertical-align: top;\n",
       "    }\n",
       "\n",
       "    .dataframe thead th {\n",
       "        text-align: right;\n",
       "    }\n",
       "</style>\n",
       "<table border=\"1\" class=\"dataframe\">\n",
       "  <thead>\n",
       "    <tr style=\"text-align: right;\">\n",
       "      <th></th>\n",
       "      <th>movie_id</th>\n",
       "      <th>title</th>\n",
       "      <th>genre</th>\n",
       "    </tr>\n",
       "  </thead>\n",
       "  <tbody>\n",
       "    <tr>\n",
       "      <th>0</th>\n",
       "      <td>1</td>\n",
       "      <td>Toy Story (1995)</td>\n",
       "      <td>Animation|Children's|Comedy</td>\n",
       "    </tr>\n",
       "    <tr>\n",
       "      <th>1</th>\n",
       "      <td>2</td>\n",
       "      <td>Jumanji (1995)</td>\n",
       "      <td>Adventure|Children's|Fantasy</td>\n",
       "    </tr>\n",
       "    <tr>\n",
       "      <th>2</th>\n",
       "      <td>3</td>\n",
       "      <td>Grumpier Old Men (1995)</td>\n",
       "      <td>Comedy|Romance</td>\n",
       "    </tr>\n",
       "    <tr>\n",
       "      <th>3</th>\n",
       "      <td>4</td>\n",
       "      <td>Waiting to Exhale (1995)</td>\n",
       "      <td>Comedy|Drama</td>\n",
       "    </tr>\n",
       "    <tr>\n",
       "      <th>4</th>\n",
       "      <td>5</td>\n",
       "      <td>Father of the Bride Part II (1995)</td>\n",
       "      <td>Comedy</td>\n",
       "    </tr>\n",
       "  </tbody>\n",
       "</table>\n",
       "</div>"
      ],
      "text/plain": [
       "   movie_id                               title                         genre\n",
       "0         1                    Toy Story (1995)   Animation|Children's|Comedy\n",
       "1         2                      Jumanji (1995)  Adventure|Children's|Fantasy\n",
       "2         3             Grumpier Old Men (1995)                Comedy|Romance\n",
       "3         4            Waiting to Exhale (1995)                  Comedy|Drama\n",
       "4         5  Father of the Bride Part II (1995)                        Comedy"
      ]
     },
     "execution_count": 49,
     "metadata": {},
     "output_type": "execute_result"
    }
   ],
   "source": [
    "# 영화 제목을 보기 위해 메타 데이터를 읽어옵니다.\n",
    "movie_file_path=os.getenv('HOME') + '/aiffel/recommendata_iu/data/ml-1m/movies.dat'\n",
    "cols = ['movie_id', 'title', 'genre'] \n",
    "movies = pd.read_csv(movie_file_path, sep='::', names=cols, engine='python', encoding='ISO-8859-1')\n",
    "movies.head()"
   ]
  },
  {
   "cell_type": "markdown",
   "id": "376f6a83",
   "metadata": {},
   "source": [
    "# Step3. Data Preprocessing\n",
    "유저가 3점 미만으로 준 데이터는 선호하지 않는다고 가정하고 제외하겠습니다."
   ]
  },
  {
   "cell_type": "code",
   "execution_count": 50,
   "id": "adbf6d76",
   "metadata": {},
   "outputs": [
    {
     "name": "stdout",
     "output_type": "stream",
     "text": [
      "orginal_data_size: 1000209, filtered_data_size: 836478\n",
      "Ratio of Remaining Data is 83.63%\n"
     ]
    }
   ],
   "source": [
    "# 3점 이상만 남깁니다.\n",
    "ratings = ratings[ratings['ratings']>=3]\n",
    "filtered_data_size = len(ratings)\n",
    "\n",
    "print(f'orginal_data_size: {orginal_data_size}, filtered_data_size: {filtered_data_size}')\n",
    "print(f'Ratio of Remaining Data is {filtered_data_size / orginal_data_size:.2%}')"
   ]
  },
  {
   "cell_type": "code",
   "execution_count": 51,
   "id": "5a0d9afa",
   "metadata": {
    "scrolled": true
   },
   "outputs": [
    {
     "data": {
      "text/html": [
       "<div>\n",
       "<style scoped>\n",
       "    .dataframe tbody tr th:only-of-type {\n",
       "        vertical-align: middle;\n",
       "    }\n",
       "\n",
       "    .dataframe tbody tr th {\n",
       "        vertical-align: top;\n",
       "    }\n",
       "\n",
       "    .dataframe thead th {\n",
       "        text-align: right;\n",
       "    }\n",
       "</style>\n",
       "<table border=\"1\" class=\"dataframe\">\n",
       "  <thead>\n",
       "    <tr style=\"text-align: right;\">\n",
       "      <th></th>\n",
       "      <th>user_id</th>\n",
       "      <th>movie_id</th>\n",
       "      <th>counts</th>\n",
       "    </tr>\n",
       "  </thead>\n",
       "  <tbody>\n",
       "    <tr>\n",
       "      <th>0</th>\n",
       "      <td>1</td>\n",
       "      <td>1193</td>\n",
       "      <td>5</td>\n",
       "    </tr>\n",
       "    <tr>\n",
       "      <th>1</th>\n",
       "      <td>1</td>\n",
       "      <td>661</td>\n",
       "      <td>3</td>\n",
       "    </tr>\n",
       "    <tr>\n",
       "      <th>2</th>\n",
       "      <td>1</td>\n",
       "      <td>914</td>\n",
       "      <td>3</td>\n",
       "    </tr>\n",
       "    <tr>\n",
       "      <th>3</th>\n",
       "      <td>1</td>\n",
       "      <td>3408</td>\n",
       "      <td>4</td>\n",
       "    </tr>\n",
       "    <tr>\n",
       "      <th>4</th>\n",
       "      <td>1</td>\n",
       "      <td>2355</td>\n",
       "      <td>5</td>\n",
       "    </tr>\n",
       "  </tbody>\n",
       "</table>\n",
       "</div>"
      ],
      "text/plain": [
       "   user_id  movie_id  counts\n",
       "0        1      1193       5\n",
       "1        1       661       3\n",
       "2        1       914       3\n",
       "3        1      3408       4\n",
       "4        1      2355       5"
      ]
     },
     "execution_count": 51,
     "metadata": {},
     "output_type": "execute_result"
    }
   ],
   "source": [
    "# ratings 컬럼의 이름을 counts로 바꿉니다.\n",
    "ratings.rename(columns={'ratings':'counts'}, inplace=True)\n",
    "\n",
    "# timestamp도 필요없으니 제거하겠습니다.\n",
    "ratings = ratings[['user_id','movie_id','counts']]\n",
    "\n",
    "ratings.head()"
   ]
  },
  {
   "cell_type": "markdown",
   "id": "0500c012",
   "metadata": {},
   "source": [
    "검색을 쉽게하기위해 영화제목과 장르를 전부 소문자로 바꿔줍니다."
   ]
  },
  {
   "cell_type": "code",
   "execution_count": 52,
   "id": "7d9d8e3d",
   "metadata": {
    "scrolled": true
   },
   "outputs": [
    {
     "data": {
      "text/html": [
       "<div>\n",
       "<style scoped>\n",
       "    .dataframe tbody tr th:only-of-type {\n",
       "        vertical-align: middle;\n",
       "    }\n",
       "\n",
       "    .dataframe tbody tr th {\n",
       "        vertical-align: top;\n",
       "    }\n",
       "\n",
       "    .dataframe thead th {\n",
       "        text-align: right;\n",
       "    }\n",
       "</style>\n",
       "<table border=\"1\" class=\"dataframe\">\n",
       "  <thead>\n",
       "    <tr style=\"text-align: right;\">\n",
       "      <th></th>\n",
       "      <th>movie_id</th>\n",
       "      <th>title</th>\n",
       "      <th>genre</th>\n",
       "    </tr>\n",
       "  </thead>\n",
       "  <tbody>\n",
       "    <tr>\n",
       "      <th>0</th>\n",
       "      <td>1</td>\n",
       "      <td>toy story (1995)</td>\n",
       "      <td>animation|children's|comedy</td>\n",
       "    </tr>\n",
       "    <tr>\n",
       "      <th>1</th>\n",
       "      <td>2</td>\n",
       "      <td>jumanji (1995)</td>\n",
       "      <td>adventure|children's|fantasy</td>\n",
       "    </tr>\n",
       "    <tr>\n",
       "      <th>2</th>\n",
       "      <td>3</td>\n",
       "      <td>grumpier old men (1995)</td>\n",
       "      <td>comedy|romance</td>\n",
       "    </tr>\n",
       "    <tr>\n",
       "      <th>3</th>\n",
       "      <td>4</td>\n",
       "      <td>waiting to exhale (1995)</td>\n",
       "      <td>comedy|drama</td>\n",
       "    </tr>\n",
       "    <tr>\n",
       "      <th>4</th>\n",
       "      <td>5</td>\n",
       "      <td>father of the bride part ii (1995)</td>\n",
       "      <td>comedy</td>\n",
       "    </tr>\n",
       "  </tbody>\n",
       "</table>\n",
       "</div>"
      ],
      "text/plain": [
       "   movie_id                               title                         genre\n",
       "0         1                    toy story (1995)   animation|children's|comedy\n",
       "1         2                      jumanji (1995)  adventure|children's|fantasy\n",
       "2         3             grumpier old men (1995)                comedy|romance\n",
       "3         4            waiting to exhale (1995)                  comedy|drama\n",
       "4         5  father of the bride part ii (1995)                        comedy"
      ]
     },
     "execution_count": 52,
     "metadata": {},
     "output_type": "execute_result"
    }
   ],
   "source": [
    "movies['title'] = movies['title'].str.lower()\n",
    "movies['genre'] = movies['genre'].str.lower()\n",
    "movies.head()"
   ]
  },
  {
   "cell_type": "markdown",
   "id": "cd9c06d9",
   "metadata": {},
   "source": [
    "결측치나 중복치가 있는지 확인해줍니다."
   ]
  },
  {
   "cell_type": "code",
   "execution_count": 53,
   "id": "fafc9fca",
   "metadata": {
    "scrolled": false
   },
   "outputs": [
    {
     "name": "stdout",
     "output_type": "stream",
     "text": [
      "ratings 결측치 수: user_id     0\n",
      "movie_id    0\n",
      "counts      0\n",
      "dtype: int64\n",
      "movies 결측치 수: movie_id    0\n",
      "title       0\n",
      "genre       0\n",
      "dtype: int64\n"
     ]
    }
   ],
   "source": [
    "print('ratings 결측치 수:',ratings.isnull().sum())\n",
    "print('movies 결측치 수:', movies.isnull().sum())"
   ]
  },
  {
   "cell_type": "code",
   "execution_count": 54,
   "id": "caa8d793",
   "metadata": {
    "scrolled": true
   },
   "outputs": [
    {
     "name": "stdout",
     "output_type": "stream",
     "text": [
      "movies의 중복치 수 : 0\n"
     ]
    }
   ],
   "source": [
    "# 장르는 중복일 수 있어도 영화 이름이 중복이면 안됩니다. \n",
    "print('movies의 중복치 수 :',movies['title'].duplicated().sum())"
   ]
  },
  {
   "cell_type": "markdown",
   "id": "d49b660a",
   "metadata": {},
   "source": [
    "# Step4. Exploratory Data Analysis (EDA)"
   ]
  },
  {
   "cell_type": "code",
   "execution_count": 55,
   "id": "7f8dde1e",
   "metadata": {},
   "outputs": [
    {
     "name": "stdout",
     "output_type": "stream",
     "text": [
      "유저수 : 6039\n",
      "영화수 : 3883\n"
     ]
    }
   ],
   "source": [
    "print('유저수 :', ratings['user_id'].nunique())\n",
    "print('영화수 :', movies['title'].nunique())"
   ]
  },
  {
   "cell_type": "markdown",
   "id": "dacd0f46",
   "metadata": {},
   "source": [
    "인기순으로 영화목록 30개를 출력해보겠습니다."
   ]
  },
  {
   "cell_type": "code",
   "execution_count": 56,
   "id": "4fe2a539",
   "metadata": {},
   "outputs": [
    {
     "data": {
      "text/plain": [
       "2858                               brief encounter (1946)\n",
       "260                              ladybird ladybird (1994)\n",
       "1196                                         alien (1979)\n",
       "1210                                   raging bull (1980)\n",
       "2028               something wicked this way comes (1983)\n",
       "589                      silence of the lambs, the (1991)\n",
       "593                                   pretty woman (1990)\n",
       "1198                 big blue, the (le grand bleu) (1988)\n",
       "1270                        some kind of wonderful (1987)\n",
       "2571                                      superman (1978)\n",
       "480                                         lassie (1994)\n",
       "2762                            dog of flanders, a (1999)\n",
       "608                                pallbearer, the (1996)\n",
       "110                            rumble in the bronx (1995)\n",
       "1580                                    wishmaster (1997)\n",
       "527                             secret garden, the (1993)\n",
       "1197                              army of darkness (1993)\n",
       "2396                                 deadly friend (1986)\n",
       "1617                                       stripes (1981)\n",
       "318     strawberry and chocolate (fresa y chocolate) (...\n",
       "858                                    kansas city (1996)\n",
       "1265                                      heathers (1989)\n",
       "1097                                associate, the (1996)\n",
       "2997                             tora! tora! tora! (1970)\n",
       "2716                               tales of terror (1962)\n",
       "296                                         priest (1994)\n",
       "356                                 i love trouble (1994)\n",
       "1240                                             m (1931)\n",
       "1                                          jumanji (1995)\n",
       "457                                        go fish (1994)\n",
       "Name: title, dtype: object"
      ]
     },
     "execution_count": 56,
     "metadata": {},
     "output_type": "execute_result"
    }
   ],
   "source": [
    "# 영화id별 유저id수를 movie_count변수에 넣습니다.\n",
    "movie_count = ratings.groupby('movie_id')['user_id'].count()\n",
    "\n",
    "# 내림차순으로 30개를 나열하고 해당 영와id를 넘파이 배열형태로 mv_id_30변수에 저장합니다.\n",
    "mv_id_30 = movie_count.sort_values(ascending=False)[:30].index.values\n",
    "\n",
    "# loc를 이용해서 id에 해당하는 영화 이름을 출력합니다.\n",
    "movies.loc[mv_id_30,'title']"
   ]
  },
  {
   "cell_type": "markdown",
   "id": "67154a17",
   "metadata": {},
   "source": [
    "우리는 본인의 영화취향과 가장 유사한 또다른 영화를 추천받고 싶습니다. 넷플릭스 등 추천 시스템들은 이를 위해서 처음 가입하는 사용자의 취향인 영화정보를 5개 이상 입력받는 과정을 거치게 하는 경우가 많습니다.\\\n",
    "이와 동일한 과정을 위해 위 데이터셋에 제가 좋아하는 영화5개를 추가하겠습니다. "
   ]
  },
  {
   "cell_type": "code",
   "execution_count": 57,
   "id": "226807d5",
   "metadata": {},
   "outputs": [
    {
     "data": {
      "text/html": [
       "<div>\n",
       "<style scoped>\n",
       "    .dataframe tbody tr th:only-of-type {\n",
       "        vertical-align: middle;\n",
       "    }\n",
       "\n",
       "    .dataframe tbody tr th {\n",
       "        vertical-align: top;\n",
       "    }\n",
       "\n",
       "    .dataframe thead th {\n",
       "        text-align: right;\n",
       "    }\n",
       "</style>\n",
       "<table border=\"1\" class=\"dataframe\">\n",
       "  <thead>\n",
       "    <tr style=\"text-align: right;\">\n",
       "      <th></th>\n",
       "      <th>user_id</th>\n",
       "      <th>movie_id</th>\n",
       "      <th>counts</th>\n",
       "    </tr>\n",
       "  </thead>\n",
       "  <tbody>\n",
       "    <tr>\n",
       "      <th>1000203</th>\n",
       "      <td>6040</td>\n",
       "      <td>1090</td>\n",
       "      <td>3</td>\n",
       "    </tr>\n",
       "    <tr>\n",
       "      <th>1000205</th>\n",
       "      <td>6040</td>\n",
       "      <td>1094</td>\n",
       "      <td>5</td>\n",
       "    </tr>\n",
       "    <tr>\n",
       "      <th>1000206</th>\n",
       "      <td>6040</td>\n",
       "      <td>562</td>\n",
       "      <td>5</td>\n",
       "    </tr>\n",
       "    <tr>\n",
       "      <th>1000207</th>\n",
       "      <td>6040</td>\n",
       "      <td>1096</td>\n",
       "      <td>4</td>\n",
       "    </tr>\n",
       "    <tr>\n",
       "      <th>1000208</th>\n",
       "      <td>6040</td>\n",
       "      <td>1097</td>\n",
       "      <td>4</td>\n",
       "    </tr>\n",
       "    <tr>\n",
       "      <th>0</th>\n",
       "      <td>9999</td>\n",
       "      <td>1196</td>\n",
       "      <td>5</td>\n",
       "    </tr>\n",
       "    <tr>\n",
       "      <th>1</th>\n",
       "      <td>9999</td>\n",
       "      <td>1</td>\n",
       "      <td>5</td>\n",
       "    </tr>\n",
       "    <tr>\n",
       "      <th>2</th>\n",
       "      <td>9999</td>\n",
       "      <td>2571</td>\n",
       "      <td>5</td>\n",
       "    </tr>\n",
       "    <tr>\n",
       "      <th>3</th>\n",
       "      <td>9999</td>\n",
       "      <td>1265</td>\n",
       "      <td>5</td>\n",
       "    </tr>\n",
       "    <tr>\n",
       "      <th>4</th>\n",
       "      <td>9999</td>\n",
       "      <td>296</td>\n",
       "      <td>5</td>\n",
       "    </tr>\n",
       "  </tbody>\n",
       "</table>\n",
       "</div>"
      ],
      "text/plain": [
       "         user_id  movie_id  counts\n",
       "1000203     6040      1090       3\n",
       "1000205     6040      1094       5\n",
       "1000206     6040       562       5\n",
       "1000207     6040      1096       4\n",
       "1000208     6040      1097       4\n",
       "0           9999      1196       5\n",
       "1           9999         1       5\n",
       "2           9999      2571       5\n",
       "3           9999      1265       5\n",
       "4           9999       296       5"
      ]
     },
     "execution_count": 57,
     "metadata": {},
     "output_type": "execute_result"
    }
   ],
   "source": [
    "# alien, toy story, superman, heathers, priest\n",
    "my_favorite = [1196, 1, 2571, 1265, 296]\n",
    "\n",
    "# 제 자신의 id를 9999로 설정하고, 각 영화에 대한 별점은 5점을 주겠습니다.\n",
    "my_list = pd.DataFrame({'user_id': [9999]*5, 'movie_id': my_favorite, 'counts': [5]*5})\n",
    "ratings = ratings.append(my_list)\n",
    "ratings.tail(10)"
   ]
  },
  {
   "cell_type": "markdown",
   "id": "ac435d33",
   "metadata": {},
   "source": [
    "## 모델에 활용하기 위한 전처리\n",
    "사람이 태어나면 주민등록번호가, 학교에 가면 출석번호가 있듯이 데이터의 관리를 쉽게 하기 위해 번호를 붙여주고 싶습니다. 우리가 다루는 데이터에서는 user와 movie 각각에 번호를 붙이고 싶습니다. 보통 이런 작업을 indexing이라고 합니다."
   ]
  },
  {
   "cell_type": "code",
   "execution_count": 58,
   "id": "d2e728c8",
   "metadata": {},
   "outputs": [],
   "source": [
    "user_unique = ratings['user_id'].unique()\n",
    "movie_unique = ratings['movie_id'].unique()\n",
    "\n",
    "user_to_idx = {v:k for k,v in enumerate(user_unique)}\n",
    "movie_to_idx = {v:k for k,v in enumerate(movie_unique)}"
   ]
  },
  {
   "cell_type": "code",
   "execution_count": 59,
   "id": "3b9d099e",
   "metadata": {},
   "outputs": [
    {
     "name": "stdout",
     "output_type": "stream",
     "text": [
      "user_id column indexing OK!!\n",
      "movie_id column indexing OK!!\n"
     ]
    },
    {
     "data": {
      "text/html": [
       "<div>\n",
       "<style scoped>\n",
       "    .dataframe tbody tr th:only-of-type {\n",
       "        vertical-align: middle;\n",
       "    }\n",
       "\n",
       "    .dataframe tbody tr th {\n",
       "        vertical-align: top;\n",
       "    }\n",
       "\n",
       "    .dataframe thead th {\n",
       "        text-align: right;\n",
       "    }\n",
       "</style>\n",
       "<table border=\"1\" class=\"dataframe\">\n",
       "  <thead>\n",
       "    <tr style=\"text-align: right;\">\n",
       "      <th></th>\n",
       "      <th>user_id</th>\n",
       "      <th>movie_id</th>\n",
       "      <th>counts</th>\n",
       "    </tr>\n",
       "  </thead>\n",
       "  <tbody>\n",
       "    <tr>\n",
       "      <th>0</th>\n",
       "      <td>0</td>\n",
       "      <td>0</td>\n",
       "      <td>5</td>\n",
       "    </tr>\n",
       "    <tr>\n",
       "      <th>1</th>\n",
       "      <td>0</td>\n",
       "      <td>1</td>\n",
       "      <td>3</td>\n",
       "    </tr>\n",
       "    <tr>\n",
       "      <th>2</th>\n",
       "      <td>0</td>\n",
       "      <td>2</td>\n",
       "      <td>3</td>\n",
       "    </tr>\n",
       "    <tr>\n",
       "      <th>3</th>\n",
       "      <td>0</td>\n",
       "      <td>3</td>\n",
       "      <td>4</td>\n",
       "    </tr>\n",
       "    <tr>\n",
       "      <th>4</th>\n",
       "      <td>0</td>\n",
       "      <td>4</td>\n",
       "      <td>5</td>\n",
       "    </tr>\n",
       "    <tr>\n",
       "      <th>...</th>\n",
       "      <td>...</td>\n",
       "      <td>...</td>\n",
       "      <td>...</td>\n",
       "    </tr>\n",
       "    <tr>\n",
       "      <th>0</th>\n",
       "      <td>6039</td>\n",
       "      <td>117</td>\n",
       "      <td>5</td>\n",
       "    </tr>\n",
       "    <tr>\n",
       "      <th>1</th>\n",
       "      <td>6039</td>\n",
       "      <td>40</td>\n",
       "      <td>5</td>\n",
       "    </tr>\n",
       "    <tr>\n",
       "      <th>2</th>\n",
       "      <td>6039</td>\n",
       "      <td>124</td>\n",
       "      <td>5</td>\n",
       "    </tr>\n",
       "    <tr>\n",
       "      <th>3</th>\n",
       "      <td>6039</td>\n",
       "      <td>110</td>\n",
       "      <td>5</td>\n",
       "    </tr>\n",
       "    <tr>\n",
       "      <th>4</th>\n",
       "      <td>6039</td>\n",
       "      <td>222</td>\n",
       "      <td>5</td>\n",
       "    </tr>\n",
       "  </tbody>\n",
       "</table>\n",
       "<p>836483 rows × 3 columns</p>\n",
       "</div>"
      ],
      "text/plain": [
       "    user_id  movie_id  counts\n",
       "0         0         0       5\n",
       "1         0         1       3\n",
       "2         0         2       3\n",
       "3         0         3       4\n",
       "4         0         4       5\n",
       "..      ...       ...     ...\n",
       "0      6039       117       5\n",
       "1      6039        40       5\n",
       "2      6039       124       5\n",
       "3      6039       110       5\n",
       "4      6039       222       5\n",
       "\n",
       "[836483 rows x 3 columns]"
      ]
     },
     "execution_count": 59,
     "metadata": {},
     "output_type": "execute_result"
    }
   ],
   "source": [
    "# indexing을 통해 데이터 컬럼 내 값을 바꾸는 코드\n",
    "# user_to_idx.get을 통해 user_id 컬럼의 모든 값을 인덱싱한 Series를 구해 봅시다. \n",
    "# 혹시 정상적으로 인덱싱되지 않은 row가 있다면 인덱스가 NaN이 될 테니 dropna()로 제거합니다. \n",
    "temp_user_data = ratings['user_id'].map(user_to_idx.get).dropna()\n",
    "if len(temp_user_data) == len(ratings):   # 모든 row가 정상적으로 인덱싱되었다면\n",
    "    print('user_id column indexing OK!!')\n",
    "    ratings['user_id'] = temp_user_data   # data['user_id']을 인덱싱된 Series로 교체해 줍니다. \n",
    "else:\n",
    "    print('user_id column indexing Fail!!')\n",
    "\n",
    "# movie_to_idx을 통해 movie_id 컬럼도 동일한 방식으로 인덱싱해 줍니다. \n",
    "temp_movie_data = ratings['movie_id'].map(movie_to_idx.get).dropna()\n",
    "if len(temp_movie_data) == len(ratings):\n",
    "    print('movie_id column indexing OK!!')\n",
    "    ratings['movie_id'] = temp_movie_data\n",
    "else:\n",
    "    print('movid_id column indexing Fail!!')\n",
    "\n",
    "ratings"
   ]
  },
  {
   "cell_type": "markdown",
   "id": "36f5b662",
   "metadata": {},
   "source": [
    "# Step5. CSR matrix\n",
    "CSR Matrix는 Sparse한 matrix에서 0이 아닌 유효한 데이터로 채워지는 데이터의 값과 좌표 정보만으로 구성하여 메모리 사용량을 최소화하면서도 Sparse한 matrix와 동일한 행렬을 표현할 수 있도록 하는 데이터 구조입니다.\n",
    "\n",
    "CSR matrix를 직접 만들어 봅시다."
   ]
  },
  {
   "cell_type": "code",
   "execution_count": 60,
   "id": "8c283332",
   "metadata": {},
   "outputs": [
    {
     "data": {
      "text/plain": [
       "<6040x3628 sparse matrix of type '<class 'numpy.int64'>'\n",
       "\twith 836483 stored elements in Compressed Sparse Row format>"
      ]
     },
     "execution_count": 60,
     "metadata": {},
     "output_type": "execute_result"
    }
   ],
   "source": [
    "from scipy.sparse import csr_matrix\n",
    "\n",
    "num_user = ratings['user_id'].nunique()\n",
    "num_movie = ratings['movie_id'].nunique()\n",
    "\n",
    "csr_ratings = csr_matrix((ratings.counts, (ratings.user_id, ratings.movie_id)), shape=(num_user, num_movie))\n",
    "csr_ratings"
   ]
  },
  {
   "cell_type": "markdown",
   "id": "f87a2827",
   "metadata": {},
   "source": [
    "# Step6. Model training \n",
    "MF모델을 implicit패키지를 사용하여 학습해봅시다.\\\n",
    "implicit패키지는 암묵적 데이터셋을 사용하는 다양한 모델을 굉장히 빠르게 학습할 수 있는 패키지입니다.\\\n",
    "이 패키지에 구현된 als(AlternatingLeastSquares)모델을 사용하겠습니다. MF에서 쪼개진 두 feature matrix를 한꺼번에 훈련하는 것은 잘 수렴하지 않기 때문에, 한쪽을 고정시키고 다른쪽을 학습하는 방식을 번갈아 수행하는 ALS방식이 효과적인 것으로 알려져있습니다."
   ]
  },
  {
   "cell_type": "code",
   "execution_count": 61,
   "id": "ce73fe6f",
   "metadata": {},
   "outputs": [],
   "source": [
    "from implicit.als import AlternatingLeastSquares\n",
    "\n",
    "# implicit 라이브러리에서 권장하고 있는 부분입니다.\n",
    "os.environ['OPENBLAS_NUM_THREADS']='1'\n",
    "os.environ['KMP_DUPLICATE_LIB_OK']='True'\n",
    "os.environ['MKL_NUM_THREADS']='1'"
   ]
  },
  {
   "cell_type": "markdown",
   "id": "8686cea7",
   "metadata": {},
   "source": [
    "ALS클래스의 \\__init\\__파라미터를 살펴보겠습니다.\n",
    "- factors : 유저와 아이템의 벡터를 몇차원으로 할 것인지\n",
    "- regularization : 과적합을 방지하기 위해 정규화 값을 얼마나 사용할 것인지\n",
    "- use_gpu : GPU를 사용할 것인지\n",
    "- iterations : epochs와 같은 의미입니다. 데이터를 몇 번 반복해서 학습할 것인지"
   ]
  },
  {
   "cell_type": "code",
   "execution_count": 62,
   "id": "de98a469",
   "metadata": {},
   "outputs": [],
   "source": [
    "als_model = AlternatingLeastSquares(factors=300, regularization=0.01, use_gpu=False, iterations=40, dtype=np.float32)"
   ]
  },
  {
   "cell_type": "code",
   "execution_count": 63,
   "id": "bc73d43e",
   "metadata": {},
   "outputs": [
    {
     "data": {
      "text/plain": [
       "<3628x6040 sparse matrix of type '<class 'numpy.int64'>'\n",
       "\twith 836483 stored elements in Compressed Sparse Column format>"
      ]
     },
     "execution_count": 63,
     "metadata": {},
     "output_type": "execute_result"
    }
   ],
   "source": [
    "# als 모델은 input으로 (item X user 꼴의 matrix를 받기 때문에 Transpose해줍니다.)\n",
    "csr_ratings_transpose = csr_ratings.T\n",
    "csr_ratings_transpose"
   ]
  },
  {
   "cell_type": "code",
   "execution_count": 64,
   "id": "7adb6a9c",
   "metadata": {},
   "outputs": [
    {
     "data": {
      "application/vnd.jupyter.widget-view+json": {
       "model_id": "771208f26cbd4fbca97fd4ca451436ff",
       "version_major": 2,
       "version_minor": 0
      },
      "text/plain": [
       "  0%|          | 0/40 [00:00<?, ?it/s]"
      ]
     },
     "metadata": {},
     "output_type": "display_data"
    }
   ],
   "source": [
    "als_model.fit(csr_ratings_transpose)"
   ]
  },
  {
   "cell_type": "markdown",
   "id": "9db4589d",
   "metadata": {},
   "source": [
    "학습이 끝났습니다. 이제 2가지를 살펴보도록하겠습니다.\n",
    "- Zimin벡터와 black eyed peas의 벡터를 어떻게 만들고 있는지\n",
    "- 두 벡터를 곱하면 어떤 값이 나오는지"
   ]
  },
  {
   "cell_type": "code",
   "execution_count": 65,
   "id": "0184ca7f",
   "metadata": {},
   "outputs": [],
   "source": [
    "me, alien = user_to_idx[9999], movie_to_idx[1196]\n",
    "me_vector, alien_vector = als_model.user_factors[me], als_model.item_factors[alien]"
   ]
  },
  {
   "cell_type": "code",
   "execution_count": 66,
   "id": "6a01ec57",
   "metadata": {},
   "outputs": [
    {
     "data": {
      "text/plain": [
       "array([ 0.30016473,  0.86023206,  0.28243   , -0.13589962, -0.5916186 ,\n",
       "        0.103519  , -0.252378  ,  0.1679542 , -0.06745457, -0.53675854,\n",
       "       -0.08422491, -0.26791048,  0.11594322, -0.4080301 ,  0.06285167,\n",
       "        0.24692184,  0.14361449,  0.13082552,  0.10392639, -0.3475649 ,\n",
       "        0.1496592 ,  0.4874466 , -0.21825401, -0.14976439, -0.17888671,\n",
       "        0.22411948, -0.2630345 , -0.04123054,  0.00807257, -0.84748596,\n",
       "       -0.3389729 , -0.19131483, -0.42047983,  0.3207705 ,  0.6878367 ,\n",
       "        0.0092933 ,  0.6273585 , -0.16142893, -0.06481932,  0.12175745,\n",
       "       -0.10274427, -0.12433131,  0.0264738 , -0.15363047,  0.18653437,\n",
       "        0.22367871,  0.12474412, -0.29000443, -0.1400519 ,  0.05307795,\n",
       "       -0.537913  ,  0.23570421, -0.05009994, -0.09181053, -0.06583971,\n",
       "        0.20212875,  0.42560038,  0.26548463, -0.09983342, -0.25656366,\n",
       "       -0.10327875, -0.4320942 , -0.67171013, -0.0099426 , -0.5236291 ,\n",
       "        0.2701663 ,  0.40647787, -0.2793835 , -0.23221052,  0.2916286 ,\n",
       "        0.23045778,  0.1333419 , -0.02310839, -0.00512122,  0.10399436,\n",
       "        0.19089183, -0.18570602,  0.08079939, -0.38149473, -0.2738055 ,\n",
       "       -0.43987992,  0.02990403, -0.1054407 ,  0.12725101, -0.26978472,\n",
       "       -0.6145237 , -0.25670597, -0.01181253,  0.2403705 , -0.20868883,\n",
       "       -0.047215  ,  0.04961427,  0.02735366, -0.05324332, -0.0581849 ,\n",
       "        0.04176266, -0.08933309,  0.41221023, -0.12085651, -0.1823735 ,\n",
       "        0.04166882, -0.10773431,  0.17335258,  0.11516748,  0.43821168,\n",
       "       -0.04609967, -0.36528495, -0.2637105 , -0.10175759,  0.05918266,\n",
       "       -0.25028887,  0.01613895,  0.11830656, -0.1802734 ,  0.5268408 ,\n",
       "       -0.5950729 , -0.11156906,  0.3241922 ,  0.3272879 , -0.36538485,\n",
       "        0.4889021 ,  0.32876256,  0.35563272,  0.28395158, -0.21623254,\n",
       "        0.11744817, -0.01622306,  0.12419089,  0.24090935, -0.35172814,\n",
       "        0.15053515,  0.30697092, -0.17262709, -0.41004488,  0.26009917,\n",
       "        0.19620211, -0.16600192,  0.6189533 , -0.04632695, -0.14113988,\n",
       "       -0.36505654,  0.5247218 , -0.11717378, -0.04301348, -0.12694716,\n",
       "        0.3101701 , -0.02240252, -0.31470942,  0.36978626,  0.2662514 ,\n",
       "        0.0477681 ,  0.12523891, -0.28811726, -0.24629404,  0.23198819,\n",
       "       -0.36406934,  0.5034837 , -0.30804875, -0.4935742 , -0.42224255,\n",
       "       -0.22387242,  0.46171248,  0.39877006, -0.17502652,  0.22588164,\n",
       "       -0.07967971, -0.04832992, -0.0503663 ,  0.36440358,  0.25573233,\n",
       "        0.43151334, -0.02554015, -0.18484823,  0.2286327 , -0.8025888 ,\n",
       "        0.15472852,  0.3586337 , -0.07107449,  0.47959286,  0.7386083 ,\n",
       "       -0.30954978,  0.03996633,  0.40599787, -0.10229746,  0.07042813,\n",
       "        0.08706132, -0.44201812, -0.28868085, -0.25300488, -0.5120319 ,\n",
       "       -0.07966401,  0.41465548,  0.35463816, -0.56648207,  0.18657689,\n",
       "        0.25753775,  0.02132486,  0.2292669 , -0.41157117, -0.18520871,\n",
       "        0.11905778,  0.04501273, -0.7212532 ,  0.2884451 , -0.17623863,\n",
       "        0.41597432, -0.01728107, -0.18845783, -0.37581408, -0.42790434,\n",
       "       -0.13811827, -0.1542821 ,  0.03421366,  0.06283528, -0.46126658,\n",
       "        0.5530261 ,  0.37732315, -0.0436465 ,  0.06546381, -0.07585487,\n",
       "       -0.19731349,  0.11698155,  0.61001533, -0.27878633,  0.21279708,\n",
       "        0.26333025, -0.01892555, -0.09339495, -0.14788604,  0.49072123,\n",
       "        0.3899346 ,  0.01008589, -0.19047968,  0.3313302 , -0.01558362,\n",
       "       -0.01772087,  0.00980849, -0.04597345, -0.70518947,  0.27128357,\n",
       "        0.00097296, -0.07158393,  0.15308176, -0.42885008, -0.3105481 ,\n",
       "        0.46399617, -0.45286292,  0.02682762,  0.16139336,  0.21250455,\n",
       "        0.1207995 , -0.20266603, -0.28033772, -0.02135338, -0.20824876,\n",
       "        0.2612971 ,  0.00823595, -0.11032562,  0.37136108, -0.2072666 ,\n",
       "        0.33865505, -0.35196403,  0.05155083,  0.08426029,  0.10577334,\n",
       "        0.4249014 , -0.21202187,  0.06402775,  0.37931523, -0.3944118 ,\n",
       "        0.1211995 ,  0.3898956 , -0.3423214 , -0.22155611,  0.21650101,\n",
       "        0.4480319 , -0.2066321 ,  0.1903966 , -0.03520164,  0.4261162 ,\n",
       "       -0.7065044 , -0.16982068, -0.20350638, -0.08649366, -0.01990848,\n",
       "       -0.12240406, -0.08018052,  0.06774445, -0.07820112, -0.22217348,\n",
       "        0.09897143,  0.22748126,  0.17989294,  0.14531651, -0.30474958,\n",
       "        0.43718556,  0.02748195,  0.24686244, -0.04680641,  0.60502994],\n",
       "      dtype=float32)"
      ]
     },
     "execution_count": 66,
     "metadata": {},
     "output_type": "execute_result"
    }
   ],
   "source": [
    "me_vector"
   ]
  },
  {
   "cell_type": "code",
   "execution_count": 67,
   "id": "1f034e0e",
   "metadata": {},
   "outputs": [
    {
     "data": {
      "text/plain": [
       "array([-0.00758583,  0.05695585,  0.0063816 , -0.03024415,  0.00701888,\n",
       "        0.0225992 , -0.01648337,  0.03518625,  0.00804768, -0.0329825 ,\n",
       "        0.00858269, -0.01891775, -0.00674972, -0.0064504 ,  0.0343454 ,\n",
       "        0.04292023,  0.02080316,  0.01032652,  0.01341076,  0.02389689,\n",
       "        0.01652422,  0.01854838,  0.02227536,  0.02455162,  0.00255307,\n",
       "       -0.00799834,  0.00679038, -0.0106111 ,  0.0226893 , -0.03542295,\n",
       "       -0.03083599, -0.02127305, -0.01611517,  0.02279817,  0.00267603,\n",
       "        0.04125925,  0.02670424,  0.0225335 , -0.01867661,  0.01466633,\n",
       "        0.02608223, -0.01443455, -0.00643171, -0.01170246,  0.00624209,\n",
       "        0.01591256, -0.00150732,  0.02217448,  0.01416037,  0.01318167,\n",
       "       -0.02777864,  0.03743947, -0.0085997 ,  0.02588191, -0.00610117,\n",
       "        0.00313236,  0.02804427,  0.02505186,  0.02460274,  0.02151442,\n",
       "       -0.00131431, -0.00947249, -0.01305727,  0.00916569, -0.03280994,\n",
       "        0.02386141,  0.02039376, -0.00231506, -0.00856794,  0.01733853,\n",
       "        0.00037647, -0.0128555 ,  0.0100516 ,  0.04821936,  0.01428647,\n",
       "        0.02134922,  0.01789298, -0.00693576,  0.02815225, -0.00677497,\n",
       "       -0.00707642, -0.00706318,  0.04065903,  0.00323416, -0.04255569,\n",
       "       -0.00800577, -0.02050952,  0.02173737,  0.0385557 , -0.02140515,\n",
       "        0.00047841, -0.0041029 ,  0.00453459,  0.00234628,  0.0148811 ,\n",
       "        0.02746389,  0.00319233,  0.0460521 , -0.00019735, -0.00533024,\n",
       "       -0.03320839,  0.00208309, -0.01746841, -0.00672094,  0.01068506,\n",
       "       -0.0050213 ,  0.01585127,  0.01240312,  0.0041601 ,  0.01167216,\n",
       "       -0.04565833,  0.00100869, -0.00885722, -0.00577472,  0.01270361,\n",
       "       -0.01263499, -0.02928566,  0.00197654,  0.02550947,  0.03875986,\n",
       "        0.00892891,  0.04018384,  0.02652847,  0.02267624,  0.01051978,\n",
       "        0.00977738,  0.0117494 ,  0.00431618, -0.01041459,  0.00537851,\n",
       "       -0.03544744,  0.00386116, -0.00622996, -0.00334147,  0.00870772,\n",
       "        0.04690851, -0.00909714,  0.05962216, -0.00679599, -0.00547532,\n",
       "        0.0125217 ,  0.04195872, -0.00981666,  0.01335052, -0.00753032,\n",
       "       -0.01569778,  0.03236606, -0.01306556,  0.01001659, -0.00176742,\n",
       "        0.00103507,  0.03957692, -0.01924574, -0.01685922,  0.01406141,\n",
       "        0.01536771,  0.03012857, -0.00904942,  0.01111551, -0.00844675,\n",
       "       -0.00199299, -0.00092629,  0.01499338, -0.0209216 ,  0.01813249,\n",
       "        0.02074372, -0.00253344,  0.01517066,  0.00230305, -0.00509084,\n",
       "        0.02792918, -0.00262317,  0.01290278,  0.01488614, -0.02359257,\n",
       "       -0.01228366,  0.03209911,  0.01807707, -0.00439316,  0.04541782,\n",
       "       -0.02681772,  0.01831607,  0.01380604, -0.02794606, -0.01651151,\n",
       "       -0.01487614, -0.02117623, -0.02795852, -0.02953384,  0.00424327,\n",
       "        0.02865211,  0.02141372,  0.02206686, -0.02187468, -0.00963274,\n",
       "       -0.00546416, -0.00895437,  0.0315133 ,  0.02599256, -0.04865233,\n",
       "       -0.02518686,  0.00246143, -0.00936474, -0.02802376, -0.00273234,\n",
       "        0.02808047, -0.01255015, -0.01858751, -0.01065042, -0.01406775,\n",
       "        0.00959777, -0.00290644,  0.02352327,  0.00622591, -0.00227014,\n",
       "        0.02320531, -0.0074923 ,  0.00202992, -0.00163565,  0.01054328,\n",
       "       -0.01130785,  0.01658387,  0.01957292, -0.01370486,  0.01274318,\n",
       "       -0.00274052,  0.0509475 , -0.01534078,  0.01466115,  0.00592321,\n",
       "        0.00325734,  0.00306551, -0.00869181,  0.00764348,  0.00650724,\n",
       "        0.0126178 ,  0.01261731,  0.00559062, -0.03533989,  0.0201644 ,\n",
       "       -0.00411276,  0.02676343,  0.00450914, -0.00950566, -0.02400134,\n",
       "        0.02381324, -0.00236147,  0.00495839, -0.00081029, -0.0019405 ,\n",
       "        0.02485847, -0.00625195,  0.00015722,  0.01892863,  0.00695689,\n",
       "        0.00650659,  0.01729436, -0.00857061,  0.04532643,  0.0268522 ,\n",
       "       -0.00913781, -0.00912509,  0.01022988,  0.03322332, -0.02094377,\n",
       "        0.01054698, -0.00401755,  0.01280082,  0.02206269,  0.02153911,\n",
       "       -0.0097721 ,  0.03001959, -0.01000644,  0.00836457,  0.03413142,\n",
       "       -0.006255  ,  0.01983735, -0.01187142, -0.01894847,  0.03153432,\n",
       "       -0.01665905,  0.02011993,  0.02928052, -0.00540019, -0.01771775,\n",
       "       -0.00298062,  0.01028883, -0.01200277,  0.01726352, -0.00825891,\n",
       "        0.0022155 ,  0.02750321,  0.01751784,  0.04674868, -0.0411545 ,\n",
       "        0.01798505, -0.01890711,  0.03774666, -0.00130343,  0.02402307],\n",
       "      dtype=float32)"
      ]
     },
     "execution_count": 67,
     "metadata": {},
     "output_type": "execute_result"
    }
   ],
   "source": [
    "alien_vector"
   ]
  },
  {
   "cell_type": "code",
   "execution_count": 68,
   "id": "8df78912",
   "metadata": {},
   "outputs": [
    {
     "data": {
      "text/plain": [
       "0.8131687"
      ]
     },
     "execution_count": 68,
     "metadata": {},
     "output_type": "execute_result"
    }
   ],
   "source": [
    "# me와 alien을 내적하는 코드\n",
    "np.dot(me_vector, alien_vector)"
   ]
  },
  {
   "cell_type": "markdown",
   "id": "5c5fddcd",
   "metadata": {},
   "source": [
    "선호도가 꽤 높게 나왔습니다. 잘 훈련된 것 같습니다.\\\n",
    "이렇게 학습된 모델을가지고 toy story에 대한 선호도를 어떻게 예측할지 한 번 보겠습니다.\\\n",
    "참고로 toy story는 이전에 제가 직접 별점5개를 준 영화입니다."
   ]
  },
  {
   "cell_type": "code",
   "execution_count": 69,
   "id": "e632af36",
   "metadata": {},
   "outputs": [
    {
     "data": {
      "text/plain": [
       "0.8558811"
      ]
     },
     "execution_count": 69,
     "metadata": {},
     "output_type": "execute_result"
    }
   ],
   "source": [
    "# movie_to_idx[1]은 toy story를 뜻합니다.\n",
    "toy_story = movie_to_idx[1]\n",
    "toy_vector = als_model.item_factors[toy_story]\n",
    "np.dot(me_vector, toy_vector)"
   ]
  },
  {
   "cell_type": "markdown",
   "id": "e9c226f4",
   "metadata": {},
   "source": [
    "역시나 선호도가 높게나왔네요"
   ]
  },
  {
   "cell_type": "markdown",
   "id": "ea178d8a",
   "metadata": {},
   "source": [
    "# Step7. 내가 좋아하는 영화와 비슷한 영화를 추천받기\n",
    "ALS클래스에 구현되어 있는 similar_items메서드를 통하여 비슷한 영화를 찾습니다. 처음으로는 제가 좋아하는 alien으로 찾아보겠습니다."
   ]
  },
  {
   "cell_type": "code",
   "execution_count": 70,
   "id": "7d12f1ab",
   "metadata": {},
   "outputs": [
    {
     "data": {
      "text/plain": [
       "[(117, 1.0000001),\n",
       " (44, 0.4457005),\n",
       " (64, 0.37535822),\n",
       " (651, 0.2669032),\n",
       " (3487, 0.26422304),\n",
       " (2763, 0.26382694),\n",
       " (2030, 0.26351228),\n",
       " (1993, 0.26215544),\n",
       " (1056, 0.25919038),\n",
       " (3424, 0.25880596),\n",
       " (2038, 0.25811845),\n",
       " (3268, 0.25506988),\n",
       " (3011, 0.25441882),\n",
       " (3493, 0.25355297),\n",
       " (120, 0.25167042)]"
      ]
     },
     "execution_count": 70,
     "metadata": {},
     "output_type": "execute_result"
    }
   ],
   "source": [
    "favorite_movie_idx = 1196 # alien 인덱스\n",
    "movie_id = movie_to_idx[favorite_movie_idx]\n",
    "similar_movie = als_model.similar_items(movie_id, N=15)\n",
    "similar_movie"
   ]
  },
  {
   "cell_type": "markdown",
   "id": "216167f5",
   "metadata": {},
   "source": [
    "(movie의 id, 유사도)Tuple을 반환하고있습니다. 하지만 가장 유사한 영화의 유사도가 0.4정도밖에 안되네요. 그래도 일단 movie의 id를 다시 movie의 title로 매핑 시켜주겠습니다."
   ]
  },
  {
   "cell_type": "code",
   "execution_count": 71,
   "id": "2a95e5f4",
   "metadata": {},
   "outputs": [
    {
     "data": {
      "text/plain": [
       "[1196,\n",
       " 260,\n",
       " 1210,\n",
       " 1200,\n",
       " 3374,\n",
       " 1471,\n",
       " 3282,\n",
       " 885,\n",
       " 771,\n",
       " 212,\n",
       " 84,\n",
       " 1174,\n",
       " 56,\n",
       " 3595,\n",
       " 1198]"
      ]
     },
     "execution_count": 71,
     "metadata": {},
     "output_type": "execute_result"
    }
   ],
   "source": [
    "# movie_to_idx를 뒤집어, index로부터 movie이름을 얻는 dict를 생성합니다.\n",
    "idx_to_movie = {v:k for k,v in movie_to_idx.items()}\n",
    "mv_id = [idx_to_movie[i[0]] for i in similar_movie]\n",
    "mv_id"
   ]
  },
  {
   "cell_type": "code",
   "execution_count": 72,
   "id": "5f34e10f",
   "metadata": {},
   "outputs": [
    {
     "data": {
      "text/plain": [
       "1196                                 alien (1979)\n",
       "260                      ladybird ladybird (1994)\n",
       "1210                           raging bull (1980)\n",
       "1200    killer, the (die xue shuang xiong) (1989)\n",
       "3374                         born american (1986)\n",
       "1471               8 heads in a duffel bag (1997)\n",
       "3282                 two thousand maniacs! (1964)\n",
       "885                for whom the bell tolls (1943)\n",
       "771                        stealing beauty (1996)\n",
       "212         before the rain (pred dozhdot) (1994)\n",
       "84                      angels and insects (1995)\n",
       "1174                madonna: truth or dare (1991)\n",
       "56                   home for the holidays (1995)\n",
       "3595    puppet master 5: the final chapter (1994)\n",
       "1198         big blue, the (le grand bleu) (1988)\n",
       "Name: title, dtype: object"
      ]
     },
     "execution_count": 72,
     "metadata": {},
     "output_type": "execute_result"
    }
   ],
   "source": [
    "movies['title'][mv_id]"
   ]
  },
  {
   "cell_type": "markdown",
   "id": "70dff220",
   "metadata": {},
   "source": [
    "alien과 유사도가 0.4인 영화가 ladybird ladybird..."
   ]
  },
  {
   "cell_type": "markdown",
   "id": "f1698f3c",
   "metadata": {},
   "source": [
    "# Step8.  내가 가장 좋아할 만한 영화들을 추천받기\n",
    "ALS클래스에 구현되어 있는 recommend메서드를 통하여 제가 좋아할 만한 영화를 추천받습니다.\\\n",
    "filter_already_liked_items는 유저가 이미 평가한 아이템은 제외하는 Argument입니다."
   ]
  },
  {
   "cell_type": "code",
   "execution_count": 73,
   "id": "ee599c20",
   "metadata": {},
   "outputs": [
    {
     "data": {
      "text/plain": [
       "[(44, 0.35678098),\n",
       " (64, 0.3207865),\n",
       " (269, 0.21307306),\n",
       " (157, 0.2111229),\n",
       " (92, 0.20462486),\n",
       " (50, 0.19790176),\n",
       " (48, 0.16592391),\n",
       " (289, 0.15750214),\n",
       " (120, 0.15068266),\n",
       " (613, 0.14807896),\n",
       " (431, 0.14635257),\n",
       " (369, 0.14463088),\n",
       " (5, 0.13911499),\n",
       " (22, 0.1366055),\n",
       " (62, 0.13071413),\n",
       " (288, 0.13046026),\n",
       " (233, 0.12835252),\n",
       " (651, 0.12463674),\n",
       " (38, 0.122327514),\n",
       " (476, 0.12049795)]"
      ]
     },
     "execution_count": 73,
     "metadata": {},
     "output_type": "execute_result"
    }
   ],
   "source": [
    "user = user_to_idx[9999]\n",
    "\n",
    "#recommend에서는 user*item CSR Matrix를 받습니다.\n",
    "movie_recommended = als_model.recommend(user, csr_ratings, N=20, filter_already_liked_items=True)\n",
    "movie_recommended"
   ]
  },
  {
   "cell_type": "markdown",
   "id": "6942f556",
   "metadata": {},
   "source": [
    "해당 인덱스들을 영화id로 바꿔봅시다."
   ]
  },
  {
   "cell_type": "code",
   "execution_count": 74,
   "id": "0c867ed5",
   "metadata": {
    "scrolled": true
   },
   "outputs": [
    {
     "data": {
      "text/plain": [
       "[260,\n",
       " 1210,\n",
       " 1213,\n",
       " 318,\n",
       " 589,\n",
       " 3114,\n",
       " 2028,\n",
       " 1089,\n",
       " 1198,\n",
       " 357,\n",
       " 1653,\n",
       " 1674,\n",
       " 1197,\n",
       " 1270,\n",
       " 2916,\n",
       " 1517,\n",
       " 50,\n",
       " 1200,\n",
       " 2762,\n",
       " 1148]"
      ]
     },
     "execution_count": 74,
     "metadata": {},
     "output_type": "execute_result"
    }
   ],
   "source": [
    "[idx_to_movie[i[0]] for i in movie_recommended]"
   ]
  },
  {
   "cell_type": "markdown",
   "id": "ace676a0",
   "metadata": {},
   "source": [
    "ladybird를 추천해주고있습니다. 모델은 왜 ladybird를 추천해줬을까요? als클래스에 구현된 explain메서드를 사용해 제가 기록을 남긴 데이터중 이 추천에 기여한 정도를 확인할 수 있습니다."
   ]
  },
  {
   "cell_type": "code",
   "execution_count": 75,
   "id": "19c5c31b",
   "metadata": {},
   "outputs": [],
   "source": [
    "ladybird = movie_to_idx[1]\n",
    "explain = als_model.explain(user, csr_ratings, itemid=ladybird)"
   ]
  },
  {
   "cell_type": "markdown",
   "id": "73c1cbd3",
   "metadata": {},
   "source": [
    "이 method는 추천한 콘텐츠의 점수에 기여한 다른 콘텐츠와 기여도(합이 콘텐츠의 점수가 됩니다.)를 반환합니다. 어떤 영화들이 이 추천에 얼마나 기여하고 있는걸까요?"
   ]
  },
  {
   "cell_type": "code",
   "execution_count": 76,
   "id": "d5ba7be0",
   "metadata": {},
   "outputs": [
    {
     "data": {
      "text/plain": [
       "[(1, 0.7928939808026867),\n",
       " (2571, 0.03235169660420819),\n",
       " (1265, 0.02484789814219636),\n",
       " (296, 0.0066136355758636065),\n",
       " (1196, -0.008743442240435394)]"
      ]
     },
     "execution_count": 76,
     "metadata": {},
     "output_type": "execute_result"
    }
   ],
   "source": [
    "[(idx_to_movie[i[0]], i[1]) for i in explain[1]]"
   ]
  },
  {
   "cell_type": "markdown",
   "id": "b256dafb",
   "metadata": {},
   "source": [
    "토이스토리의 기여가 0.79로 대부분입니다.(index:1)\n",
    "그런데 결과가 조금 이상합니다. filter_already_liked_items=True로 했는데 이미 평가한 아이템이 나왔습니다. 이것은 implicit 버전 0.4.2에서 생긴 버그라고합니다."
   ]
  },
  {
   "cell_type": "markdown",
   "id": "ccfce9cd",
   "metadata": {},
   "source": [
    "# 회고\n",
    "- 이번 실습에서 추천시스템을 구현했는데 implicit라이브러리의 코랩과 노드의 버전차이로인한 오류가 많이 생겼었다. 그래서 als모델에 csr_ratings를 넣어줄때 트랜스포즈를 취해줘야하는데, 오히려 트랜스포즈를 취해주면 모델의 user_factors와 item_factors이 반대로 값이 나와버려서 트랜스포즈를 지워줬어야했다.\n",
    "- 버전차이때문에 모델의 similar_items도 이상하게나왔었다. 영화의id와 유사도가 한쌍으로 출력이되어야 정상인데, 코랩에서는 id로된 배열과 유사도로이루어진 배열이 따로따로 나왔었다. 그러니 당연히 기존코드도 변경된 배열에따른 수정을 해줘야했다.\n",
    "- 그리고 als의 recommend를 실행해보니 오류가났었다. 여기서 시간을 제일많이 끌었다.. 결국 aiffel주피터노트북으로 해보니 이전에 있던 오류들까지 전부 정상으로 실행되었고 ,다른이 하는거 봤는데 코랩에서 노드와 똑같이 버전을 맞추니 정상적으로 실행되는걸보니 결국 버전땜에 발생한 오류인걸 알아냈다."
   ]
  }
 ],
 "metadata": {
  "kernelspec": {
   "display_name": "Python 3 (ipykernel)",
   "language": "python",
   "name": "python3"
  },
  "language_info": {
   "codemirror_mode": {
    "name": "ipython",
    "version": 3
   },
   "file_extension": ".py",
   "mimetype": "text/x-python",
   "name": "python",
   "nbconvert_exporter": "python",
   "pygments_lexer": "ipython3",
   "version": "3.9.7"
  }
 },
 "nbformat": 4,
 "nbformat_minor": 5
}
