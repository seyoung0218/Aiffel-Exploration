{
  "nbformat": 4,
  "nbformat_minor": 0,
  "metadata": {
    "colab": {
      "name": "Exploration8.ipynb",
      "provenance": [],
      "collapsed_sections": []
    },
    "kernelspec": {
      "name": "python3",
      "display_name": "Python 3"
    },
    "language_info": {
      "name": "python"
    },
    "gpuClass": "standard",
    "accelerator": "GPU"
  },
  "cells": [
    {
      "cell_type": "markdown",
      "source": [
        "# 영화리뷰 텍스트 감성분석하기\n",
        "# Step1. 데이터준비"
      ],
      "metadata": {
        "id": "acXPbReuCtso"
      }
    },
    {
      "cell_type": "code",
      "source": [
        "# Mecab 설치\n",
        "!apt-get update\n",
        "!apt-get install g++ openjdk-8-jdk \n",
        "!pip3 install konlpy JPype1-py3\n",
        "!bash <(curl -s https://raw.githubusercontent.com/konlpy/konlpy/master/scripts/mecab.sh)"
      ],
      "metadata": {
        "id": "goD29HAZcVFY"
      },
      "execution_count": null,
      "outputs": []
    },
    {
      "cell_type": "code",
      "source": [
        "import pandas as pd\n",
        "import urllib.request\n",
        "import matplotlib.pyplot as plt\n",
        "import re\n",
        "from konlpy.tag import Okt\n",
        "from tensorflow import keras\n",
        "from tensorflow.keras.preprocessing.text import Tokenizer\n",
        "import numpy as np\n",
        "from tensorflow.keras.preprocessing.sequence import pad_sequences\n",
        "from collections import Counter\n",
        "import os\n",
        "from konlpy.tag import Mecab\n",
        "import gensim\n",
        "from gensim.models import KeyedVectors\n",
        "from gensim.models import Word2Vec\n",
        "from gensim.models.keyedvectors import Word2VecKeyedVectors\n",
        "from tensorflow.keras.initializers import Constant"
      ],
      "metadata": {
        "id": "5e4M5ZLLg1uk"
      },
      "execution_count": 4,
      "outputs": []
    },
    {
      "cell_type": "code",
      "source": [
        "train_data = pd.read_table('/content/drive/MyDrive/Exploration_Data/ex8/ratings_train.txt')\n",
        "test_data = pd.read_table('/content/drive/MyDrive/Exploration_Data/ex8/ratings_test.txt')\n",
        "\n",
        "train_data.head()"
      ],
      "metadata": {
        "colab": {
          "base_uri": "https://localhost:8080/",
          "height": 206
        },
        "id": "EasvdHFuC06o",
        "outputId": "13cc4fd0-2072-4cf3-c5b9-54e1b34d6f26"
      },
      "execution_count": 5,
      "outputs": [
        {
          "output_type": "execute_result",
          "data": {
            "text/plain": [
              "         id                                           document  label\n",
              "0   9976970                                아 더빙.. 진짜 짜증나네요 목소리      0\n",
              "1   3819312                  흠...포스터보고 초딩영화줄....오버연기조차 가볍지 않구나      1\n",
              "2  10265843                                  너무재밓었다그래서보는것을추천한다      0\n",
              "3   9045019                      교도소 이야기구먼 ..솔직히 재미는 없다..평점 조정      0\n",
              "4   6483659  사이몬페그의 익살스런 연기가 돋보였던 영화!스파이더맨에서 늙어보이기만 했던 커스틴 ...      1"
            ],
            "text/html": [
              "\n",
              "  <div id=\"df-87077b16-5de7-41db-b339-4642bf8d03d0\">\n",
              "    <div class=\"colab-df-container\">\n",
              "      <div>\n",
              "<style scoped>\n",
              "    .dataframe tbody tr th:only-of-type {\n",
              "        vertical-align: middle;\n",
              "    }\n",
              "\n",
              "    .dataframe tbody tr th {\n",
              "        vertical-align: top;\n",
              "    }\n",
              "\n",
              "    .dataframe thead th {\n",
              "        text-align: right;\n",
              "    }\n",
              "</style>\n",
              "<table border=\"1\" class=\"dataframe\">\n",
              "  <thead>\n",
              "    <tr style=\"text-align: right;\">\n",
              "      <th></th>\n",
              "      <th>id</th>\n",
              "      <th>document</th>\n",
              "      <th>label</th>\n",
              "    </tr>\n",
              "  </thead>\n",
              "  <tbody>\n",
              "    <tr>\n",
              "      <th>0</th>\n",
              "      <td>9976970</td>\n",
              "      <td>아 더빙.. 진짜 짜증나네요 목소리</td>\n",
              "      <td>0</td>\n",
              "    </tr>\n",
              "    <tr>\n",
              "      <th>1</th>\n",
              "      <td>3819312</td>\n",
              "      <td>흠...포스터보고 초딩영화줄....오버연기조차 가볍지 않구나</td>\n",
              "      <td>1</td>\n",
              "    </tr>\n",
              "    <tr>\n",
              "      <th>2</th>\n",
              "      <td>10265843</td>\n",
              "      <td>너무재밓었다그래서보는것을추천한다</td>\n",
              "      <td>0</td>\n",
              "    </tr>\n",
              "    <tr>\n",
              "      <th>3</th>\n",
              "      <td>9045019</td>\n",
              "      <td>교도소 이야기구먼 ..솔직히 재미는 없다..평점 조정</td>\n",
              "      <td>0</td>\n",
              "    </tr>\n",
              "    <tr>\n",
              "      <th>4</th>\n",
              "      <td>6483659</td>\n",
              "      <td>사이몬페그의 익살스런 연기가 돋보였던 영화!스파이더맨에서 늙어보이기만 했던 커스틴 ...</td>\n",
              "      <td>1</td>\n",
              "    </tr>\n",
              "  </tbody>\n",
              "</table>\n",
              "</div>\n",
              "      <button class=\"colab-df-convert\" onclick=\"convertToInteractive('df-87077b16-5de7-41db-b339-4642bf8d03d0')\"\n",
              "              title=\"Convert this dataframe to an interactive table.\"\n",
              "              style=\"display:none;\">\n",
              "        \n",
              "  <svg xmlns=\"http://www.w3.org/2000/svg\" height=\"24px\"viewBox=\"0 0 24 24\"\n",
              "       width=\"24px\">\n",
              "    <path d=\"M0 0h24v24H0V0z\" fill=\"none\"/>\n",
              "    <path d=\"M18.56 5.44l.94 2.06.94-2.06 2.06-.94-2.06-.94-.94-2.06-.94 2.06-2.06.94zm-11 1L8.5 8.5l.94-2.06 2.06-.94-2.06-.94L8.5 2.5l-.94 2.06-2.06.94zm10 10l.94 2.06.94-2.06 2.06-.94-2.06-.94-.94-2.06-.94 2.06-2.06.94z\"/><path d=\"M17.41 7.96l-1.37-1.37c-.4-.4-.92-.59-1.43-.59-.52 0-1.04.2-1.43.59L10.3 9.45l-7.72 7.72c-.78.78-.78 2.05 0 2.83L4 21.41c.39.39.9.59 1.41.59.51 0 1.02-.2 1.41-.59l7.78-7.78 2.81-2.81c.8-.78.8-2.07 0-2.86zM5.41 20L4 18.59l7.72-7.72 1.47 1.35L5.41 20z\"/>\n",
              "  </svg>\n",
              "      </button>\n",
              "      \n",
              "  <style>\n",
              "    .colab-df-container {\n",
              "      display:flex;\n",
              "      flex-wrap:wrap;\n",
              "      gap: 12px;\n",
              "    }\n",
              "\n",
              "    .colab-df-convert {\n",
              "      background-color: #E8F0FE;\n",
              "      border: none;\n",
              "      border-radius: 50%;\n",
              "      cursor: pointer;\n",
              "      display: none;\n",
              "      fill: #1967D2;\n",
              "      height: 32px;\n",
              "      padding: 0 0 0 0;\n",
              "      width: 32px;\n",
              "    }\n",
              "\n",
              "    .colab-df-convert:hover {\n",
              "      background-color: #E2EBFA;\n",
              "      box-shadow: 0px 1px 2px rgba(60, 64, 67, 0.3), 0px 1px 3px 1px rgba(60, 64, 67, 0.15);\n",
              "      fill: #174EA6;\n",
              "    }\n",
              "\n",
              "    [theme=dark] .colab-df-convert {\n",
              "      background-color: #3B4455;\n",
              "      fill: #D2E3FC;\n",
              "    }\n",
              "\n",
              "    [theme=dark] .colab-df-convert:hover {\n",
              "      background-color: #434B5C;\n",
              "      box-shadow: 0px 1px 3px 1px rgba(0, 0, 0, 0.15);\n",
              "      filter: drop-shadow(0px 1px 2px rgba(0, 0, 0, 0.3));\n",
              "      fill: #FFFFFF;\n",
              "    }\n",
              "  </style>\n",
              "\n",
              "      <script>\n",
              "        const buttonEl =\n",
              "          document.querySelector('#df-87077b16-5de7-41db-b339-4642bf8d03d0 button.colab-df-convert');\n",
              "        buttonEl.style.display =\n",
              "          google.colab.kernel.accessAllowed ? 'block' : 'none';\n",
              "\n",
              "        async function convertToInteractive(key) {\n",
              "          const element = document.querySelector('#df-87077b16-5de7-41db-b339-4642bf8d03d0');\n",
              "          const dataTable =\n",
              "            await google.colab.kernel.invokeFunction('convertToInteractive',\n",
              "                                                     [key], {});\n",
              "          if (!dataTable) return;\n",
              "\n",
              "          const docLinkHtml = 'Like what you see? Visit the ' +\n",
              "            '<a target=\"_blank\" href=https://colab.research.google.com/notebooks/data_table.ipynb>data table notebook</a>'\n",
              "            + ' to learn more about interactive tables.';\n",
              "          element.innerHTML = '';\n",
              "          dataTable['output_type'] = 'display_data';\n",
              "          await google.colab.output.renderOutput(dataTable, element);\n",
              "          const docLink = document.createElement('div');\n",
              "          docLink.innerHTML = docLinkHtml;\n",
              "          element.appendChild(docLink);\n",
              "        }\n",
              "      </script>\n",
              "    </div>\n",
              "  </div>\n",
              "  "
            ]
          },
          "metadata": {},
          "execution_count": 5
        }
      ]
    },
    {
      "cell_type": "markdown",
      "source": [
        "위에서 불러온 데이터같은경우 전혀 가공되지 않은 텍스트 파일입니다. 따라서 해당 데이터를 가공해주는 함수를 만들어보겠습니다. 해당 함수안에서는 다음과 같은 작업이 수행됩니다.\n",
        "\n",
        "- 데이터 중복 제거\n",
        "- 결측치 제거\n",
        "- 토큰화\n",
        "- 불용어(Stopwords)제거\n",
        "- 사전 구성 (word_to_index)\n",
        "- 텍스트 스트링을 사전 인덱스 스트링으로 변환\n",
        "- X_train, y_train, X_test, y_test, word_to_index 리턴"
      ],
      "metadata": {
        "id": "wVXo52vbOO9L"
      }
    },
    {
      "cell_type": "code",
      "source": [
        "tokenizer = Mecab()\n",
        "stopwords = ['의','가','이','은','들','는','좀','잘','걍','과','도','를','으로','자','에','와','한','하다']\n",
        "\n",
        "def load_data(train_data, test_data, num_words=10000):\n",
        "    # 중복치, 결측치 제거\n",
        "    train_data.drop_duplicates(subset=['document'], inplace=True)\n",
        "    train_data = train_data.dropna(how = 'any') \n",
        "    test_data.drop_duplicates(subset=['document'], inplace=True)\n",
        "    test_data = test_data.dropna(how = 'any') \n",
        "    \n",
        "    # 토큰화, 불용어 제거\n",
        "    X_train = []\n",
        "    for sentence in train_data['document']:\n",
        "        temp_X = tokenizer.morphs(sentence)\n",
        "        temp_X = [word for word in temp_X if not word in stopwords]\n",
        "        X_train.append(temp_X)\n",
        "\n",
        "    X_test = []\n",
        "    for sentence in test_data['document']:\n",
        "        temp_X = tokenizer.morphs(sentence)\n",
        "        temp_X = [word for word in temp_X if not word in stopwords] \n",
        "        X_test.append(temp_X)\n",
        "    \n",
        "    # 사전 구성\n",
        "    words = np.concatenate(X_train).tolist()\n",
        "    counter = Counter(words) # 딕셔너리형태로 각 요소의 개수를 세줌\n",
        "    counter = counter.most_common(10000-4) # 딕셔너리요소를 튜플형태로만들고 리스트에담음\n",
        "    vocab = ['<PAD>', '<BOS>', '<UNK>', '<UNUSED>'] + [key for key, _ in counter] \n",
        "    word_to_index = {word:index for index, word in enumerate(vocab)} \n",
        "\n",
        "    # 텍스트 스트링을 사전 인덱스 스트링으로 변환    \n",
        "    def wordlist_to_indexlist(wordlist):\n",
        "        return [word_to_index[word] if word in word_to_index else word_to_index['<UNK>'] for word in wordlist]\n",
        "        \n",
        "    X_train = list(map(wordlist_to_indexlist, X_train))\n",
        "    X_test = list(map(wordlist_to_indexlist, X_test))\n",
        "    \n",
        "    #X_train, y_train, X_test, y_test, word_to_index 리턴\n",
        "    return X_train, np.array(list(train_data['label'])), X_test, np.array(list(test_data['label'])), word_to_index\n",
        "    \n",
        "X_train, y_train, X_test, y_test, word_to_index = load_data(train_data, test_data)"
      ],
      "metadata": {
        "id": "cVWFNJgcO2Nt"
      },
      "execution_count": 6,
      "outputs": []
    },
    {
      "cell_type": "code",
      "source": [
        "index_to_word = {index:word for word, index in word_to_index.items()}"
      ],
      "metadata": {
        "id": "4m3x7hxnjjKB"
      },
      "execution_count": 7,
      "outputs": []
    },
    {
      "cell_type": "code",
      "source": [
        "# 인코더, 디코더함수 구현\n",
        "\n",
        "def get_encoded_sentence(sentence, word_to_index):\n",
        "    return [word_to_index['<BOS>']]+[word_to_index[word] if word in word_to_index else word_to_index['<UNK>'] for word in sentence.split()]\n",
        " \n",
        "def get_encoded_sentences(sentences, word_to_index):\n",
        "    return [get_encoded_sentence(sentence, word_to_index) for sentence in sentences]\n",
        " \n",
        "def get_decoded_sentence(encoded_sentence, index_to_word):\n",
        "    return ' '.join(index_to_word[index] if index in index_to_word else '<UNK>' for index in encoded_sentence[1:])  #[1:]를 통해 <BOS>를 제외\n",
        " \n",
        "def get_decoded_sentences(encoded_sentences, index_to_word):\n",
        "    return [get_decoded_sentence(encoded_sentence, index_to_word) for encoded_sentence in encoded_sentences]"
      ],
      "metadata": {
        "id": "6ZzoooYdlrW-"
      },
      "execution_count": 8,
      "outputs": []
    },
    {
      "cell_type": "markdown",
      "source": [
        "# Step2. 모델 구성을 위한 데이터분석 및 가공\n",
        "## a. 데이터 셋 내 문장 길이 분포확인"
      ],
      "metadata": {
        "id": "aAwRhaJRnB9C"
      }
    },
    {
      "cell_type": "code",
      "source": [
        "total_data = list(X_train) + list(X_test)\n",
        "\n",
        "num_tokens = [len(tokens) for tokens in total_data]\n",
        "num_tokens = np.array(num_tokens)\n",
        "\n",
        "print('문장길이 평균 : ', np.mean(num_tokens))\n",
        "print('문장길이 최대 : ', np.max(num_tokens))\n",
        "print('문장길이 표준편차 : ', np.std(num_tokens))"
      ],
      "metadata": {
        "colab": {
          "base_uri": "https://localhost:8080/"
        },
        "id": "NJNNzlsnnXkH",
        "outputId": "49385aae-36b2-4297-d351-25784b192876"
      },
      "execution_count": 9,
      "outputs": [
        {
          "output_type": "stream",
          "name": "stdout",
          "text": [
            "문장길이 평균 :  15.969355837799927\n",
            "문장길이 최대 :  116\n",
            "문장길이 표준편차 :  12.843536204665021\n"
          ]
        }
      ]
    },
    {
      "cell_type": "markdown",
      "source": [
        "## b. 적절한 최대 문장 길이 지정\n",
        "최대길이는 평균에다가 표준편차*2를 더한값으로 하겠습니다.(신뢰구간95%)"
      ],
      "metadata": {
        "id": "VrADEpf3np4w"
      }
    },
    {
      "cell_type": "code",
      "source": [
        "max_tokens = np.mean(num_tokens) + 2 * np.std(num_tokens)\n",
        "maxlen = int(max_tokens)\n",
        "print('문장 최대 길이 : ', maxlen)"
      ],
      "metadata": {
        "colab": {
          "base_uri": "https://localhost:8080/"
        },
        "id": "jqB0Legvn80t",
        "outputId": "1951519b-c8e2-47c9-9080-2e73b8150d50"
      },
      "execution_count": 10,
      "outputs": [
        {
          "output_type": "stream",
          "name": "stdout",
          "text": [
            "문장 최대 길이 :  41\n"
          ]
        }
      ]
    },
    {
      "cell_type": "markdown",
      "source": [
        "## c. 패딩 추가\n",
        "성능향상을 위해 패딩은 문장 앞에다가 두겠습니다."
      ],
      "metadata": {
        "id": "xskZ-IePoNNr"
      }
    },
    {
      "cell_type": "code",
      "source": [
        "X_train = keras.preprocessing.sequence.pad_sequences(X_train,\n",
        "                                                        value=word_to_index[\"<PAD>\"],\n",
        "                                                        padding='pre',\n",
        "                                                        maxlen=maxlen)\n",
        "\n",
        "X_test = keras.preprocessing.sequence.pad_sequences(X_test,\n",
        "                                                       value=word_to_index[\"<PAD>\"],\n",
        "                                                       padding='pre',\n",
        "                                                       maxlen=maxlen)"
      ],
      "metadata": {
        "id": "aehh8hmsoVqi"
      },
      "execution_count": 11,
      "outputs": []
    },
    {
      "cell_type": "markdown",
      "source": [
        "# Step3. validation set 구성"
      ],
      "metadata": {
        "id": "maWrJeZjrsAE"
      }
    },
    {
      "cell_type": "code",
      "source": [
        "from sklearn.model_selection import train_test_split\n",
        "\n",
        "partial_X_train, X_val, partial_y_train, y_val = train_test_split(X_train, y_train,\\\n",
        "                                                                  test_size=0.2, random_state=2022)\n",
        "print(partial_X_train.shape)\n",
        "print(X_val.shape)"
      ],
      "metadata": {
        "colab": {
          "base_uri": "https://localhost:8080/"
        },
        "id": "IBwxpMFsr2oD",
        "outputId": "c4a59b23-2aae-4660-a1d5-bca0eaf9c91d"
      },
      "execution_count": 12,
      "outputs": [
        {
          "output_type": "stream",
          "name": "stdout",
          "text": [
            "(116945, 41)\n",
            "(29237, 41)\n"
          ]
        }
      ]
    },
    {
      "cell_type": "markdown",
      "source": [
        "# Step4. 모델 구성"
      ],
      "metadata": {
        "id": "Q727czJcuMHc"
      }
    },
    {
      "cell_type": "code",
      "source": [
        "vocab_size = 10000\n",
        "word_vector_dim = 200\n",
        "\n",
        "# LSTM\n",
        "lstm = keras.Sequential()\n",
        "lstm.add(keras.layers.Embedding(vocab_size, word_vector_dim, input_shape=(None,)))\n",
        "lstm.add(keras.layers.LSTM(8))\n",
        "lstm.add(keras.layers.Dense(8, activation='relu'))\n",
        "lstm.add(keras.layers.Dense(1, activation='sigmoid'))\n",
        "\n",
        "lstm.summary()\n",
        "\n",
        "# 1-D CNN\n",
        "cnn = keras.Sequential()\n",
        "cnn.add(keras.layers.Embedding(vocab_size, word_vector_dim, input_shape=(None,))) \n",
        "cnn.add(keras.layers.Conv1D(16, 7, activation='relu'))\n",
        "cnn.add(keras.layers.MaxPooling1D(5))\n",
        "cnn.add(keras.layers.Conv1D(16, 7, activation='relu'))\n",
        "cnn.add(keras.layers.GlobalMaxPooling1D())\n",
        "cnn.add(keras.layers.Dense(16, activation='relu'))\n",
        "cnn.add(keras.layers.Dense(1, activation='sigmoid'))\n",
        "\n",
        "cnn.summary()\n",
        "\n",
        "# one GlobalAveragePooling layer\n",
        "simple = keras.Sequential()\n",
        "simple.add(keras.layers.Embedding(vocab_size, word_vector_dim, input_shape=(None,)))\n",
        "simple.add(keras.layers.GlobalAveragePooling1D())\n",
        "simple.add(keras.layers.Dense(8, activation='relu'))\n",
        "simple.add(keras.layers.Dense(1, activation='sigmoid'))\n",
        "\n",
        "simple.summary()"
      ],
      "metadata": {
        "colab": {
          "base_uri": "https://localhost:8080/"
        },
        "id": "T_B8G49CuPMA",
        "outputId": "30aff120-95dc-4595-fd46-2ada3d325f91"
      },
      "execution_count": 13,
      "outputs": [
        {
          "output_type": "stream",
          "name": "stdout",
          "text": [
            "Model: \"sequential\"\n",
            "_________________________________________________________________\n",
            " Layer (type)                Output Shape              Param #   \n",
            "=================================================================\n",
            " embedding (Embedding)       (None, None, 200)         2000000   \n",
            "                                                                 \n",
            " lstm (LSTM)                 (None, 8)                 6688      \n",
            "                                                                 \n",
            " dense (Dense)               (None, 8)                 72        \n",
            "                                                                 \n",
            " dense_1 (Dense)             (None, 1)                 9         \n",
            "                                                                 \n",
            "=================================================================\n",
            "Total params: 2,006,769\n",
            "Trainable params: 2,006,769\n",
            "Non-trainable params: 0\n",
            "_________________________________________________________________\n",
            "Model: \"sequential_1\"\n",
            "_________________________________________________________________\n",
            " Layer (type)                Output Shape              Param #   \n",
            "=================================================================\n",
            " embedding_1 (Embedding)     (None, None, 200)         2000000   \n",
            "                                                                 \n",
            " conv1d (Conv1D)             (None, None, 16)          22416     \n",
            "                                                                 \n",
            " max_pooling1d (MaxPooling1D  (None, None, 16)         0         \n",
            " )                                                               \n",
            "                                                                 \n",
            " conv1d_1 (Conv1D)           (None, None, 16)          1808      \n",
            "                                                                 \n",
            " global_max_pooling1d (Globa  (None, 16)               0         \n",
            " lMaxPooling1D)                                                  \n",
            "                                                                 \n",
            " dense_2 (Dense)             (None, 16)                272       \n",
            "                                                                 \n",
            " dense_3 (Dense)             (None, 1)                 17        \n",
            "                                                                 \n",
            "=================================================================\n",
            "Total params: 2,024,513\n",
            "Trainable params: 2,024,513\n",
            "Non-trainable params: 0\n",
            "_________________________________________________________________\n",
            "Model: \"sequential_2\"\n",
            "_________________________________________________________________\n",
            " Layer (type)                Output Shape              Param #   \n",
            "=================================================================\n",
            " embedding_2 (Embedding)     (None, None, 200)         2000000   \n",
            "                                                                 \n",
            " global_average_pooling1d (G  (None, 200)              0         \n",
            " lobalAveragePooling1D)                                          \n",
            "                                                                 \n",
            " dense_4 (Dense)             (None, 8)                 1608      \n",
            "                                                                 \n",
            " dense_5 (Dense)             (None, 1)                 9         \n",
            "                                                                 \n",
            "=================================================================\n",
            "Total params: 2,001,617\n",
            "Trainable params: 2,001,617\n",
            "Non-trainable params: 0\n",
            "_________________________________________________________________\n"
          ]
        }
      ]
    },
    {
      "cell_type": "markdown",
      "source": [
        "# Step5. 모델 훈련"
      ],
      "metadata": {
        "id": "g6zmyAbWu_-C"
      }
    },
    {
      "cell_type": "code",
      "source": [
        "epochs = 15\n",
        "\n",
        "lstm.compile(optimizer='adam',\n",
        "              loss='binary_crossentropy',\n",
        "              metrics=['accuracy'])\n",
        "\n",
        "history_lstm = lstm.fit(partial_X_train,\n",
        "                    partial_y_train,\n",
        "                    epochs=epochs,\n",
        "                    batch_size=512,\n",
        "                    validation_data=(X_val, y_val),\n",
        "                    verbose=1)\n",
        "              \n",
        "\n",
        "cnn.compile(optimizer='adam',\n",
        "              loss='binary_crossentropy',\n",
        "              metrics=['accuracy'])\n",
        "\n",
        "\n",
        "history_cnn = cnn.fit(partial_X_train,\n",
        "                    partial_y_train,\n",
        "                    epochs=epochs,\n",
        "                    batch_size=512,\n",
        "                    validation_data=(X_val, y_val),\n",
        "                    verbose=1)\n",
        "\n",
        "\n",
        "simple.compile(optimizer='adam',\n",
        "              loss='binary_crossentropy',\n",
        "              metrics=['accuracy'])\n",
        "\n",
        "history_simple = simple.fit(partial_X_train,\n",
        "                    partial_y_train,\n",
        "                    epochs=epochs,\n",
        "                    batch_size=512,\n",
        "                    validation_data=(X_val, y_val),\n",
        "                    verbose=1)\n"
      ],
      "metadata": {
        "colab": {
          "base_uri": "https://localhost:8080/"
        },
        "id": "1ng__H-3vDa8",
        "outputId": "3b80ae45-8db2-4c21-f103-3d3b6a23e728"
      },
      "execution_count": null,
      "outputs": [
        {
          "output_type": "stream",
          "name": "stdout",
          "text": [
            "Epoch 1/15\n",
            "229/229 [==============================] - 32s 126ms/step - loss: 0.5206 - accuracy: 0.7695 - val_loss: 0.3816 - val_accuracy: 0.8430\n",
            "Epoch 2/15\n",
            "229/229 [==============================] - 30s 132ms/step - loss: 0.3347 - accuracy: 0.8596 - val_loss: 0.3409 - val_accuracy: 0.8512\n",
            "Epoch 3/15\n",
            "229/229 [==============================] - 29s 128ms/step - loss: 0.2950 - accuracy: 0.8769 - val_loss: 0.3389 - val_accuracy: 0.8531\n",
            "Epoch 4/15\n",
            "229/229 [==============================] - 29s 129ms/step - loss: 0.2683 - accuracy: 0.8888 - val_loss: 0.3424 - val_accuracy: 0.8548\n",
            "Epoch 5/15\n",
            "229/229 [==============================] - 31s 135ms/step - loss: 0.2420 - accuracy: 0.9002 - val_loss: 0.3522 - val_accuracy: 0.8546\n",
            "Epoch 6/15\n",
            "229/229 [==============================] - 28s 123ms/step - loss: 0.2195 - accuracy: 0.9104 - val_loss: 0.3783 - val_accuracy: 0.8535\n",
            "Epoch 7/15\n",
            "229/229 [==============================] - 29s 125ms/step - loss: 0.1986 - accuracy: 0.9193 - val_loss: 0.4034 - val_accuracy: 0.8524\n",
            "Epoch 8/15\n",
            "229/229 [==============================] - 30s 132ms/step - loss: 0.1800 - accuracy: 0.9282 - val_loss: 0.4264 - val_accuracy: 0.8507\n",
            "Epoch 9/15\n",
            "229/229 [==============================] - 29s 125ms/step - loss: 0.1646 - accuracy: 0.9356 - val_loss: 0.4524 - val_accuracy: 0.8484\n",
            "Epoch 10/15\n",
            "229/229 [==============================] - 29s 125ms/step - loss: 0.1486 - accuracy: 0.9423 - val_loss: 0.4944 - val_accuracy: 0.8465\n",
            "Epoch 11/15\n",
            "229/229 [==============================] - 29s 128ms/step - loss: 0.1376 - accuracy: 0.9475 - val_loss: 0.5073 - val_accuracy: 0.8441\n",
            "Epoch 12/15\n",
            "229/229 [==============================] - 29s 126ms/step - loss: 0.1255 - accuracy: 0.9533 - val_loss: 0.5536 - val_accuracy: 0.8444\n",
            "Epoch 13/15\n",
            "229/229 [==============================] - 29s 125ms/step - loss: 0.1144 - accuracy: 0.9579 - val_loss: 0.5793 - val_accuracy: 0.8422\n",
            "Epoch 14/15\n",
            "229/229 [==============================] - 29s 125ms/step - loss: 0.1056 - accuracy: 0.9620 - val_loss: 0.6211 - val_accuracy: 0.8411\n",
            "Epoch 15/15\n",
            "229/229 [==============================] - 30s 132ms/step - loss: 0.0961 - accuracy: 0.9658 - val_loss: 0.6738 - val_accuracy: 0.8397\n",
            "Epoch 1/15\n",
            "229/229 [==============================] - 46s 198ms/step - loss: 0.4455 - accuracy: 0.7870 - val_loss: 0.3434 - val_accuracy: 0.8499\n",
            "Epoch 2/15\n",
            "229/229 [==============================] - 47s 205ms/step - loss: 0.2995 - accuracy: 0.8749 - val_loss: 0.3298 - val_accuracy: 0.8571\n",
            "Epoch 3/15\n",
            "229/229 [==============================] - 45s 198ms/step - loss: 0.2347 - accuracy: 0.9082 - val_loss: 0.3465 - val_accuracy: 0.8529\n",
            "Epoch 4/15\n",
            "229/229 [==============================] - 47s 206ms/step - loss: 0.1636 - accuracy: 0.9411 - val_loss: 0.3940 - val_accuracy: 0.8484\n",
            "Epoch 5/15\n",
            "229/229 [==============================] - 45s 197ms/step - loss: 0.1061 - accuracy: 0.9640 - val_loss: 0.4664 - val_accuracy: 0.8451\n",
            "Epoch 6/15\n",
            "229/229 [==============================] - 47s 207ms/step - loss: 0.0681 - accuracy: 0.9784 - val_loss: 0.5651 - val_accuracy: 0.8372\n",
            "Epoch 7/15\n",
            "229/229 [==============================] - 46s 199ms/step - loss: 0.0461 - accuracy: 0.9859 - val_loss: 0.6325 - val_accuracy: 0.8366\n",
            "Epoch 8/15\n",
            "229/229 [==============================] - 47s 205ms/step - loss: 0.0342 - accuracy: 0.9895 - val_loss: 0.7016 - val_accuracy: 0.8354\n",
            "Epoch 9/15\n",
            "229/229 [==============================] - 45s 199ms/step - loss: 0.0272 - accuracy: 0.9913 - val_loss: 0.7794 - val_accuracy: 0.8309\n",
            "Epoch 10/15\n",
            "229/229 [==============================] - 47s 205ms/step - loss: 0.0231 - accuracy: 0.9924 - val_loss: 0.8386 - val_accuracy: 0.8315\n",
            "Epoch 11/15\n",
            "229/229 [==============================] - 46s 199ms/step - loss: 0.0219 - accuracy: 0.9927 - val_loss: 0.8924 - val_accuracy: 0.8280\n",
            "Epoch 12/15\n",
            "229/229 [==============================] - 47s 206ms/step - loss: 0.0218 - accuracy: 0.9924 - val_loss: 0.9404 - val_accuracy: 0.8267\n",
            "Epoch 13/15\n",
            "229/229 [==============================] - 45s 198ms/step - loss: 0.0305 - accuracy: 0.9888 - val_loss: 0.8834 - val_accuracy: 0.8333\n",
            "Epoch 14/15\n",
            "229/229 [==============================] - 47s 205ms/step - loss: 0.0305 - accuracy: 0.9887 - val_loss: 0.9337 - val_accuracy: 0.8291\n",
            "Epoch 15/15\n",
            "229/229 [==============================] - 45s 197ms/step - loss: 0.0203 - accuracy: 0.9927 - val_loss: 1.0168 - val_accuracy: 0.8244\n",
            "Epoch 1/15\n",
            "229/229 [==============================] - 11s 45ms/step - loss: 0.5334 - accuracy: 0.7652 - val_loss: 0.3957 - val_accuracy: 0.8332\n",
            "Epoch 2/15\n",
            "229/229 [==============================] - 10s 45ms/step - loss: 0.3627 - accuracy: 0.8463 - val_loss: 0.3606 - val_accuracy: 0.8443\n",
            "Epoch 3/15\n",
            "229/229 [==============================] - 10s 44ms/step - loss: 0.3338 - accuracy: 0.8596 - val_loss: 0.3571 - val_accuracy: 0.8455\n",
            "Epoch 4/15\n",
            "229/229 [==============================] - 10s 44ms/step - loss: 0.3216 - accuracy: 0.8641 - val_loss: 0.3557 - val_accuracy: 0.8467\n",
            "Epoch 5/15\n",
            "229/229 [==============================] - 10s 44ms/step - loss: 0.3126 - accuracy: 0.8696 - val_loss: 0.3569 - val_accuracy: 0.8471\n",
            "Epoch 6/15\n",
            "229/229 [==============================] - 10s 44ms/step - loss: 0.3070 - accuracy: 0.8719 - val_loss: 0.3596 - val_accuracy: 0.8459\n",
            "Epoch 7/15\n",
            "229/229 [==============================] - 10s 44ms/step - loss: 0.3035 - accuracy: 0.8738 - val_loss: 0.3620 - val_accuracy: 0.8454\n",
            "Epoch 8/15\n",
            "229/229 [==============================] - 12s 50ms/step - loss: 0.3004 - accuracy: 0.8749 - val_loss: 0.3647 - val_accuracy: 0.8440\n",
            "Epoch 9/15\n",
            "229/229 [==============================] - 10s 45ms/step - loss: 0.2979 - accuracy: 0.8758 - val_loss: 0.3681 - val_accuracy: 0.8430\n",
            "Epoch 10/15\n",
            "229/229 [==============================] - 10s 45ms/step - loss: 0.2960 - accuracy: 0.8771 - val_loss: 0.3679 - val_accuracy: 0.8431\n",
            "Epoch 11/15\n",
            "229/229 [==============================] - 10s 45ms/step - loss: 0.2938 - accuracy: 0.8777 - val_loss: 0.3696 - val_accuracy: 0.8418\n",
            "Epoch 12/15\n",
            "229/229 [==============================] - 10s 45ms/step - loss: 0.2911 - accuracy: 0.8787 - val_loss: 0.3713 - val_accuracy: 0.8414\n",
            "Epoch 13/15\n",
            "229/229 [==============================] - 10s 46ms/step - loss: 0.2895 - accuracy: 0.8793 - val_loss: 0.3740 - val_accuracy: 0.8405\n",
            "Epoch 14/15\n",
            "229/229 [==============================] - 10s 44ms/step - loss: 0.2868 - accuracy: 0.8807 - val_loss: 0.3767 - val_accuracy: 0.8398\n",
            "Epoch 15/15\n",
            "229/229 [==============================] - 10s 44ms/step - loss: 0.2848 - accuracy: 0.8802 - val_loss: 0.3783 - val_accuracy: 0.8412\n"
          ]
        }
      ]
    },
    {
      "cell_type": "markdown",
      "source": [
        "# Step6. 모델 평가"
      ],
      "metadata": {
        "id": "YmuWd-aiC8qJ"
      }
    },
    {
      "cell_type": "code",
      "source": [
        "# LSTM\n",
        "print(\"LSTM\")\n",
        "results_lstm = lstm.evaluate(X_test, y_test, verbose=2)\n",
        "print(results_lstm)\n",
        "\n",
        "\n",
        "# 1-D CNN\n",
        "print(\"1-D CNN\")\n",
        "results_cnn = cnn.evaluate(X_test, y_test, verbose=2)\n",
        "print(results_cnn)\n",
        "\n",
        "\n",
        "# GlobalAveragePooling1D\n",
        "print(\"GlobalAveragePooling1D layer\")\n",
        "results_simple = simple.evaluate(X_test, y_test, verbose=2)\n",
        "print(results_simple)"
      ],
      "metadata": {
        "colab": {
          "base_uri": "https://localhost:8080/"
        },
        "id": "vjA2JffVC_Z5",
        "outputId": "5e9ebb43-ee5d-4f24-f301-9e39e4931eb5"
      },
      "execution_count": null,
      "outputs": [
        {
          "output_type": "stream",
          "name": "stdout",
          "text": [
            "LSTM\n",
            "1537/1537 - 9s - loss: 0.6778 - accuracy: 0.8391 - 9s/epoch - 6ms/step\n",
            "[0.6777659058570862, 0.8391073346138]\n",
            "1-D CNN\n",
            "1537/1537 - 6s - loss: 1.0267 - accuracy: 0.8261 - 6s/epoch - 4ms/step\n",
            "[1.0267387628555298, 0.8260878324508667]\n",
            "GlobalAveragePooling1D layer\n",
            "1537/1537 - 3s - loss: 0.3839 - accuracy: 0.8388 - 3s/epoch - 2ms/step\n",
            "[0.3839113712310791, 0.8388022184371948]\n"
          ]
        }
      ]
    },
    {
      "cell_type": "markdown",
      "source": [
        "# Step7. Loss, Accuracy 그래프 시각화\n",
        "## LSTM"
      ],
      "metadata": {
        "id": "mJfwfZOuDU5s"
      }
    },
    {
      "cell_type": "code",
      "source": [
        "history_dict = history_lstm.history\n",
        "\n",
        "acc = history_dict['accuracy']\n",
        "val_acc = history_dict['val_accuracy']\n",
        "loss = history_dict['loss']\n",
        "val_loss = history_dict['val_loss']\n",
        "\n",
        "epochs = range(1, len(acc) + 1)\n",
        "\n",
        "fig, ax = plt.subplots(1,2, figsize=(20,10))\n",
        "# loss 비교\n",
        "ax[0].plot(epochs, loss, 'bo', label='Training loss')\n",
        "ax[0].plot(epochs, val_loss, 'b', label='Validation loss')\n",
        "ax[0].set_title('Training and validation loss')\n",
        "ax[0].set_xlabel('Epochs')\n",
        "ax[0].set_ylabel('Loss')\n",
        "ax[0].legend()\n",
        "\n",
        "# accuracy 비교\n",
        "ax[1].plot(epochs, acc, 'bo', label='Training acc')\n",
        "ax[1].plot(epochs, val_acc, 'b', label='Validation acc')\n",
        "ax[1].set_title('Training and validation accuracy')\n",
        "ax[1].set_xlabel('Epochs')\n",
        "ax[1].set_ylabel('Accuracy')\n",
        "ax[1].legend()"
      ],
      "metadata": {
        "colab": {
          "base_uri": "https://localhost:8080/",
          "height": 360
        },
        "id": "mTGglkcZDfhH",
        "outputId": "65c1fcbe-bb13-4626-c51c-fce71369e5da"
      },
      "execution_count": null,
      "outputs": [
        {
          "output_type": "execute_result",
          "data": {
            "text/plain": [
              "<matplotlib.legend.Legend at 0x7ff5b8e30f90>"
            ]
          },
          "metadata": {},
          "execution_count": 66
        },
        {
          "output_type": "display_data",
          "data": {
            "text/plain": [
              "<Figure size 1440x720 with 2 Axes>"
            ],
            "image/png": "[encoded data removed]"
          },
          "metadata": {
            "needs_background": "light"
          }
        }
      ]
    },
    {
      "cell_type": "markdown",
      "source": [
        "그래프로 확인한결과 epoch=3에서 validation의 loss가 가장낮았고, accuracy가 가장 높았다.\n",
        "# 1-D CNN"
      ],
      "metadata": {
        "id": "HRCT95DiJwb-"
      }
    },
    {
      "cell_type": "code",
      "source": [
        "history_dict = history_cnn.history\n",
        "\n",
        "acc = history_dict['accuracy']\n",
        "val_acc = history_dict['val_accuracy']\n",
        "loss = history_dict['loss']\n",
        "val_loss = history_dict['val_loss']\n",
        "\n",
        "epochs = range(1, len(acc) + 1)\n",
        "\n",
        "fig, ax = plt.subplots(1,2, figsize=(20,10))\n",
        "# loss 비교\n",
        "ax[0].plot(epochs, loss, 'bo', label='Training loss')\n",
        "ax[0].plot(epochs, val_loss, 'b', label='Validation loss')\n",
        "ax[0].set_title('Training and validation loss')\n",
        "ax[0].set_xlabel('Epochs')\n",
        "ax[0].set_ylabel('Loss')\n",
        "ax[0].legend()\n",
        "\n",
        "# accuracy 비교\n",
        "ax[1].plot(epochs, acc, 'bo', label='Training acc')\n",
        "ax[1].plot(epochs, val_acc, 'b', label='Validation acc')\n",
        "ax[1].set_title('Training and validation accuracy')\n",
        "ax[1].set_xlabel('Epochs')\n",
        "ax[1].set_ylabel('Accuracy')\n",
        "ax[1].legend()"
      ],
      "metadata": {
        "colab": {
          "base_uri": "https://localhost:8080/",
          "height": 360
        },
        "id": "mWT_PDksJnKz",
        "outputId": "24476a93-d253-4957-e1da-b716db0c69ad"
      },
      "execution_count": null,
      "outputs": [
        {
          "output_type": "execute_result",
          "data": {
            "text/plain": [
              "<matplotlib.legend.Legend at 0x7ff640fb7250>"
            ]
          },
          "metadata": {},
          "execution_count": 67
        },
        {
          "output_type": "display_data",
          "data": {
            "text/plain": [
              "<Figure size 1440x720 with 2 Axes>"
            ],
            "image/png": "[encoded data removed]"
          },
          "metadata": {
            "needs_background": "light"
          }
        }
      ]
    },
    {
      "cell_type": "markdown",
      "source": [
        "이 모델에서는 epoch=2에서 validation의 loss가 가장낮고, accuracy가 가장 높습니다.\n",
        "# GlobalAveragePooling1D layer"
      ],
      "metadata": {
        "id": "APrG7hfYKZv5"
      }
    },
    {
      "cell_type": "code",
      "source": [
        "history_dict = history_simple.history\n",
        "\n",
        "acc = history_dict['accuracy']\n",
        "val_acc = history_dict['val_accuracy']\n",
        "loss = history_dict['loss']\n",
        "val_loss = history_dict['val_loss']\n",
        "\n",
        "epochs = range(1, len(acc) + 1)\n",
        "\n",
        "fig, ax = plt.subplots(1,2, figsize=(20,10))\n",
        "# loss 비교\n",
        "ax[0].plot(epochs, loss, 'bo', label='Training loss')\n",
        "ax[0].plot(epochs, val_loss, 'b', label='Validation loss')\n",
        "ax[0].set_title('Training and validation loss')\n",
        "ax[0].set_xlabel('Epochs')\n",
        "ax[0].set_ylabel('Loss')\n",
        "ax[0].legend()\n",
        "\n",
        "# accuracy 비교\n",
        "ax[1].plot(epochs, acc, 'bo', label='Training acc')\n",
        "ax[1].plot(epochs, val_acc, 'b', label='Validation acc')\n",
        "ax[1].set_title('Training and validation accuracy')\n",
        "ax[1].set_xlabel('Epochs')\n",
        "ax[1].set_ylabel('Accuracy')\n",
        "ax[1].legend()"
      ],
      "metadata": {
        "colab": {
          "base_uri": "https://localhost:8080/",
          "height": 358
        },
        "id": "rqCpQgVoKs8C",
        "outputId": "1a6f7867-804b-4009-92c1-2e760ac5e2fc"
      },
      "execution_count": null,
      "outputs": [
        {
          "output_type": "execute_result",
          "data": {
            "text/plain": [
              "<matplotlib.legend.Legend at 0x7ff5b8a12d10>"
            ]
          },
          "metadata": {},
          "execution_count": 68
        },
        {
          "output_type": "display_data",
          "data": {
            "text/plain": [
              "<Figure size 1440x720 with 2 Axes>"
            ],
            "image/png": "[encoded data removed]"
          },
          "metadata": {
            "needs_background": "light"
          }
        }
      ]
    },
    {
      "cell_type": "markdown",
      "source": [
        "epoch=4에서 validation의 loss가 가장낮다."
      ],
      "metadata": {
        "id": "TrKALkaTLSBg"
      }
    },
    {
      "cell_type": "markdown",
      "source": [
        "# Step8. 모델 재훈련 및 재평가\n",
        "각 모델마다 최적의 epoch수로 훈련한다음 평가해보겠습니다."
      ],
      "metadata": {
        "id": "5KHUrF8UMMOv"
      }
    },
    {
      "cell_type": "code",
      "source": [
        "# LSTM\n",
        "lstm_re = keras.Sequential()\n",
        "lstm_re.add(keras.layers.Embedding(vocab_size, word_vector_dim, input_shape=(None,)))\n",
        "lstm_re.add(keras.layers.LSTM(8))\n",
        "lstm_re.add(keras.layers.Dense(8, activation='relu'))\n",
        "lstm_re.add(keras.layers.Dense(1, activation='sigmoid'))\n",
        "\n",
        "# 1-D CNN\n",
        "cnn_re = keras.Sequential()\n",
        "cnn_re.add(keras.layers.Embedding(vocab_size, word_vector_dim, input_shape=(None,))) \n",
        "cnn_re.add(keras.layers.Conv1D(16, 7, activation='relu'))\n",
        "cnn_re.add(keras.layers.MaxPooling1D(5))\n",
        "cnn_re.add(keras.layers.Conv1D(16, 7, activation='relu'))\n",
        "cnn_re.add(keras.layers.GlobalMaxPooling1D())\n",
        "cnn_re.add(keras.layers.Dense(16, activation='relu'))\n",
        "cnn_re.add(keras.layers.Dense(1, activation='sigmoid'))\n",
        "\n",
        "# one GlobalAveragePooling layer\n",
        "simple_re = keras.Sequential()\n",
        "simple_re.add(keras.layers.Embedding(vocab_size, word_vector_dim, input_shape=(None,)))\n",
        "simple_re.add(keras.layers.GlobalAveragePooling1D())\n",
        "simple_re.add(keras.layers.Dense(8, activation='relu'))\n",
        "simple_re.add(keras.layers.Dense(1, activation='sigmoid'))\n",
        "\n",
        "# LSTM\n",
        "epochs = 3\n",
        "lstm_re.compile(optimizer='adam',\n",
        "              loss='binary_crossentropy',\n",
        "              metrics=['accuracy'])\n",
        "\n",
        "history_lstm_re = lstm_re.fit(partial_X_train,\n",
        "                    partial_y_train,\n",
        "                    epochs=epochs,\n",
        "                    batch_size=512,\n",
        "                    validation_data=(X_val, y_val),\n",
        "                    verbose=1)\n",
        "\n",
        "# 1-D CNN              \n",
        "epochs = 2\n",
        "cnn_re.compile(optimizer='adam',\n",
        "              loss='binary_crossentropy',\n",
        "              metrics=['accuracy'])\n",
        "\n",
        "\n",
        "history_cnn_re = cnn_re.fit(partial_X_train,\n",
        "                    partial_y_train,\n",
        "                    epochs=epochs,\n",
        "                    batch_size=512,\n",
        "                    validation_data=(X_val, y_val),\n",
        "                    verbose=1)\n",
        "\n",
        "# one GlobalAveragePooling layer\n",
        "epochs = 4 \n",
        "simple_re.compile(optimizer='adam',\n",
        "              loss='binary_crossentropy',\n",
        "              metrics=['accuracy'])\n",
        "\n",
        "history_simple_re = simple_re.fit(partial_X_train,\n",
        "                    partial_y_train,\n",
        "                    epochs=epochs,\n",
        "                    batch_size=512,\n",
        "                    validation_data=(X_val, y_val),\n",
        "                    verbose=1)\n",
        "\n",
        "# LSTM\n",
        "print(\"LSTM\")\n",
        "results_lstm = lstm_re.evaluate(X_test, y_test, verbose=2)\n",
        "print(results_lstm)\n",
        "\n",
        "\n",
        "# 1-D CNN\n",
        "print(\"1-D CNN\")\n",
        "results_cnn = cnn_re.evaluate(X_test, y_test, verbose=2)\n",
        "print(results_cnn)\n",
        "\n",
        "\n",
        "# GlobalAveragePooling1D\n",
        "print(\"GlobalAveragePooling1D layer\")\n",
        "results_simple = simple_re.evaluate(X_test, y_test, verbose=2)\n",
        "print(results_simple)"
      ],
      "metadata": {
        "colab": {
          "base_uri": "https://localhost:8080/"
        },
        "id": "Ht0GWpuVMLrR",
        "outputId": "4cf98767-833a-4813-910e-070e377e48e1"
      },
      "execution_count": 14,
      "outputs": [
        {
          "output_type": "stream",
          "name": "stdout",
          "text": [
            "Epoch 1/3\n",
            "229/229 [==============================] - 9s 11ms/step - loss: 0.4606 - accuracy: 0.7930 - val_loss: 0.3583 - val_accuracy: 0.8454\n",
            "Epoch 2/3\n",
            "229/229 [==============================] - 2s 8ms/step - loss: 0.3226 - accuracy: 0.8649 - val_loss: 0.3447 - val_accuracy: 0.8509\n",
            "Epoch 3/3\n",
            "229/229 [==============================] - 2s 8ms/step - loss: 0.2894 - accuracy: 0.8801 - val_loss: 0.3426 - val_accuracy: 0.8536\n",
            "Epoch 1/2\n",
            "229/229 [==============================] - 9s 8ms/step - loss: 0.4439 - accuracy: 0.7876 - val_loss: 0.3479 - val_accuracy: 0.8458\n",
            "Epoch 2/2\n",
            "229/229 [==============================] - 2s 7ms/step - loss: 0.2991 - accuracy: 0.8757 - val_loss: 0.3310 - val_accuracy: 0.8555\n",
            "Epoch 1/4\n",
            "229/229 [==============================] - 2s 6ms/step - loss: 0.5483 - accuracy: 0.7555 - val_loss: 0.4050 - val_accuracy: 0.8294\n",
            "Epoch 2/4\n",
            "229/229 [==============================] - 1s 6ms/step - loss: 0.3677 - accuracy: 0.8459 - val_loss: 0.3641 - val_accuracy: 0.8451\n",
            "Epoch 3/4\n",
            "229/229 [==============================] - 1s 6ms/step - loss: 0.3376 - accuracy: 0.8580 - val_loss: 0.3587 - val_accuracy: 0.8464\n",
            "Epoch 4/4\n",
            "229/229 [==============================] - 1s 6ms/step - loss: 0.3240 - accuracy: 0.8642 - val_loss: 0.3583 - val_accuracy: 0.8463\n",
            "LSTM\n",
            "1537/1537 - 3s - loss: 0.3506 - accuracy: 0.8481 - 3s/epoch - 2ms/step\n",
            "[0.350645512342453, 0.84805828332901]\n",
            "1-D CNN\n",
            "1537/1537 - 3s - loss: 0.3373 - accuracy: 0.8552 - 3s/epoch - 2ms/step\n",
            "[0.3372935950756073, 0.8551579713821411]\n",
            "GlobalAveragePooling1D layer\n",
            "1537/1537 - 2s - loss: 0.3647 - accuracy: 0.8436 - 2s/epoch - 2ms/step\n",
            "[0.36467307806015015, 0.8436031341552734]\n"
          ]
        }
      ]
    },
    {
      "cell_type": "markdown",
      "source": [
        "### LSTM\n",
        "loss: 0.6778 -> 0.3506   \n",
        "accuracy: 0.8391 -> 0.8481 \n",
        "\n",
        "### 1-D CNN\n",
        "loss: 1.0267 -> 0.3373   \n",
        "accuracy: 0.8261 -> 0.8552\n",
        "\n",
        "### GlobalAveragePooling1D layer\n",
        "loss: 0.3839 -> 0.3647   \n",
        "accuracy: 0.8388 -> 0.8436\n",
        "\n",
        "epoch수를 적절하게주니 성능이 향상된것을 확인할 수 있습니다.\n"
      ],
      "metadata": {
        "id": "NNK4Baj-Qe13"
      }
    },
    {
      "cell_type": "markdown",
      "source": [
        "# Step9. 학습된 Embedding 레이어 분석\n",
        "우리의 감성분류모델이 잘 학습되었다면, Embedding레이어에 학습된 우리의 워드벡터들도 의미공간상에 유의미한 형태로 학습되었을 것입니다. 한번 확인해봅시다."
      ],
      "metadata": {
        "id": "cxwSDbrrRVnA"
      }
    },
    {
      "cell_type": "code",
      "source": [
        "# 각 모델의 embedding레이어의 학습된 파라미터를 불러옵니다.\n",
        "embedding_lstm = lstm.layers[0]\n",
        "weights_lstm = embedding_lstm.get_weights()[0]\n",
        "\n",
        "embedding_cnn = cnn.layers[0]\n",
        "weights_cnn = embedding_cnn.get_weights()[0]\n",
        "\n",
        "embedding_simple = simple.layers[0]\n",
        "weights_simple = embedding_simple.get_weights()[0]\n",
        "\n",
        "# 각 모델에서 학습한 Embedding 파라미터를 파일에 써서 저장하고, 워드벡터를 파일에 기록합니다.\n",
        "word2vec_file_path_lstm = '/content/drive/MyDrive/Exploration_Data/ex8/word2vec_lstm.txt'\n",
        "f = open(word2vec_file_path_lstm, 'w')\n",
        "f.write('{} {}\\n'.format(vocab_size-4, word_vector_dim))\n",
        "\n",
        "vectors = lstm.get_weights()[0]\n",
        "for i in range(4,vocab_size):\n",
        "    f.write('{} {}\\n'.format(index_to_word[i], ' '.join(map(str, list(vectors[i, :])))))\n",
        "f.close()\n",
        "\n",
        "word2vec_file_path_cnn = '/content/drive/MyDrive/Exploration_Data/ex8/word2vec_cnn.txt'\n",
        "f = open(word2vec_file_path_cnn, 'w')\n",
        "f.write('{} {}\\n'.format(vocab_size-4, word_vector_dim))\n",
        "\n",
        "vectors = cnn.get_weights()[0]\n",
        "for i in range(4,vocab_size):\n",
        "    f.write('{} {}\\n'.format(index_to_word[i], ' '.join(map(str, list(vectors[i, :])))))\n",
        "f.close()\n",
        "\n",
        "word2vec_file_path_simple = '/content/drive/MyDrive/Exploration_Data/ex8/word2vec_simple.txt'\n",
        "f = open(word2vec_file_path_simple, 'w')\n",
        "f.write('{} {}\\n'.format(vocab_size-4, word_vector_dim))\n",
        "\n",
        "vectors = simple.get_weights()[0]\n",
        "for i in range(4,vocab_size):\n",
        "    f.write('{} {}\\n'.format(index_to_word[i], ' '.join(map(str, list(vectors[i, :])))))\n",
        "f.close()\n",
        "\n",
        "# gensim에서 제공하는 패키지를 이용해, 위에서 기록한 임베딩 파라미터를 읽어서 워드벡터로 활용할 수 있습니다.\n",
        "word_vectors_lstm = Word2VecKeyedVectors.load_word2vec_format(word2vec_file_path_lstm, binary=False)\n",
        "\n",
        "word_vectors_cnn = Word2VecKeyedVectors.load_word2vec_format(word2vec_file_path_cnn, binary=False)\n",
        "\n",
        "word_vectors_simple = Word2VecKeyedVectors.load_word2vec_format(word2vec_file_path_simple, binary=False)"
      ],
      "metadata": {
        "id": "DcYGte-8UqMC"
      },
      "execution_count": 15,
      "outputs": []
    },
    {
      "cell_type": "markdown",
      "source": [
        "love의 워드벡터를 뽑아봅시다."
      ],
      "metadata": {
        "id": "2QPr5FJPXaRN"
      }
    },
    {
      "cell_type": "code",
      "source": [
        "word_vectors_lstm['배우']"
      ],
      "metadata": {
        "colab": {
          "base_uri": "https://localhost:8080/"
        },
        "id": "1DQPvHsiXIw4",
        "outputId": "f9cd391b-2c13-4ca6-f1a9-e3096b28cb9c"
      },
      "execution_count": 16,
      "outputs": [
        {
          "output_type": "execute_result",
          "data": {
            "text/plain": [
              "array([-0.01199415, -0.03904248, -0.02834315, -0.04132614, -0.04912091,\n",
              "       -0.00369572, -0.02101088, -0.01012273,  0.04039432, -0.03634325,\n",
              "       -0.04770596,  0.02330395, -0.04677956,  0.02888172,  0.01529131,\n",
              "        0.01358104,  0.02554793, -0.00369247,  0.03494194, -0.01049959,\n",
              "        0.04121914,  0.00361197, -0.0240436 , -0.04423371, -0.04275915,\n",
              "       -0.00277932,  0.03882157,  0.03280394, -0.0167039 , -0.03753478,\n",
              "        0.04233963, -0.01110805,  0.01850775, -0.04056568, -0.03926761,\n",
              "        0.03425819,  0.02081677,  0.00600005, -0.03908116,  0.03550898,\n",
              "        0.04857211, -0.00311558, -0.02033389,  0.02710643,  0.00659144,\n",
              "       -0.02884301, -0.0470481 ,  0.02689452, -0.00403278, -0.04907119,\n",
              "        0.0249658 ,  0.01935966, -0.04195846,  0.04977334,  0.00692462,\n",
              "       -0.01927794, -0.04476476,  0.02290637,  0.0369074 , -0.03180386,\n",
              "        0.00147017, -0.03254851, -0.04679778, -0.03606772,  0.04294163,\n",
              "        0.00544405, -0.01433926, -0.01260455, -0.01868746,  0.04765641,\n",
              "        0.01752589,  0.02709702, -0.0344453 ,  0.04994148,  0.03942604,\n",
              "        0.01973407,  0.01362551,  0.01734099,  0.00058673, -0.03561865,\n",
              "        0.02267123,  0.0115453 , -0.00143582,  0.04418346, -0.00202799,\n",
              "       -0.04381153,  0.00692032,  0.02754131, -0.00838009, -0.04182835,\n",
              "        0.03481171, -0.02867738, -0.00250633, -0.00352181, -0.03387473,\n",
              "        0.02301132, -0.00559738, -0.00061817, -0.00193106,  0.02812022,\n",
              "       -0.01399295,  0.00393765, -0.02485899,  0.00262539, -0.03768389,\n",
              "       -0.04175033,  0.03887783, -0.04344956,  0.01844868, -0.01331581,\n",
              "        0.03333126,  0.00501107,  0.03992105, -0.03101914, -0.03107394,\n",
              "       -0.02141844, -0.02315894,  0.01904215, -0.02331586, -0.01289426,\n",
              "       -0.01464149,  0.01182619,  0.01409094, -0.03160606,  0.00615267,\n",
              "        0.01792488,  0.04851818,  0.02493039,  0.03371644, -0.02211542,\n",
              "       -0.03427716,  0.01288445, -0.00565052, -0.03231255,  0.04092338,\n",
              "       -0.03668831,  0.00138889,  0.02757825,  0.03067063,  0.04684767,\n",
              "       -0.00426018, -0.01805009,  0.04612437,  0.02034939, -0.04249654,\n",
              "        0.02843778, -0.00905174, -0.02173034, -0.03815184,  0.03494649,\n",
              "        0.03775625,  0.04113084, -0.01201947,  0.01560564,  0.03821767,\n",
              "       -0.01822435,  0.02681882,  0.0012895 , -0.00494593,  0.03581233,\n",
              "       -0.00257661, -0.01937392, -0.04734937,  0.00769173, -0.0080291 ,\n",
              "       -0.0293348 ,  0.03857299, -0.00775665,  0.01218133,  0.00915346,\n",
              "        0.00296129,  0.02337331,  0.00264551,  0.044005  , -0.01509447,\n",
              "        0.04519153,  0.03621341,  0.0299539 , -0.0113465 ,  0.04863261,\n",
              "       -0.03583083,  0.02235789, -0.04541323, -0.0439445 , -0.0344383 ,\n",
              "       -0.03629644, -0.01236777,  0.00180016, -0.03494541,  0.03250741,\n",
              "       -0.00574499,  0.03741347,  0.01325383, -0.03378711,  0.00981309,\n",
              "       -0.00774125, -0.01444482, -0.03569653,  0.03230481, -0.00322931],\n",
              "      dtype=float32)"
            ]
          },
          "metadata": {},
          "execution_count": 16
        }
      ]
    },
    {
      "cell_type": "markdown",
      "source": [
        "워드벡터가 의미벡터 공간상에 유의미하게 학습되었는지 확인하는 방법은 단어하나와 유사한 단어를 출력해보는 것입니다."
      ],
      "metadata": {
        "id": "ij5F-C2hXhEF"
      }
    },
    {
      "cell_type": "code",
      "source": [
        "word_vectors_lstm.similar_by_word(\"배우\")"
      ],
      "metadata": {
        "colab": {
          "base_uri": "https://localhost:8080/"
        },
        "id": "aBHFpOQOXt4o",
        "outputId": "2f60b711-3d48-4238-b666-37cd4ed285e3"
      },
      "execution_count": 17,
      "outputs": [
        {
          "output_type": "execute_result",
          "data": {
            "text/plain": [
              "[('점프', 0.26517772674560547),\n",
              " ('서로', 0.254358172416687),\n",
              " ('조카', 0.25266098976135254),\n",
              " ('썅', 0.23933501541614532),\n",
              " ('으며', 0.23586106300354004),\n",
              " ('학생', 0.23533517122268677),\n",
              " ('우연히', 0.23370225727558136),\n",
              " ('수년', 0.22750626504421234),\n",
              " ('아마존', 0.22482405602931976),\n",
              " ('소외', 0.2119571417570114)]"
            ]
          },
          "metadata": {},
          "execution_count": 17
        }
      ]
    },
    {
      "cell_type": "markdown",
      "source": [
        "'배우'라는 단어와 유사한 다른 단어를 잘 찾았다고 느껴지지는 않습니다. 아무래도 잠깐 학습한것만으로는 유의미한 학습이 이루어지기는 어려운거같습니다. 따라서 사전학습된 모델을 가져다 활용해 보겠습니다."
      ],
      "metadata": {
        "id": "xx9RQfbRaBoL"
      }
    },
    {
      "cell_type": "markdown",
      "source": [
        "# Step10. 한국어 Word2Vec 임베딩 활용하여 성능 개선"
      ],
      "metadata": {
        "id": "1oSeEMjqapQ6"
      }
    },
    {
      "cell_type": "code",
      "source": [
        "import pprint\n",
        "\n",
        "path = '/content/drive/MyDrive/Exploration_Data/ex8/word2vec_ko.model'\n",
        "ko_vec = Word2Vec.load(path)\n",
        "\n",
        "print(ko_vec.wv[\"배우\"])\n",
        "pprint.pprint(ko_vec.wv.most_similar(\"배우\"))\n",
        "\n",
        "ko_vec = ko_vec.wv"
      ],
      "metadata": {
        "colab": {
          "base_uri": "https://localhost:8080/"
        },
        "id": "yzCmU9Cfanz4",
        "outputId": "e9687490-93f2-4a63-cb13-2a558b32570a"
      },
      "execution_count": 18,
      "outputs": [
        {
          "output_type": "stream",
          "name": "stdout",
          "text": [
            "[-0.58881295 -4.3877287  -3.4858546  -2.3084912   0.87703085  6.4445586\n",
            " -1.1062126  -2.2230182  -0.78621733  1.9408462  -1.1357461   1.0119969\n",
            " -0.30329964 -5.455517    2.6356647  -5.2909884  -1.744448    2.5409734\n",
            "  3.716852   -1.4752581  -1.1985137   3.5504315  -0.41522408 -0.2436183\n",
            "  1.5218438  -3.4603841   1.1120543   0.39729053 -2.707328    1.3680482\n",
            " -4.2843776   3.014664    2.6393197   0.9804478  -1.0825127   3.6201363\n",
            "  3.1546066   0.9634868   1.3677765   0.82937515  1.9380125  -2.6699877\n",
            " -0.41389105  2.7402463   3.415545   -0.37949705  4.4021254   1.2531414\n",
            "  2.504994    0.33631453 -2.0658643  -3.1885884   6.659477   -5.47897\n",
            "  3.1113489   1.6667893   2.8441331  -1.1597652  -0.19843072 -0.07214008\n",
            "  0.47545317  4.105001   -0.20690314 -4.399607   -0.32254001  2.030352\n",
            "  0.35149667 -4.0907154   1.12323    -1.873176    2.422429    1.9751279\n",
            " -0.9144355   4.34507    -1.0122209   3.4604955  -2.2505796  -5.2072535\n",
            "  1.4032923   0.7049264   2.6884458   0.11147156  1.4308741   0.03026572\n",
            " -2.052697    0.6662683   0.4130495   4.2908173   7.811309    0.06473196\n",
            "  1.5252742  -0.71593237 -2.8860767  -5.213696    0.40684175 -2.500051\n",
            " -4.5866146  -1.9781905   1.3422341   0.08727098]\n",
            "[('가수', 0.7729029655456543),\n",
            " ('코미디언', 0.7728644013404846),\n",
            " ('만화가', 0.749615490436554),\n",
            " ('영화배우', 0.7441834211349487),\n",
            " ('여배우', 0.7411354780197144),\n",
            " ('연출가', 0.7396706342697144),\n",
            " ('극작가', 0.7209770679473877),\n",
            " ('삽화가', 0.7152644395828247),\n",
            " ('안무가', 0.7149248123168945),\n",
            " ('무용가', 0.7118033170700073)]\n"
          ]
        }
      ]
    },
    {
      "cell_type": "markdown",
      "source": [
        "이전 제가 만들었던 모델에 비해 훨씬 의미적으로 유사하네요.\n",
        "이제 이전에 학습했던 모델의 임베딩 레이어를 Word2Vec의 것으로 교체하여 다시 학습시켜보겠습니다."
      ],
      "metadata": {
        "id": "CXQKkQLawPMJ"
      }
    },
    {
      "cell_type": "code",
      "source": [
        "# embedding_matrix에 Word2Vec 워드 벡터를 단어 하나씩마다 차례차례 카피한다.\n",
        "vocab_size_ko_vec = 10000\n",
        "word_vector_dim_ko_vec = 100\n",
        "\n",
        "embedding_matrix = np.random.rand(vocab_size_ko_vec, word_vector_dim_ko_vec)\n",
        "\n",
        "for i in range(4,vocab_size_ko_vec):\n",
        "    if index_to_word[i] in ko_vec:\n",
        "        embedding_matrix[i] = ko_vec[index_to_word[i]]\n",
        "\n",
        "# 네트워크 구성\n",
        "vocab_size = 10000\n",
        "word_vector_dim = 100 \n",
        "\n",
        "# LSTM\n",
        "lstm = keras.Sequential()\n",
        "lstm.add(keras.layers.Embedding(vocab_size, \n",
        "                                 word_vector_dim, \n",
        "                                 embeddings_initializer=Constant(embedding_matrix),\n",
        "                                 input_length=maxlen, \n",
        "                                 trainable=True))\n",
        "lstm.add(keras.layers.LSTM(128))\n",
        "lstm.add(keras.layers.Dense(128, activation='relu'))\n",
        "lstm.add(keras.layers.Dense(1, activation='sigmoid'))\n",
        "\n",
        "# 1-D CNN\n",
        "cnn = keras.Sequential()\n",
        "cnn.add(keras.layers.Embedding(vocab_size, \n",
        "                                 word_vector_dim, \n",
        "                                 embeddings_initializer=Constant(embedding_matrix),\n",
        "                                 input_length=maxlen, \n",
        "                                 trainable=True))\n",
        "cnn.add(keras.layers.Dropout(0.5))\n",
        "cnn.add(keras.layers.Conv1D(512, 7, activation='relu'))\n",
        "cnn.add(keras.layers.MaxPooling1D(5))\n",
        "cnn.add(keras.layers.Conv1D(512, 7, activation='relu'))\n",
        "cnn.add(keras.layers.GlobalMaxPooling1D())\n",
        "cnn.add(keras.layers.Dense(256, activation='relu'))\n",
        "cnn.add(keras.layers.Dense(1, activation='sigmoid'))\n",
        "\n",
        "# one GlobalAveragePooling1D layer\n",
        "simple = keras.Sequential()\n",
        "simple.add(keras.layers.Embedding(vocab_size, \n",
        "                                 word_vector_dim, \n",
        "                                 embeddings_initializer=Constant(embedding_matrix),\n",
        "                                 input_length=maxlen, \n",
        "                                 trainable=True))\n",
        "\n",
        "simple.add(keras.layers.GlobalAveragePooling1D())\n",
        "simple.add(keras.layers.Dense(128, activation='relu'))\n",
        "simple.add(keras.layers.Dropout(0.1))\n",
        "simple.add(keras.layers.Dense(1, activation='sigmoid'))\n"
      ],
      "metadata": {
        "id": "Ark09-2ExQTt"
      },
      "execution_count": 19,
      "outputs": []
    },
    {
      "cell_type": "markdown",
      "source": [
        "## 모델 훈련"
      ],
      "metadata": {
        "id": "i6KkPEZuyKyc"
      }
    },
    {
      "cell_type": "code",
      "source": [
        "epochs = 4\n",
        "\n",
        "lstm.compile(optimizer='adam',\n",
        "              loss='binary_crossentropy',\n",
        "              metrics=['accuracy'])\n",
        "\n",
        "history_lstm = lstm.fit(partial_X_train,\n",
        "                    partial_y_train,\n",
        "                    epochs=epochs,\n",
        "                    batch_size=512,\n",
        "                    validation_data=(X_val, y_val),\n",
        "                    verbose=1)\n",
        "cnn.compile(optimizer='adam',\n",
        "              loss='binary_crossentropy',\n",
        "              metrics=['accuracy'])\n",
        "\n",
        "epochs = 10\n",
        "\n",
        "history_cnn = cnn.fit(partial_X_train,\n",
        "                    partial_y_train,\n",
        "                    epochs=epochs,\n",
        "                    batch_size=512,\n",
        "                    validation_data=(X_val, y_val),\n",
        "                    verbose=1)\n",
        "                    \n",
        "epochs = 8\n",
        "\n",
        "simple.compile(optimizer='adam',\n",
        "              loss='binary_crossentropy',\n",
        "              metrics=['accuracy'])\n",
        "\n",
        "history_simple = simple.fit(partial_X_train,\n",
        "                    partial_y_train,\n",
        "                    epochs=epochs,\n",
        "                    batch_size=512,\n",
        "                    validation_data=(X_val, y_val),\n",
        "                    verbose=1)"
      ],
      "metadata": {
        "colab": {
          "base_uri": "https://localhost:8080/"
        },
        "id": "PBPl_UCoyMLt",
        "outputId": "fce77f69-b268-4bbb-96fe-7ed0e5ce9d5a"
      },
      "execution_count": 20,
      "outputs": [
        {
          "output_type": "stream",
          "name": "stdout",
          "text": [
            "Epoch 1/4\n",
            "229/229 [==============================] - 4s 13ms/step - loss: 0.4707 - accuracy: 0.7720 - val_loss: 0.3883 - val_accuracy: 0.8244\n",
            "Epoch 2/4\n",
            "229/229 [==============================] - 3s 13ms/step - loss: 0.3542 - accuracy: 0.8438 - val_loss: 0.3503 - val_accuracy: 0.8412\n",
            "Epoch 3/4\n",
            "229/229 [==============================] - 2s 11ms/step - loss: 0.3068 - accuracy: 0.8682 - val_loss: 0.3314 - val_accuracy: 0.8570\n",
            "Epoch 4/4\n",
            "229/229 [==============================] - 3s 11ms/step - loss: 0.2747 - accuracy: 0.8845 - val_loss: 0.3292 - val_accuracy: 0.8576\n",
            "Epoch 1/10\n",
            "229/229 [==============================] - 6s 22ms/step - loss: 0.7067 - accuracy: 0.6485 - val_loss: 0.5473 - val_accuracy: 0.7181\n",
            "Epoch 2/10\n",
            "229/229 [==============================] - 5s 20ms/step - loss: 0.5073 - accuracy: 0.7506 - val_loss: 0.4581 - val_accuracy: 0.7869\n",
            "Epoch 3/10\n",
            "229/229 [==============================] - 5s 20ms/step - loss: 0.4550 - accuracy: 0.7834 - val_loss: 0.4051 - val_accuracy: 0.8141\n",
            "Epoch 4/10\n",
            "229/229 [==============================] - 5s 20ms/step - loss: 0.4198 - accuracy: 0.8044 - val_loss: 0.3968 - val_accuracy: 0.8158\n",
            "Epoch 5/10\n",
            "229/229 [==============================] - 5s 20ms/step - loss: 0.3957 - accuracy: 0.8191 - val_loss: 0.3723 - val_accuracy: 0.8319\n",
            "Epoch 6/10\n",
            "229/229 [==============================] - 5s 20ms/step - loss: 0.3758 - accuracy: 0.8308 - val_loss: 0.3649 - val_accuracy: 0.8349\n",
            "Epoch 7/10\n",
            "229/229 [==============================] - 5s 20ms/step - loss: 0.3603 - accuracy: 0.8397 - val_loss: 0.3534 - val_accuracy: 0.8441\n",
            "Epoch 8/10\n",
            "229/229 [==============================] - 5s 20ms/step - loss: 0.3469 - accuracy: 0.8466 - val_loss: 0.3470 - val_accuracy: 0.8456\n",
            "Epoch 9/10\n",
            "229/229 [==============================] - 5s 20ms/step - loss: 0.3359 - accuracy: 0.8512 - val_loss: 0.3430 - val_accuracy: 0.8476\n",
            "Epoch 10/10\n",
            "229/229 [==============================] - 5s 20ms/step - loss: 0.3240 - accuracy: 0.8574 - val_loss: 0.3417 - val_accuracy: 0.8467\n",
            "Epoch 1/8\n",
            "229/229 [==============================] - 2s 5ms/step - loss: 0.5769 - accuracy: 0.6960 - val_loss: 0.4990 - val_accuracy: 0.7643\n",
            "Epoch 2/8\n",
            "229/229 [==============================] - 1s 5ms/step - loss: 0.4635 - accuracy: 0.7861 - val_loss: 0.4306 - val_accuracy: 0.8066\n",
            "Epoch 3/8\n",
            "229/229 [==============================] - 1s 5ms/step - loss: 0.4088 - accuracy: 0.8168 - val_loss: 0.3961 - val_accuracy: 0.8229\n",
            "Epoch 4/8\n",
            "229/229 [==============================] - 1s 5ms/step - loss: 0.3766 - accuracy: 0.8343 - val_loss: 0.3793 - val_accuracy: 0.8320\n",
            "Epoch 5/8\n",
            "229/229 [==============================] - 1s 5ms/step - loss: 0.3573 - accuracy: 0.8442 - val_loss: 0.3658 - val_accuracy: 0.8378\n",
            "Epoch 6/8\n",
            "229/229 [==============================] - 1s 5ms/step - loss: 0.3423 - accuracy: 0.8518 - val_loss: 0.3590 - val_accuracy: 0.8406\n",
            "Epoch 7/8\n",
            "229/229 [==============================] - 1s 5ms/step - loss: 0.3331 - accuracy: 0.8568 - val_loss: 0.3543 - val_accuracy: 0.8438\n",
            "Epoch 8/8\n",
            "229/229 [==============================] - 1s 5ms/step - loss: 0.3254 - accuracy: 0.8599 - val_loss: 0.3611 - val_accuracy: 0.8399\n"
          ]
        }
      ]
    },
    {
      "cell_type": "markdown",
      "source": [
        "## 모델 평가"
      ],
      "metadata": {
        "id": "NEHj2fOe2hgi"
      }
    },
    {
      "cell_type": "code",
      "source": [
        "# LSTM\n",
        "results_lstm = lstm.evaluate(X_test, y_test, verbose=2)\n",
        "print(results_lstm)\n",
        "\n",
        "# 1-D CNN\n",
        "results_cnn = cnn.evaluate(X_test, y_test, verbose=2)\n",
        "print(results_cnn)\n",
        "\n",
        "# one GlobalAveragePooling1D layer\n",
        "results_simple = simple.evaluate(X_test, y_test, verbose=2)\n",
        "print(results_simple)"
      ],
      "metadata": {
        "colab": {
          "base_uri": "https://localhost:8080/"
        },
        "id": "FzVtwR1m2j1f",
        "outputId": "2cd8bf37-71d3-471e-befa-65293bcb2a36"
      },
      "execution_count": 21,
      "outputs": [
        {
          "output_type": "stream",
          "name": "stdout",
          "text": [
            "1537/1537 - 4s - loss: 0.3338 - accuracy: 0.8581 - 4s/epoch - 2ms/step\n",
            "[0.333842396736145, 0.8581483960151672]\n",
            "1537/1537 - 4s - loss: 0.3469 - accuracy: 0.8476 - 4s/epoch - 2ms/step\n",
            "[0.3469126522541046, 0.84757000207901]\n",
            "1537/1537 - 2s - loss: 0.3675 - accuracy: 0.8392 - 2s/epoch - 2ms/step\n",
            "[0.3674965500831604, 0.83916836977005]\n"
          ]
        }
      ]
    },
    {
      "cell_type": "markdown",
      "source": [
        "# 회고\n",
        "- 이번 EX8은 처음부터 조금 고난이었는데 Mecab을 설치하는데 시행착오가 좀 있었다. 그래도 구글링을 통해 여러시도끝에 Mecab을 성공적으로 불러왔다. \n",
        "- 진행하면서 총 3가지 모델을 사용했는데, LSTM모델이 아니더라도 다른 모델도 성공적으로 잘 작동되었고 특히 one GlobalAveragePooling layer모델이 다른모델에비해 훈련시간이 매우 빠르다는것을 느꼈다. 빠른훈련속도에비해 성능도 뒤쳐지지않아서 효율이 좋은 모델인것같다.\n",
        "- 에포크를 어떻게 설정하느냐에따라 모델의 성능이 많이 달라진다는것을 배웠다.\n",
        "- 워드벡터개념에대해 한층더 깊게 이해할 수 있는시간이었다.\n",
        "- 사전학습된 임베딩모델을 활용함으로써 전이학습에대해 배울 수 있었다."
      ],
      "metadata": {
        "id": "SLCtoAjz4pjS"
      }
    }
  ]
}